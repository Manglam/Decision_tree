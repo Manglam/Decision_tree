{
 "cells": [
  {
   "cell_type": "markdown",
   "id": "3009f645",
   "metadata": {},
   "source": [
    "# Q13\n",
    "\n",
    "Tree Based Models - Q13 - 18/July\n",
    "\n",
    "We are interested in understanding what impacts the mileage of cars. \n",
    "400 cars were measured and its data is available in the file 06_Car_mileage.csv. \n",
    "\n",
    "https://drive.google.com/drive/folders/1Jl8iDu7nGmrqCECbrLqmVafgwE5PYfiU\n",
    "\n",
    "    1) Train a decision tree and identify the features that impact the mileage of cars. \n",
    "        Note that cylinders though numerical can only take specific values, and origin is categorical.\n",
    "    2) How good would the prediction be if we use 300 cars for training and test it on the rest of the data?\n",
    "    3) Are there outliers that influence the result? How can we minimize the impact of outliers?"
   ]
  },
  {
   "cell_type": "code",
   "execution_count": 1,
   "id": "d293065a",
   "metadata": {},
   "outputs": [],
   "source": [
    "import pandas as pd\n",
    "import numpy as np\n",
    "\n",
    "from sklearn.tree import DecisionTreeRegressor\n",
    "from sklearn.model_selection import train_test_split, GridSearchCV\n",
    "from sklearn.metrics import mean_squared_error\n",
    "from sklearn.neighbors import LocalOutlierFactor # for outlier detection and removal\n",
    "\n",
    "import warnings\n",
    "warnings.filterwarnings(\"ignore\")"
   ]
  },
  {
   "cell_type": "code",
   "execution_count": 2,
   "id": "2e37a4f9",
   "metadata": {},
   "outputs": [
    {
     "data": {
      "text/html": [
       "<div>\n",
       "<style scoped>\n",
       "    .dataframe tbody tr th:only-of-type {\n",
       "        vertical-align: middle;\n",
       "    }\n",
       "\n",
       "    .dataframe tbody tr th {\n",
       "        vertical-align: top;\n",
       "    }\n",
       "\n",
       "    .dataframe thead th {\n",
       "        text-align: right;\n",
       "    }\n",
       "</style>\n",
       "<table border=\"1\" class=\"dataframe\">\n",
       "  <thead>\n",
       "    <tr style=\"text-align: right;\">\n",
       "      <th></th>\n",
       "      <th>cylinders</th>\n",
       "      <th>displacement</th>\n",
       "      <th>hp</th>\n",
       "      <th>weight</th>\n",
       "      <th>acceleration</th>\n",
       "      <th>origin</th>\n",
       "      <th>mpg</th>\n",
       "    </tr>\n",
       "  </thead>\n",
       "  <tbody>\n",
       "    <tr>\n",
       "      <th>0</th>\n",
       "      <td>8</td>\n",
       "      <td>307.0</td>\n",
       "      <td>130.0</td>\n",
       "      <td>3504</td>\n",
       "      <td>12.0</td>\n",
       "      <td>1</td>\n",
       "      <td>18.0</td>\n",
       "    </tr>\n",
       "    <tr>\n",
       "      <th>1</th>\n",
       "      <td>8</td>\n",
       "      <td>350.0</td>\n",
       "      <td>165.0</td>\n",
       "      <td>3693</td>\n",
       "      <td>11.5</td>\n",
       "      <td>1</td>\n",
       "      <td>15.0</td>\n",
       "    </tr>\n",
       "  </tbody>\n",
       "</table>\n",
       "</div>"
      ],
      "text/plain": [
       "   cylinders  displacement     hp  weight  acceleration  origin   mpg\n",
       "0          8         307.0  130.0    3504          12.0       1  18.0\n",
       "1          8         350.0  165.0    3693          11.5       1  15.0"
      ]
     },
     "execution_count": 2,
     "metadata": {},
     "output_type": "execute_result"
    }
   ],
   "source": [
    "df = pd.read_csv(\"06_Car_mileage.csv\")\n",
    "df['hp'] = pd.to_numeric(df['hp'], errors='coerce')\n",
    "df.dropna(inplace=True)\n",
    "df.head(2)"
   ]
  },
  {
   "cell_type": "code",
   "execution_count": 3,
   "id": "9ac377fc",
   "metadata": {},
   "outputs": [],
   "source": [
    "#df[df['hp'].isnull()]"
   ]
  },
  {
   "cell_type": "code",
   "execution_count": 4,
   "id": "c5e9ee90",
   "metadata": {},
   "outputs": [
    {
     "data": {
      "text/plain": [
       "(392, 7)"
      ]
     },
     "execution_count": 4,
     "metadata": {},
     "output_type": "execute_result"
    }
   ],
   "source": [
    "df.shape"
   ]
  },
  {
   "cell_type": "code",
   "execution_count": 5,
   "id": "ffb9a8f7",
   "metadata": {},
   "outputs": [
    {
     "data": {
      "text/html": [
       "<div>\n",
       "<style scoped>\n",
       "    .dataframe tbody tr th:only-of-type {\n",
       "        vertical-align: middle;\n",
       "    }\n",
       "\n",
       "    .dataframe tbody tr th {\n",
       "        vertical-align: top;\n",
       "    }\n",
       "\n",
       "    .dataframe thead th {\n",
       "        text-align: right;\n",
       "    }\n",
       "</style>\n",
       "<table border=\"1\" class=\"dataframe\">\n",
       "  <thead>\n",
       "    <tr style=\"text-align: right;\">\n",
       "      <th></th>\n",
       "      <th>cylinders</th>\n",
       "      <th>displacement</th>\n",
       "      <th>hp</th>\n",
       "      <th>weight</th>\n",
       "      <th>acceleration</th>\n",
       "      <th>origin</th>\n",
       "      <th>mpg</th>\n",
       "    </tr>\n",
       "  </thead>\n",
       "  <tbody>\n",
       "    <tr>\n",
       "      <th>count</th>\n",
       "      <td>392.000000</td>\n",
       "      <td>392.000000</td>\n",
       "      <td>392.000000</td>\n",
       "      <td>392.000000</td>\n",
       "      <td>392.000000</td>\n",
       "      <td>392.000000</td>\n",
       "      <td>392.000000</td>\n",
       "    </tr>\n",
       "    <tr>\n",
       "      <th>mean</th>\n",
       "      <td>5.471939</td>\n",
       "      <td>194.411990</td>\n",
       "      <td>104.469388</td>\n",
       "      <td>2977.584184</td>\n",
       "      <td>15.541327</td>\n",
       "      <td>1.576531</td>\n",
       "      <td>23.445918</td>\n",
       "    </tr>\n",
       "    <tr>\n",
       "      <th>std</th>\n",
       "      <td>1.705783</td>\n",
       "      <td>104.644004</td>\n",
       "      <td>38.491160</td>\n",
       "      <td>849.402560</td>\n",
       "      <td>2.758864</td>\n",
       "      <td>0.805518</td>\n",
       "      <td>7.805007</td>\n",
       "    </tr>\n",
       "    <tr>\n",
       "      <th>min</th>\n",
       "      <td>3.000000</td>\n",
       "      <td>68.000000</td>\n",
       "      <td>46.000000</td>\n",
       "      <td>1613.000000</td>\n",
       "      <td>8.000000</td>\n",
       "      <td>1.000000</td>\n",
       "      <td>9.000000</td>\n",
       "    </tr>\n",
       "    <tr>\n",
       "      <th>25%</th>\n",
       "      <td>4.000000</td>\n",
       "      <td>105.000000</td>\n",
       "      <td>75.000000</td>\n",
       "      <td>2225.250000</td>\n",
       "      <td>13.775000</td>\n",
       "      <td>1.000000</td>\n",
       "      <td>17.000000</td>\n",
       "    </tr>\n",
       "    <tr>\n",
       "      <th>50%</th>\n",
       "      <td>4.000000</td>\n",
       "      <td>151.000000</td>\n",
       "      <td>93.500000</td>\n",
       "      <td>2803.500000</td>\n",
       "      <td>15.500000</td>\n",
       "      <td>1.000000</td>\n",
       "      <td>22.750000</td>\n",
       "    </tr>\n",
       "    <tr>\n",
       "      <th>75%</th>\n",
       "      <td>8.000000</td>\n",
       "      <td>275.750000</td>\n",
       "      <td>126.000000</td>\n",
       "      <td>3614.750000</td>\n",
       "      <td>17.025000</td>\n",
       "      <td>2.000000</td>\n",
       "      <td>29.000000</td>\n",
       "    </tr>\n",
       "    <tr>\n",
       "      <th>max</th>\n",
       "      <td>8.000000</td>\n",
       "      <td>455.000000</td>\n",
       "      <td>230.000000</td>\n",
       "      <td>5140.000000</td>\n",
       "      <td>24.800000</td>\n",
       "      <td>3.000000</td>\n",
       "      <td>46.600000</td>\n",
       "    </tr>\n",
       "  </tbody>\n",
       "</table>\n",
       "</div>"
      ],
      "text/plain": [
       "        cylinders  displacement          hp       weight  acceleration  \\\n",
       "count  392.000000    392.000000  392.000000   392.000000    392.000000   \n",
       "mean     5.471939    194.411990  104.469388  2977.584184     15.541327   \n",
       "std      1.705783    104.644004   38.491160   849.402560      2.758864   \n",
       "min      3.000000     68.000000   46.000000  1613.000000      8.000000   \n",
       "25%      4.000000    105.000000   75.000000  2225.250000     13.775000   \n",
       "50%      4.000000    151.000000   93.500000  2803.500000     15.500000   \n",
       "75%      8.000000    275.750000  126.000000  3614.750000     17.025000   \n",
       "max      8.000000    455.000000  230.000000  5140.000000     24.800000   \n",
       "\n",
       "           origin         mpg  \n",
       "count  392.000000  392.000000  \n",
       "mean     1.576531   23.445918  \n",
       "std      0.805518    7.805007  \n",
       "min      1.000000    9.000000  \n",
       "25%      1.000000   17.000000  \n",
       "50%      1.000000   22.750000  \n",
       "75%      2.000000   29.000000  \n",
       "max      3.000000   46.600000  "
      ]
     },
     "execution_count": 5,
     "metadata": {},
     "output_type": "execute_result"
    }
   ],
   "source": [
    "df.describe()"
   ]
  },
  {
   "cell_type": "markdown",
   "id": "5ad799f7",
   "metadata": {},
   "source": [
    "# 1. Train a decision tree and identify the features that impact the mileage of cars. "
   ]
  },
  {
   "cell_type": "code",
   "execution_count": 6,
   "id": "2116223d",
   "metadata": {},
   "outputs": [
    {
     "data": {
      "text/html": [
       "<div>\n",
       "<style scoped>\n",
       "    .dataframe tbody tr th:only-of-type {\n",
       "        vertical-align: middle;\n",
       "    }\n",
       "\n",
       "    .dataframe tbody tr th {\n",
       "        vertical-align: top;\n",
       "    }\n",
       "\n",
       "    .dataframe thead th {\n",
       "        text-align: right;\n",
       "    }\n",
       "</style>\n",
       "<table border=\"1\" class=\"dataframe\">\n",
       "  <thead>\n",
       "    <tr style=\"text-align: right;\">\n",
       "      <th></th>\n",
       "      <th>displacement</th>\n",
       "      <th>hp</th>\n",
       "      <th>weight</th>\n",
       "      <th>acceleration</th>\n",
       "      <th>mpg</th>\n",
       "      <th>cylinders_3</th>\n",
       "      <th>cylinders_4</th>\n",
       "      <th>cylinders_5</th>\n",
       "      <th>cylinders_6</th>\n",
       "      <th>cylinders_8</th>\n",
       "      <th>origin_1</th>\n",
       "      <th>origin_2</th>\n",
       "      <th>origin_3</th>\n",
       "    </tr>\n",
       "  </thead>\n",
       "  <tbody>\n",
       "    <tr>\n",
       "      <th>0</th>\n",
       "      <td>307.0</td>\n",
       "      <td>130.0</td>\n",
       "      <td>3504</td>\n",
       "      <td>12.0</td>\n",
       "      <td>18.0</td>\n",
       "      <td>0</td>\n",
       "      <td>0</td>\n",
       "      <td>0</td>\n",
       "      <td>0</td>\n",
       "      <td>1</td>\n",
       "      <td>1</td>\n",
       "      <td>0</td>\n",
       "      <td>0</td>\n",
       "    </tr>\n",
       "    <tr>\n",
       "      <th>1</th>\n",
       "      <td>350.0</td>\n",
       "      <td>165.0</td>\n",
       "      <td>3693</td>\n",
       "      <td>11.5</td>\n",
       "      <td>15.0</td>\n",
       "      <td>0</td>\n",
       "      <td>0</td>\n",
       "      <td>0</td>\n",
       "      <td>0</td>\n",
       "      <td>1</td>\n",
       "      <td>1</td>\n",
       "      <td>0</td>\n",
       "      <td>0</td>\n",
       "    </tr>\n",
       "    <tr>\n",
       "      <th>2</th>\n",
       "      <td>318.0</td>\n",
       "      <td>150.0</td>\n",
       "      <td>3436</td>\n",
       "      <td>11.0</td>\n",
       "      <td>18.0</td>\n",
       "      <td>0</td>\n",
       "      <td>0</td>\n",
       "      <td>0</td>\n",
       "      <td>0</td>\n",
       "      <td>1</td>\n",
       "      <td>1</td>\n",
       "      <td>0</td>\n",
       "      <td>0</td>\n",
       "    </tr>\n",
       "    <tr>\n",
       "      <th>3</th>\n",
       "      <td>304.0</td>\n",
       "      <td>150.0</td>\n",
       "      <td>3433</td>\n",
       "      <td>12.0</td>\n",
       "      <td>16.0</td>\n",
       "      <td>0</td>\n",
       "      <td>0</td>\n",
       "      <td>0</td>\n",
       "      <td>0</td>\n",
       "      <td>1</td>\n",
       "      <td>1</td>\n",
       "      <td>0</td>\n",
       "      <td>0</td>\n",
       "    </tr>\n",
       "    <tr>\n",
       "      <th>4</th>\n",
       "      <td>302.0</td>\n",
       "      <td>140.0</td>\n",
       "      <td>3449</td>\n",
       "      <td>10.5</td>\n",
       "      <td>17.0</td>\n",
       "      <td>0</td>\n",
       "      <td>0</td>\n",
       "      <td>0</td>\n",
       "      <td>0</td>\n",
       "      <td>1</td>\n",
       "      <td>1</td>\n",
       "      <td>0</td>\n",
       "      <td>0</td>\n",
       "    </tr>\n",
       "  </tbody>\n",
       "</table>\n",
       "</div>"
      ],
      "text/plain": [
       "   displacement     hp  weight  acceleration   mpg  cylinders_3  cylinders_4  \\\n",
       "0         307.0  130.0    3504          12.0  18.0            0            0   \n",
       "1         350.0  165.0    3693          11.5  15.0            0            0   \n",
       "2         318.0  150.0    3436          11.0  18.0            0            0   \n",
       "3         304.0  150.0    3433          12.0  16.0            0            0   \n",
       "4         302.0  140.0    3449          10.5  17.0            0            0   \n",
       "\n",
       "   cylinders_5  cylinders_6  cylinders_8  origin_1  origin_2  origin_3  \n",
       "0            0            0            1         1         0         0  \n",
       "1            0            0            1         1         0         0  \n",
       "2            0            0            1         1         0         0  \n",
       "3            0            0            1         1         0         0  \n",
       "4            0            0            1         1         0         0  "
      ]
     },
     "execution_count": 6,
     "metadata": {},
     "output_type": "execute_result"
    }
   ],
   "source": [
    "cat_vars = ['cylinders', 'origin']\n",
    "num_vars = ['displacement', 'hp', 'weight', 'acceleration']\n",
    "\n",
    "df = pd.get_dummies(df, columns=cat_vars, prefix_sep='_')\n",
    "\n",
    "df.head()"
   ]
  },
  {
   "cell_type": "code",
   "execution_count": 7,
   "id": "5d307137",
   "metadata": {},
   "outputs": [
    {
     "name": "stdout",
     "output_type": "stream",
     "text": [
      "<class 'pandas.core.frame.DataFrame'>\n",
      "Int64Index: 392 entries, 0 to 397\n",
      "Data columns (total 13 columns):\n",
      " #   Column        Non-Null Count  Dtype  \n",
      "---  ------        --------------  -----  \n",
      " 0   displacement  392 non-null    float64\n",
      " 1   hp            392 non-null    float64\n",
      " 2   weight        392 non-null    int64  \n",
      " 3   acceleration  392 non-null    float64\n",
      " 4   mpg           392 non-null    float64\n",
      " 5   cylinders_3   392 non-null    uint8  \n",
      " 6   cylinders_4   392 non-null    uint8  \n",
      " 7   cylinders_5   392 non-null    uint8  \n",
      " 8   cylinders_6   392 non-null    uint8  \n",
      " 9   cylinders_8   392 non-null    uint8  \n",
      " 10  origin_1      392 non-null    uint8  \n",
      " 11  origin_2      392 non-null    uint8  \n",
      " 12  origin_3      392 non-null    uint8  \n",
      "dtypes: float64(4), int64(1), uint8(8)\n",
      "memory usage: 21.4 KB\n"
     ]
    }
   ],
   "source": [
    "df.info()"
   ]
  },
  {
   "cell_type": "code",
   "execution_count": 8,
   "id": "b7338b23",
   "metadata": {},
   "outputs": [],
   "source": [
    "x_vars = ['cylinders_3', 'cylinders_4', 'cylinders_5', 'cylinders_6', 'cylinders_8', \n",
    "          'origin_1', 'origin_2', 'origin_3'] + num_vars\n",
    "y_var = 'mpg'"
   ]
  },
  {
   "cell_type": "code",
   "execution_count": 9,
   "id": "4a82ee1a",
   "metadata": {},
   "outputs": [
    {
     "data": {
      "text/plain": [
       "GridSearchCV(cv=5, estimator=DecisionTreeRegressor(random_state=1),\n",
       "             param_grid={'max_depth': range(1, 20),\n",
       "                         'min_samples_leaf': range(1, 20),\n",
       "                         'min_samples_split': range(1, 20)})"
      ]
     },
     "execution_count": 9,
     "metadata": {},
     "output_type": "execute_result"
    }
   ],
   "source": [
    "tune_parm_space = {'min_samples_split':range(1, 20),\n",
    "                   'max_depth':range(1, 20),\n",
    "                   'min_samples_leaf':range(1, 20)\n",
    "                  }\n",
    "\n",
    "tree_reg_model = DecisionTreeRegressor(random_state=1)\n",
    "tree_reg_model_cv_1 = GridSearchCV(tree_reg_model, tune_parm_space, cv=5)\n",
    "tree_reg_model_cv_1.fit(df[x_vars], df[y_var])"
   ]
  },
  {
   "cell_type": "code",
   "execution_count": 10,
   "id": "e159f320",
   "metadata": {},
   "outputs": [
    {
     "data": {
      "text/plain": [
       "{'max_depth': 4, 'min_samples_leaf': 16, 'min_samples_split': 2}"
      ]
     },
     "execution_count": 10,
     "metadata": {},
     "output_type": "execute_result"
    }
   ],
   "source": [
    "tree_reg_model_cv_1.best_params_"
   ]
  },
  {
   "cell_type": "code",
   "execution_count": 11,
   "id": "07a2f587",
   "metadata": {},
   "outputs": [
    {
     "name": "stdout",
     "output_type": "stream",
     "text": [
      "Using Grid Search cv and doing 5 fold cross-validation, decision tree performs as below:\n",
      "Model R square is 39.51\n",
      "Model RMSE is     3.45\n"
     ]
    }
   ],
   "source": [
    "model_sq = tree_reg_model_cv_1.best_score_\n",
    "rmse = mean_squared_error(df[y_var], tree_reg_model_cv_1.predict(df[x_vars]), squared=False)\n",
    "\n",
    "print(f\"Using Grid Search cv and doing 5 fold cross-validation, decision tree performs as below:\")\n",
    "print(f\"Model R square is {np.round(model_sq * 100, 2)}\")\n",
    "print(f\"Model RMSE is     {np.round(rmse, 2)}\")"
   ]
  },
  {
   "cell_type": "markdown",
   "id": "2105bd81",
   "metadata": {},
   "source": [
    "# 2. How good would the prediction be if we use 300 cars for training and test it on the rest of the data?"
   ]
  },
  {
   "cell_type": "code",
   "execution_count": 12,
   "id": "c593a0e6",
   "metadata": {},
   "outputs": [],
   "source": [
    "x_train, x_test, y_train, y_test = train_test_split(df[x_vars], df[y_var])"
   ]
  },
  {
   "cell_type": "code",
   "execution_count": 13,
   "id": "312558ee",
   "metadata": {},
   "outputs": [
    {
     "data": {
      "text/plain": [
       "GridSearchCV(cv=5, estimator=DecisionTreeRegressor(random_state=1),\n",
       "             param_grid={'max_depth': range(1, 20),\n",
       "                         'min_samples_leaf': range(1, 20),\n",
       "                         'min_samples_split': range(1, 20)})"
      ]
     },
     "execution_count": 13,
     "metadata": {},
     "output_type": "execute_result"
    }
   ],
   "source": [
    "tune_parm_space = {'min_samples_split':range(1, 20),\n",
    "                   'max_depth':range(1, 20),\n",
    "                   'min_samples_leaf':range(1, 20)\n",
    "                  }\n",
    "\n",
    "tree_reg_model = DecisionTreeRegressor(random_state=1)\n",
    "tree_reg_model_cv_2 = GridSearchCV(tree_reg_model, tune_parm_space, cv=5)\n",
    "tree_reg_model_cv_2.fit(x_train, y_train)"
   ]
  },
  {
   "cell_type": "code",
   "execution_count": 14,
   "id": "678fd64e",
   "metadata": {},
   "outputs": [
    {
     "data": {
      "text/plain": [
       "{'max_depth': 5, 'min_samples_leaf': 7, 'min_samples_split': 2}"
      ]
     },
     "execution_count": 14,
     "metadata": {},
     "output_type": "execute_result"
    }
   ],
   "source": [
    "tree_reg_model_cv_2.best_params_"
   ]
  },
  {
   "cell_type": "code",
   "execution_count": 21,
   "id": "8d941a06",
   "metadata": {},
   "outputs": [
    {
     "name": "stdout",
     "output_type": "stream",
     "text": [
      "Using Grid Search cv, after diving data into train and test set and doing 5 fold cross-validationdecision tree performs as below:\n",
      "Model R square is 74.09\n",
      "Model Test RMSE is     4.44\n"
     ]
    }
   ],
   "source": [
    "model_sq = tree_reg_model_cv_2.best_score_\n",
    "test_rmse = mean_squared_error(y_test, tree_reg_model_cv_2.predict(x_test), squared=False)\n",
    "\n",
    "print(f\"Using Grid Search cv, after diving data into train and test set and doing 5 fold cross-validation\" +  \n",
    "      \"decision tree performs as below:\")\n",
    "print(f\"Model R square is {np.round(model_sq * 100, 2)}\")\n",
    "print(f\"Model Test RMSE is     {np.round(test_rmse, 2)}\")"
   ]
  },
  {
   "cell_type": "markdown",
   "id": "2242fc3c",
   "metadata": {},
   "source": [
    "# 3. Are there outliers that influence the result? How can we minimize the impact of outliers?"
   ]
  },
  {
   "cell_type": "code",
   "execution_count": 16,
   "id": "62457d2b",
   "metadata": {
    "scrolled": true
   },
   "outputs": [
    {
     "data": {
      "text/html": [
       "<div>\n",
       "<style scoped>\n",
       "    .dataframe tbody tr th:only-of-type {\n",
       "        vertical-align: middle;\n",
       "    }\n",
       "\n",
       "    .dataframe tbody tr th {\n",
       "        vertical-align: top;\n",
       "    }\n",
       "\n",
       "    .dataframe thead th {\n",
       "        text-align: right;\n",
       "    }\n",
       "</style>\n",
       "<table border=\"1\" class=\"dataframe\">\n",
       "  <thead>\n",
       "    <tr style=\"text-align: right;\">\n",
       "      <th></th>\n",
       "      <th>cylinders_3</th>\n",
       "      <th>cylinders_4</th>\n",
       "      <th>cylinders_5</th>\n",
       "      <th>cylinders_6</th>\n",
       "      <th>cylinders_8</th>\n",
       "      <th>origin_1</th>\n",
       "      <th>origin_2</th>\n",
       "      <th>origin_3</th>\n",
       "      <th>displacement</th>\n",
       "      <th>hp</th>\n",
       "      <th>weight</th>\n",
       "      <th>acceleration</th>\n",
       "      <th>lof</th>\n",
       "      <th>negative_outlier_factor</th>\n",
       "    </tr>\n",
       "  </thead>\n",
       "  <tbody>\n",
       "    <tr>\n",
       "      <th>345</th>\n",
       "      <td>0</td>\n",
       "      <td>1</td>\n",
       "      <td>0</td>\n",
       "      <td>0</td>\n",
       "      <td>0</td>\n",
       "      <td>0</td>\n",
       "      <td>0</td>\n",
       "      <td>1</td>\n",
       "      <td>81.0</td>\n",
       "      <td>60.0</td>\n",
       "      <td>1760</td>\n",
       "      <td>16.1</td>\n",
       "      <td>-1</td>\n",
       "      <td>-1.617454</td>\n",
       "    </tr>\n",
       "    <tr>\n",
       "      <th>95</th>\n",
       "      <td>0</td>\n",
       "      <td>0</td>\n",
       "      <td>0</td>\n",
       "      <td>0</td>\n",
       "      <td>1</td>\n",
       "      <td>1</td>\n",
       "      <td>0</td>\n",
       "      <td>0</td>\n",
       "      <td>455.0</td>\n",
       "      <td>225.0</td>\n",
       "      <td>4951</td>\n",
       "      <td>11.0</td>\n",
       "      <td>-1</td>\n",
       "      <td>-1.798082</td>\n",
       "    </tr>\n",
       "    <tr>\n",
       "      <th>103</th>\n",
       "      <td>0</td>\n",
       "      <td>0</td>\n",
       "      <td>0</td>\n",
       "      <td>0</td>\n",
       "      <td>1</td>\n",
       "      <td>1</td>\n",
       "      <td>0</td>\n",
       "      <td>0</td>\n",
       "      <td>400.0</td>\n",
       "      <td>150.0</td>\n",
       "      <td>4997</td>\n",
       "      <td>14.0</td>\n",
       "      <td>-1</td>\n",
       "      <td>-1.876071</td>\n",
       "    </tr>\n",
       "    <tr>\n",
       "      <th>104</th>\n",
       "      <td>0</td>\n",
       "      <td>0</td>\n",
       "      <td>0</td>\n",
       "      <td>0</td>\n",
       "      <td>1</td>\n",
       "      <td>1</td>\n",
       "      <td>0</td>\n",
       "      <td>0</td>\n",
       "      <td>400.0</td>\n",
       "      <td>167.0</td>\n",
       "      <td>4906</td>\n",
       "      <td>12.5</td>\n",
       "      <td>-1</td>\n",
       "      <td>-1.672449</td>\n",
       "    </tr>\n",
       "    <tr>\n",
       "      <th>245</th>\n",
       "      <td>0</td>\n",
       "      <td>1</td>\n",
       "      <td>0</td>\n",
       "      <td>0</td>\n",
       "      <td>0</td>\n",
       "      <td>1</td>\n",
       "      <td>0</td>\n",
       "      <td>0</td>\n",
       "      <td>98.0</td>\n",
       "      <td>66.0</td>\n",
       "      <td>1800</td>\n",
       "      <td>14.4</td>\n",
       "      <td>-1</td>\n",
       "      <td>-1.511546</td>\n",
       "    </tr>\n",
       "    <tr>\n",
       "      <th>198</th>\n",
       "      <td>0</td>\n",
       "      <td>1</td>\n",
       "      <td>0</td>\n",
       "      <td>0</td>\n",
       "      <td>0</td>\n",
       "      <td>0</td>\n",
       "      <td>0</td>\n",
       "      <td>1</td>\n",
       "      <td>91.0</td>\n",
       "      <td>53.0</td>\n",
       "      <td>1795</td>\n",
       "      <td>17.4</td>\n",
       "      <td>-1</td>\n",
       "      <td>-1.528974</td>\n",
       "    </tr>\n",
       "    <tr>\n",
       "      <th>53</th>\n",
       "      <td>0</td>\n",
       "      <td>1</td>\n",
       "      <td>0</td>\n",
       "      <td>0</td>\n",
       "      <td>0</td>\n",
       "      <td>0</td>\n",
       "      <td>0</td>\n",
       "      <td>1</td>\n",
       "      <td>71.0</td>\n",
       "      <td>65.0</td>\n",
       "      <td>1773</td>\n",
       "      <td>19.0</td>\n",
       "      <td>-1</td>\n",
       "      <td>-1.580362</td>\n",
       "    </tr>\n",
       "    <tr>\n",
       "      <th>90</th>\n",
       "      <td>0</td>\n",
       "      <td>0</td>\n",
       "      <td>0</td>\n",
       "      <td>0</td>\n",
       "      <td>1</td>\n",
       "      <td>1</td>\n",
       "      <td>0</td>\n",
       "      <td>0</td>\n",
       "      <td>429.0</td>\n",
       "      <td>198.0</td>\n",
       "      <td>4952</td>\n",
       "      <td>11.5</td>\n",
       "      <td>-1</td>\n",
       "      <td>-1.779741</td>\n",
       "    </tr>\n",
       "    <tr>\n",
       "      <th>343</th>\n",
       "      <td>0</td>\n",
       "      <td>1</td>\n",
       "      <td>0</td>\n",
       "      <td>0</td>\n",
       "      <td>0</td>\n",
       "      <td>0</td>\n",
       "      <td>0</td>\n",
       "      <td>1</td>\n",
       "      <td>79.0</td>\n",
       "      <td>58.0</td>\n",
       "      <td>1755</td>\n",
       "      <td>16.9</td>\n",
       "      <td>-1</td>\n",
       "      <td>-1.635253</td>\n",
       "    </tr>\n",
       "    <tr>\n",
       "      <th>13</th>\n",
       "      <td>0</td>\n",
       "      <td>0</td>\n",
       "      <td>0</td>\n",
       "      <td>0</td>\n",
       "      <td>1</td>\n",
       "      <td>1</td>\n",
       "      <td>0</td>\n",
       "      <td>0</td>\n",
       "      <td>455.0</td>\n",
       "      <td>225.0</td>\n",
       "      <td>3086</td>\n",
       "      <td>10.0</td>\n",
       "      <td>-1</td>\n",
       "      <td>-2.123710</td>\n",
       "    </tr>\n",
       "    <tr>\n",
       "      <th>44</th>\n",
       "      <td>0</td>\n",
       "      <td>0</td>\n",
       "      <td>0</td>\n",
       "      <td>0</td>\n",
       "      <td>1</td>\n",
       "      <td>1</td>\n",
       "      <td>0</td>\n",
       "      <td>0</td>\n",
       "      <td>400.0</td>\n",
       "      <td>175.0</td>\n",
       "      <td>5140</td>\n",
       "      <td>12.0</td>\n",
       "      <td>-1</td>\n",
       "      <td>-2.250209</td>\n",
       "    </tr>\n",
       "    <tr>\n",
       "      <th>248</th>\n",
       "      <td>0</td>\n",
       "      <td>1</td>\n",
       "      <td>0</td>\n",
       "      <td>0</td>\n",
       "      <td>0</td>\n",
       "      <td>0</td>\n",
       "      <td>0</td>\n",
       "      <td>1</td>\n",
       "      <td>91.0</td>\n",
       "      <td>60.0</td>\n",
       "      <td>1800</td>\n",
       "      <td>16.4</td>\n",
       "      <td>-1</td>\n",
       "      <td>-1.511427</td>\n",
       "    </tr>\n",
       "    <tr>\n",
       "      <th>54</th>\n",
       "      <td>0</td>\n",
       "      <td>1</td>\n",
       "      <td>0</td>\n",
       "      <td>0</td>\n",
       "      <td>0</td>\n",
       "      <td>0</td>\n",
       "      <td>0</td>\n",
       "      <td>1</td>\n",
       "      <td>72.0</td>\n",
       "      <td>69.0</td>\n",
       "      <td>1613</td>\n",
       "      <td>18.0</td>\n",
       "      <td>-1</td>\n",
       "      <td>-2.444403</td>\n",
       "    </tr>\n",
       "  </tbody>\n",
       "</table>\n",
       "</div>"
      ],
      "text/plain": [
       "     cylinders_3  cylinders_4  cylinders_5  cylinders_6  cylinders_8  \\\n",
       "345            0            1            0            0            0   \n",
       "95             0            0            0            0            1   \n",
       "103            0            0            0            0            1   \n",
       "104            0            0            0            0            1   \n",
       "245            0            1            0            0            0   \n",
       "198            0            1            0            0            0   \n",
       "53             0            1            0            0            0   \n",
       "90             0            0            0            0            1   \n",
       "343            0            1            0            0            0   \n",
       "13             0            0            0            0            1   \n",
       "44             0            0            0            0            1   \n",
       "248            0            1            0            0            0   \n",
       "54             0            1            0            0            0   \n",
       "\n",
       "     origin_1  origin_2  origin_3  displacement     hp  weight  acceleration  \\\n",
       "345         0         0         1          81.0   60.0    1760          16.1   \n",
       "95          1         0         0         455.0  225.0    4951          11.0   \n",
       "103         1         0         0         400.0  150.0    4997          14.0   \n",
       "104         1         0         0         400.0  167.0    4906          12.5   \n",
       "245         1         0         0          98.0   66.0    1800          14.4   \n",
       "198         0         0         1          91.0   53.0    1795          17.4   \n",
       "53          0         0         1          71.0   65.0    1773          19.0   \n",
       "90          1         0         0         429.0  198.0    4952          11.5   \n",
       "343         0         0         1          79.0   58.0    1755          16.9   \n",
       "13          1         0         0         455.0  225.0    3086          10.0   \n",
       "44          1         0         0         400.0  175.0    5140          12.0   \n",
       "248         0         0         1          91.0   60.0    1800          16.4   \n",
       "54          0         0         1          72.0   69.0    1613          18.0   \n",
       "\n",
       "     lof  negative_outlier_factor  \n",
       "345   -1                -1.617454  \n",
       "95    -1                -1.798082  \n",
       "103   -1                -1.876071  \n",
       "104   -1                -1.672449  \n",
       "245   -1                -1.511546  \n",
       "198   -1                -1.528974  \n",
       "53    -1                -1.580362  \n",
       "90    -1                -1.779741  \n",
       "343   -1                -1.635253  \n",
       "13    -1                -2.123710  \n",
       "44    -1                -2.250209  \n",
       "248   -1                -1.511427  \n",
       "54    -1                -2.444403  "
      ]
     },
     "execution_count": 16,
     "metadata": {},
     "output_type": "execute_result"
    }
   ],
   "source": [
    "lof = LocalOutlierFactor(n_neighbors = 20)\n",
    "\n",
    "x_train['lof'] = lof.fit_predict(x_train)\n",
    "x_train['negative_outlier_factor'] = lof.negative_outlier_factor_\n",
    "x_train[x_train['negative_outlier_factor'] <= -1.5]"
   ]
  },
  {
   "cell_type": "code",
   "execution_count": 17,
   "id": "7108dcdd",
   "metadata": {},
   "outputs": [],
   "source": [
    "index = x_train['negative_outlier_factor'] > -1.5\n",
    "x_train_without_outlier = x_train[index][x_vars]\n",
    "y_train_without_outlier = y_train[index]"
   ]
  },
  {
   "cell_type": "code",
   "execution_count": 18,
   "id": "20540fa5",
   "metadata": {},
   "outputs": [
    {
     "data": {
      "text/plain": [
       "GridSearchCV(cv=5, estimator=DecisionTreeRegressor(random_state=1),\n",
       "             param_grid={'max_depth': range(1, 20),\n",
       "                         'min_samples_leaf': range(1, 20),\n",
       "                         'min_samples_split': range(1, 20)})"
      ]
     },
     "execution_count": 18,
     "metadata": {},
     "output_type": "execute_result"
    }
   ],
   "source": [
    "tune_parm_space = {'min_samples_split':range(1, 20),\n",
    "                   'max_depth':range(1, 20),\n",
    "                   'min_samples_leaf':range(1, 20)\n",
    "                  }\n",
    "\n",
    "tree_reg_model = DecisionTreeRegressor(random_state=1)\n",
    "tree_reg_model_cv_3 = GridSearchCV(tree_reg_model, tune_parm_space, cv=5)\n",
    "tree_reg_model_cv_3.fit(x_train_without_outlier, y_train_without_outlier)"
   ]
  },
  {
   "cell_type": "code",
   "execution_count": 19,
   "id": "a6da76d0",
   "metadata": {},
   "outputs": [
    {
     "data": {
      "text/plain": [
       "{'max_depth': 4, 'min_samples_leaf': 18, 'min_samples_split': 2}"
      ]
     },
     "execution_count": 19,
     "metadata": {},
     "output_type": "execute_result"
    }
   ],
   "source": [
    "tree_reg_model_cv_3.best_params_"
   ]
  },
  {
   "cell_type": "code",
   "execution_count": 22,
   "id": "1481ea98",
   "metadata": {},
   "outputs": [
    {
     "name": "stdout",
     "output_type": "stream",
     "text": [
      "Using Grid Search cv, after dividing data into training and test set, with 5 fold cross-validation, also after removing outliers, decision tree performs as below:\n",
      "Model R square is 72.49\n",
      "Model Test RMSE is     4.21\n"
     ]
    }
   ],
   "source": [
    "model_sq = tree_reg_model_cv_3.best_score_\n",
    "test_rmse = mean_squared_error(y_test, tree_reg_model_cv_3.predict(x_test), squared=False)\n",
    "\n",
    "print(f\"Using Grid Search cv, after dividing data into training and test set, with 5 fold cross-validation, \" +\n",
    "      \"also after removing outliers, decision tree performs as below:\")\n",
    "print(f\"Model R square is {np.round(model_sq * 100, 2)}\")\n",
    "print(f\"Model Test RMSE is     {np.round(test_rmse, 2)}\")"
   ]
  },
  {
   "cell_type": "code",
   "execution_count": null,
   "id": "d639ec9e",
   "metadata": {},
   "outputs": [],
   "source": []
  }
 ],
 "metadata": {
  "kernelspec": {
   "display_name": "Python 3 (ipykernel)",
   "language": "python",
   "name": "python3"
  },
  "language_info": {
   "codemirror_mode": {
    "name": "ipython",
    "version": 3
   },
   "file_extension": ".py",
   "mimetype": "text/x-python",
   "name": "python",
   "nbconvert_exporter": "python",
   "pygments_lexer": "ipython3",
   "version": "3.8.10"
  }
 },
 "nbformat": 4,
 "nbformat_minor": 5
}
