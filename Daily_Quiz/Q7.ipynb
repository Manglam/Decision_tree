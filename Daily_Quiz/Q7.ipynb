{
 "cells": [
  {
   "cell_type": "markdown",
   "id": "94424122",
   "metadata": {},
   "source": [
    "# Q7\n",
    "Tree Based Models - Q07- 08/July\n",
    "\n",
    "Consider the dataset in credit_data.csv at the following location\n",
    "https://drive.google.com/drive/folders/1Jl8iDu7nGmrqCECbrLqmVafgwE5PYfiU\n",
    "\n",
    "A1 - A15 = Attributes, T - Target (positive or negative credit)\n",
    "\n",
    "Split the data into train and test ( 75% - 25%) and  train a decision tree using sklearn DecisionTreeClassifier() with 2 different methods \n",
    "\n",
    "    - 1) ID3  (criterion = 'entropy')\n",
    "    - 2) CART (criterion = 'gini')\n",
    "\n",
    "Find the accuracy on test data for the 2 different methods. Why do you think they are so?"
   ]
  },
  {
   "cell_type": "code",
   "execution_count": 1,
   "id": "c30abf0a",
   "metadata": {},
   "outputs": [],
   "source": [
    "import numpy as np\n",
    "import pandas as pd\n",
    "from sklearn.tree import DecisionTreeClassifier\n",
    "from sklearn.model_selection import train_test_split\n",
    "\n",
    "pd.set_option('display.max_columns', None)"
   ]
  },
  {
   "cell_type": "code",
   "execution_count": 2,
   "id": "5e9a1ef5",
   "metadata": {},
   "outputs": [
    {
     "data": {
      "text/html": [
       "<div>\n",
       "<style scoped>\n",
       "    .dataframe tbody tr th:only-of-type {\n",
       "        vertical-align: middle;\n",
       "    }\n",
       "\n",
       "    .dataframe tbody tr th {\n",
       "        vertical-align: top;\n",
       "    }\n",
       "\n",
       "    .dataframe thead th {\n",
       "        text-align: right;\n",
       "    }\n",
       "</style>\n",
       "<table border=\"1\" class=\"dataframe\">\n",
       "  <thead>\n",
       "    <tr style=\"text-align: right;\">\n",
       "      <th></th>\n",
       "      <th>A1</th>\n",
       "      <th>A2</th>\n",
       "      <th>A3</th>\n",
       "      <th>A4</th>\n",
       "      <th>A5</th>\n",
       "      <th>A6</th>\n",
       "      <th>A7</th>\n",
       "      <th>A8</th>\n",
       "      <th>A9</th>\n",
       "      <th>A10</th>\n",
       "      <th>A11</th>\n",
       "      <th>A12</th>\n",
       "      <th>A13</th>\n",
       "      <th>A14</th>\n",
       "      <th>A15</th>\n",
       "      <th>T</th>\n",
       "    </tr>\n",
       "  </thead>\n",
       "  <tbody>\n",
       "    <tr>\n",
       "      <th>0</th>\n",
       "      <td>b</td>\n",
       "      <td>30.83</td>\n",
       "      <td>0.00</td>\n",
       "      <td>u</td>\n",
       "      <td>g</td>\n",
       "      <td>w</td>\n",
       "      <td>v</td>\n",
       "      <td>1.25</td>\n",
       "      <td>t</td>\n",
       "      <td>t</td>\n",
       "      <td>1</td>\n",
       "      <td>f</td>\n",
       "      <td>g</td>\n",
       "      <td>202</td>\n",
       "      <td>0</td>\n",
       "      <td>+</td>\n",
       "    </tr>\n",
       "    <tr>\n",
       "      <th>1</th>\n",
       "      <td>a</td>\n",
       "      <td>58.67</td>\n",
       "      <td>4.46</td>\n",
       "      <td>u</td>\n",
       "      <td>g</td>\n",
       "      <td>q</td>\n",
       "      <td>h</td>\n",
       "      <td>3.04</td>\n",
       "      <td>t</td>\n",
       "      <td>t</td>\n",
       "      <td>6</td>\n",
       "      <td>f</td>\n",
       "      <td>g</td>\n",
       "      <td>43</td>\n",
       "      <td>560</td>\n",
       "      <td>+</td>\n",
       "    </tr>\n",
       "  </tbody>\n",
       "</table>\n",
       "</div>"
      ],
      "text/plain": [
       "  A1     A2    A3 A4 A5 A6 A7    A8 A9 A10  A11 A12 A13  A14  A15  T\n",
       "0  b  30.83  0.00  u  g  w  v  1.25  t   t    1   f   g  202    0  +\n",
       "1  a  58.67  4.46  u  g  q  h  3.04  t   t    6   f   g   43  560  +"
      ]
     },
     "execution_count": 2,
     "metadata": {},
     "output_type": "execute_result"
    }
   ],
   "source": [
    "df = pd.read_csv(\"01_credit_data.csv\")\n",
    "df.head(2)"
   ]
  },
  {
   "cell_type": "code",
   "execution_count": 3,
   "id": "d3900905",
   "metadata": {},
   "outputs": [],
   "source": [
    "cat_var_list = ['A1', 'A4', 'A5', 'A6', 'A7', 'A9', 'A10', 'A12', 'A13']\n",
    "num_vrb_list = ['A2', 'A3', 'A8', 'A11', 'A14', 'A15']"
   ]
  },
  {
   "cell_type": "code",
   "execution_count": 4,
   "id": "769131fa",
   "metadata": {},
   "outputs": [],
   "source": [
    "#df[num_vrb_list] = df[num_vrb_list].astype(float)\n",
    "for col in  num_vrb_list:\n",
    "    df[col] = pd.to_numeric(df[col], errors='coerce')\n",
    "df = df.dropna(axis=0)"
   ]
  },
  {
   "cell_type": "code",
   "execution_count": 5,
   "id": "15c564c8",
   "metadata": {},
   "outputs": [],
   "source": [
    "df_encoded = pd.get_dummies(df, columns = cat_var_list, prefix_sep='_', drop_first=True)\n",
    "df_encoded['target'] = np.where(df_encoded['T'] == '+', 1, 0)\n",
    "#df_encoded.head()"
   ]
  },
  {
   "cell_type": "code",
   "execution_count": 6,
   "id": "5dcc875b",
   "metadata": {},
   "outputs": [
    {
     "data": {
      "text/html": [
       "<div>\n",
       "<style scoped>\n",
       "    .dataframe tbody tr th:only-of-type {\n",
       "        vertical-align: middle;\n",
       "    }\n",
       "\n",
       "    .dataframe tbody tr th {\n",
       "        vertical-align: top;\n",
       "    }\n",
       "\n",
       "    .dataframe thead th {\n",
       "        text-align: right;\n",
       "    }\n",
       "</style>\n",
       "<table border=\"1\" class=\"dataframe\">\n",
       "  <thead>\n",
       "    <tr style=\"text-align: right;\">\n",
       "      <th>target</th>\n",
       "      <th>0</th>\n",
       "      <th>1</th>\n",
       "    </tr>\n",
       "    <tr>\n",
       "      <th>T</th>\n",
       "      <th></th>\n",
       "      <th></th>\n",
       "    </tr>\n",
       "  </thead>\n",
       "  <tbody>\n",
       "    <tr>\n",
       "      <th>+</th>\n",
       "      <td>0</td>\n",
       "      <td>299</td>\n",
       "    </tr>\n",
       "    <tr>\n",
       "      <th>-</th>\n",
       "      <td>367</td>\n",
       "      <td>0</td>\n",
       "    </tr>\n",
       "  </tbody>\n",
       "</table>\n",
       "</div>"
      ],
      "text/plain": [
       "target    0    1\n",
       "T               \n",
       "+         0  299\n",
       "-       367    0"
      ]
     },
     "execution_count": 6,
     "metadata": {},
     "output_type": "execute_result"
    }
   ],
   "source": [
    "# varify encoding\n",
    "pd.crosstab(df_encoded['T'], df_encoded['target'])"
   ]
  },
  {
   "cell_type": "code",
   "execution_count": 7,
   "id": "0b639b58",
   "metadata": {},
   "outputs": [],
   "source": [
    "df_encoded.drop('T', axis=1, inplace=True)"
   ]
  },
  {
   "cell_type": "code",
   "execution_count": 8,
   "id": "f3aeea71",
   "metadata": {},
   "outputs": [
    {
     "name": "stdout",
     "output_type": "stream",
     "text": [
      "(499, 41)\n",
      "(167, 41)\n"
     ]
    }
   ],
   "source": [
    "df_train, df_test = train_test_split(df_encoded, test_size=0.25, random_state=25)\n",
    "print(df_train.shape)\n",
    "print(df_test.shape)"
   ]
  },
  {
   "cell_type": "markdown",
   "id": "bc044605",
   "metadata": {},
   "source": [
    "# 1. With entropy as split criteria"
   ]
  },
  {
   "cell_type": "code",
   "execution_count": 9,
   "id": "afed2bcd",
   "metadata": {},
   "outputs": [
    {
     "name": "stdout",
     "output_type": "stream",
     "text": [
      "model_accuracy is 84.43%\n"
     ]
    }
   ],
   "source": [
    "x_cols = ['A2', 'A3', 'A8', 'A11', 'A14', 'A15', 'A1_a', 'A1_b', 'A4_u', 'A4_y',\n",
    "          'A5_gg', 'A5_p', 'A6_aa', 'A6_c', 'A6_cc', 'A6_d', 'A6_e', 'A6_ff',\n",
    "          'A6_i', 'A6_j', 'A6_k', 'A6_m', 'A6_q', 'A6_r', 'A6_w', 'A6_x', 'A7_bb',\n",
    "          'A7_dd', 'A7_ff', 'A7_h', 'A7_j', 'A7_n', 'A7_o', 'A7_v', 'A7_z',\n",
    "          'A9_t', 'A10_t', 'A12_t', 'A13_p', 'A13_s'\n",
    "         ]\n",
    "X = df_train[x_cols]\n",
    "y = df_train['target']\n",
    "model_decision_tree = DecisionTreeClassifier(random_state=0, criterion='entropy')\n",
    "model_decision_tree.fit(X, y)\n",
    "model_accuracy = model_decision_tree.fit(X, y).score(df_test[x_cols], df_test['target'])\n",
    "print(f\"model_accuracy is {np.round(model_accuracy * 100, 2)}%\")"
   ]
  },
  {
   "cell_type": "markdown",
   "id": "3198f03e",
   "metadata": {},
   "source": [
    "# With Gini as split criteria"
   ]
  },
  {
   "cell_type": "code",
   "execution_count": 10,
   "id": "f6f6b0aa",
   "metadata": {},
   "outputs": [
    {
     "name": "stdout",
     "output_type": "stream",
     "text": [
      "model_accuracy is 83.23%\n"
     ]
    }
   ],
   "source": [
    "x_cols = ['A2', 'A3', 'A8', 'A11', 'A14', 'A15', 'A1_a', 'A1_b', 'A4_u', 'A4_y',\n",
    "          'A5_gg', 'A5_p', 'A6_aa', 'A6_c', 'A6_cc', 'A6_d', 'A6_e', 'A6_ff',\n",
    "          'A6_i', 'A6_j', 'A6_k', 'A6_m', 'A6_q', 'A6_r', 'A6_w', 'A6_x', 'A7_bb',\n",
    "          'A7_dd', 'A7_ff', 'A7_h', 'A7_j', 'A7_n', 'A7_o', 'A7_v', 'A7_z',\n",
    "          'A9_t', 'A10_t', 'A12_t', 'A13_p', 'A13_s'\n",
    "         ]\n",
    "X = df_train[x_cols]\n",
    "y = df_train['target']\n",
    "model_decision_tree = DecisionTreeClassifier(random_state=0, criterion='gini')\n",
    "model_decision_tree.fit(X, y)\n",
    "model_accuracy = model_decision_tree.fit(X, y).score(df_test[x_cols], df_test['target'])\n",
    "print(f\"model_accuracy is {np.round(model_accuracy * 100, 2)}%\")"
   ]
  },
  {
   "cell_type": "markdown",
   "id": "c4b1e7d7",
   "metadata": {},
   "source": [
    "# Answers\n",
    "    - 1. With Entropy as split criteria, we get accuracy of 84.43%\n",
    "    - 2. With Gini as split criteria, we get accuracy of 83.23 %"
   ]
  },
  {
   "cell_type": "code",
   "execution_count": null,
   "id": "d5a8e9b3",
   "metadata": {},
   "outputs": [],
   "source": []
  }
 ],
 "metadata": {
  "kernelspec": {
   "display_name": "Python 3 (ipykernel)",
   "language": "python",
   "name": "python3"
  },
  "language_info": {
   "codemirror_mode": {
    "name": "ipython",
    "version": 3
   },
   "file_extension": ".py",
   "mimetype": "text/x-python",
   "name": "python",
   "nbconvert_exporter": "python",
   "pygments_lexer": "ipython3",
   "version": "3.8.10"
  }
 },
 "nbformat": 4,
 "nbformat_minor": 5
}
