{
 "cells": [
  {
   "cell_type": "markdown",
   "id": "fea8a884",
   "metadata": {},
   "source": [
    "# Q15\n",
    "Tree Based Models - Q15- 21st July\n",
    "\n",
    "\n",
    "The average starting salary of MBA graduates in US is provided in the file 08_MBA_Starting_Salary.xlsx.\n",
    "Link: https://drive.google.com/drive/folders/1Jl8iDu7nGmrqCECbrLqmVafgwE5PYfiU\n",
    "\n",
    "Use the variables below to predict the Avg Starting salary:\n",
    "\n",
    "        Type  \n",
    "        Enrollment  \n",
    "        Avg GMAT  \n",
    "        Resident Tuition, Fees  \n",
    "        Pct International  \n",
    "        Pct Female  \n",
    "        Pct Asian American  \n",
    "        Pct Minority  \n",
    "        Pct with job offers\n",
    "\n",
    "    1) Train a Decision tree by dropping  the rows with missing values \n",
    "    2) Impute the missing values in each column using KNN imputer, and then train a model \n",
    "    3) Compare the score of both the above models.  Use 5 fold CV score in both cases, with same model \n",
    "       hyper-parameters (depth, etc)"
   ]
  },
  {
   "cell_type": "code",
   "execution_count": 1,
   "id": "b7022db5",
   "metadata": {},
   "outputs": [],
   "source": [
    "import numpy as np\n",
    "import pandas as pd\n",
    "\n",
    "from sklearn.tree import DecisionTreeRegressor\n",
    "from sklearn.model_selection import GridSearchCV, train_test_split\n",
    "from sklearn.impute import KNNImputer\n",
    "from sklearn.metrics import mean_squared_error\n",
    "import matplotlib.pyplot as plt\n",
    "import statsmodels.api as sm\n",
    "\n",
    "import warnings\n",
    "warnings.filterwarnings(\"ignore\")"
   ]
  },
  {
   "cell_type": "code",
   "execution_count": 2,
   "id": "e5163f94",
   "metadata": {},
   "outputs": [
    {
     "name": "stdout",
     "output_type": "stream",
     "text": [
      "(70, 13)\n"
     ]
    },
    {
     "data": {
      "text/html": [
       "<div>\n",
       "<style scoped>\n",
       "    .dataframe tbody tr th:only-of-type {\n",
       "        vertical-align: middle;\n",
       "    }\n",
       "\n",
       "    .dataframe tbody tr th {\n",
       "        vertical-align: top;\n",
       "    }\n",
       "\n",
       "    .dataframe thead th {\n",
       "        text-align: right;\n",
       "    }\n",
       "</style>\n",
       "<table border=\"1\" class=\"dataframe\">\n",
       "  <thead>\n",
       "    <tr style=\"text-align: right;\">\n",
       "      <th></th>\n",
       "      <th>Fulltime Business Week Ranking</th>\n",
       "      <th>School Name</th>\n",
       "      <th>State</th>\n",
       "      <th>Type</th>\n",
       "      <th>Enrollment</th>\n",
       "      <th>Avg GMAT</th>\n",
       "      <th>Resident Tuition, Fees</th>\n",
       "      <th>Pct International</th>\n",
       "      <th>Pct Female</th>\n",
       "      <th>Pct Asian American</th>\n",
       "      <th>Pct Minority</th>\n",
       "      <th>Pct with job offers</th>\n",
       "      <th>Avg starting base salary</th>\n",
       "    </tr>\n",
       "  </thead>\n",
       "  <tbody>\n",
       "    <tr>\n",
       "      <th>0</th>\n",
       "      <td>1</td>\n",
       "      <td>University of Chicago</td>\n",
       "      <td>Illinois</td>\n",
       "      <td>Private</td>\n",
       "      <td>1144</td>\n",
       "      <td>713.0</td>\n",
       "      <td>97165.0</td>\n",
       "      <td>35.0</td>\n",
       "      <td>35.0</td>\n",
       "      <td>16.0</td>\n",
       "      <td>7.0</td>\n",
       "      <td>92.0</td>\n",
       "      <td>107091.0</td>\n",
       "    </tr>\n",
       "    <tr>\n",
       "      <th>1</th>\n",
       "      <td>2</td>\n",
       "      <td>Harvard University</td>\n",
       "      <td>Massachusetts</td>\n",
       "      <td>Private</td>\n",
       "      <td>1801</td>\n",
       "      <td>720.0</td>\n",
       "      <td>101660.0</td>\n",
       "      <td>33.0</td>\n",
       "      <td>38.0</td>\n",
       "      <td>NaN</td>\n",
       "      <td>NaN</td>\n",
       "      <td>94.0</td>\n",
       "      <td>124378.0</td>\n",
       "    </tr>\n",
       "  </tbody>\n",
       "</table>\n",
       "</div>"
      ],
      "text/plain": [
       "  Fulltime Business Week Ranking            School Name          State  \\\n",
       "0                              1  University of Chicago       Illinois   \n",
       "1                              2     Harvard University  Massachusetts   \n",
       "\n",
       "      Type  Enrollment  Avg GMAT  Resident Tuition, Fees  Pct International  \\\n",
       "0  Private        1144     713.0                 97165.0               35.0   \n",
       "1  Private        1801     720.0                101660.0               33.0   \n",
       "\n",
       "   Pct Female  Pct Asian American  Pct Minority  Pct with job offers  \\\n",
       "0        35.0                16.0           7.0                 92.0   \n",
       "1        38.0                 NaN           NaN                 94.0   \n",
       "\n",
       "   Avg starting base salary  \n",
       "0                  107091.0  \n",
       "1                  124378.0  "
      ]
     },
     "execution_count": 2,
     "metadata": {},
     "output_type": "execute_result"
    }
   ],
   "source": [
    "df = pd.read_excel(\"08_MBA_Starting_Salary.xlsx\", sheet_name = \"MBA Data\")\n",
    "print(df.shape)\n",
    "df.head(2)"
   ]
  },
  {
   "cell_type": "code",
   "execution_count": 3,
   "id": "4a29194f",
   "metadata": {},
   "outputs": [
    {
     "data": {
      "text/plain": [
       "Index(['Fulltime Business Week Ranking', 'School Name', 'State', 'Type',\n",
       "       'Enrollment', 'Avg GMAT', 'Resident Tuition, Fees', 'Pct International',\n",
       "       'Pct Female', 'Pct Asian American', 'Pct Minority',\n",
       "       'Pct with job offers', 'Avg starting base salary'],\n",
       "      dtype='object')"
      ]
     },
     "execution_count": 3,
     "metadata": {},
     "output_type": "execute_result"
    }
   ],
   "source": [
    "df.columns"
   ]
  },
  {
   "cell_type": "code",
   "execution_count": 4,
   "id": "76faa22d",
   "metadata": {},
   "outputs": [],
   "source": [
    "vrb_list = ['Type', 'Enrollment', 'Avg GMAT', 'Resident Tuition, Fees', 'Pct International',\n",
    "            'Pct Female', 'Pct Asian American', 'Pct Minority', 'Pct with job offers'\n",
    "           ]\n",
    "target = 'Avg starting base salary'\n",
    "df_model = df[vrb_list + [target]]\n",
    "df_model = pd.get_dummies(df_model, columns=['Type'])\n",
    "#df_model.head(2)"
   ]
  },
  {
   "cell_type": "code",
   "execution_count": 5,
   "id": "0feb76cb",
   "metadata": {},
   "outputs": [],
   "source": [
    "x_var = ['Enrollment', 'Avg GMAT', 'Resident Tuition, Fees', 'Pct International',\n",
    "         'Pct Female', 'Pct Asian American', 'Pct Minority',\n",
    "         'Pct with job offers', 'Type_Private', 'Type_Public'\n",
    "        ]"
   ]
  },
  {
   "cell_type": "code",
   "execution_count": 6,
   "id": "56b4e1a3",
   "metadata": {},
   "outputs": [
    {
     "name": "stdout",
     "output_type": "stream",
     "text": [
      "(60, 11)\n",
      "(70, 11)\n"
     ]
    }
   ],
   "source": [
    "# 1. Drop rows, having na\n",
    "df_model_1 = df_model.dropna()\n",
    "print(df_model_1.shape)\n",
    "print(df_model.shape)"
   ]
  },
  {
   "cell_type": "code",
   "execution_count": 7,
   "id": "12ea98fa",
   "metadata": {},
   "outputs": [
    {
     "name": "stdout",
     "output_type": "stream",
     "text": [
      "(70, 11)\n"
     ]
    }
   ],
   "source": [
    "# 2. Use knn imputer for treating missing values\n",
    "df_x = df_model[x_var]\n",
    "imputer = KNNImputer(n_neighbors=2)\n",
    "df_x = imputer.fit_transform(df_x)\n",
    "df_model_2 = pd.DataFrame(df_x, columns=x_var)\n",
    "df_model_2[target] = df_model[target]\n",
    "print(df_model_2.shape)\n",
    "#df_model_2.head(2)"
   ]
  },
  {
   "cell_type": "code",
   "execution_count": 8,
   "id": "d383f658",
   "metadata": {},
   "outputs": [],
   "source": [
    "#df_model.head(2)"
   ]
  },
  {
   "cell_type": "code",
   "execution_count": 9,
   "id": "2b7b8fcb",
   "metadata": {},
   "outputs": [],
   "source": [
    "# tune hyper-parameters on 1st data, and use these parameters for second case as well"
   ]
  },
  {
   "cell_type": "code",
   "execution_count": 10,
   "id": "8a00e05e",
   "metadata": {},
   "outputs": [
    {
     "data": {
      "text/plain": [
       "GridSearchCV(cv=5, estimator=DecisionTreeRegressor(random_state=1),\n",
       "             param_grid={'max_depth': range(1, 20),\n",
       "                         'min_samples_leaf': range(1, 20),\n",
       "                         'min_samples_split': range(1, 20)})"
      ]
     },
     "execution_count": 10,
     "metadata": {},
     "output_type": "execute_result"
    }
   ],
   "source": [
    "tune_parm_space = {'min_samples_split':range(1, 20),\n",
    "                   'max_depth':range(1, 20),\n",
    "                   'min_samples_leaf':range(1, 20)\n",
    "                  }\n",
    "\n",
    "tree_reg_model = DecisionTreeRegressor(random_state=1)\n",
    "tree_reg_model_cv_1 = GridSearchCV(tree_reg_model, tune_parm_space, cv=5)\n",
    "tree_reg_model_cv_1.fit(df_model_1[x_var], df_model_1[target])"
   ]
  },
  {
   "cell_type": "code",
   "execution_count": 11,
   "id": "1d9571f9",
   "metadata": {},
   "outputs": [
    {
     "data": {
      "text/plain": [
       "{'max_depth': 7, 'min_samples_leaf': 2, 'min_samples_split': 2}"
      ]
     },
     "execution_count": 11,
     "metadata": {},
     "output_type": "execute_result"
    }
   ],
   "source": [
    "tree_reg_model_cv_1.best_params_"
   ]
  },
  {
   "cell_type": "code",
   "execution_count": 12,
   "id": "75f82298",
   "metadata": {},
   "outputs": [
    {
     "data": {
      "text/plain": [
       "(67, 11)"
      ]
     },
     "execution_count": 12,
     "metadata": {},
     "output_type": "execute_result"
    }
   ],
   "source": [
    "# remove rows, where target variable is missing\n",
    "df_model_2 = df_model_2[~ df_model_2[target].isnull()]\n",
    "df_model_2.shape"
   ]
  },
  {
   "cell_type": "code",
   "execution_count": 13,
   "id": "cae0cf44",
   "metadata": {},
   "outputs": [
    {
     "data": {
      "text/plain": [
       "GridSearchCV(cv=5, estimator=DecisionTreeRegressor(random_state=1),\n",
       "             param_grid={'max_depth': [7], 'min_samples_leaf': [2],\n",
       "                         'min_samples_split': [2]})"
      ]
     },
     "execution_count": 13,
     "metadata": {},
     "output_type": "execute_result"
    }
   ],
   "source": [
    "tune_parm_space = {'min_samples_split':[2],\n",
    "                   'max_depth':[7],\n",
    "                   'min_samples_leaf':[2]\n",
    "                  }\n",
    "\n",
    "tree_reg_model = DecisionTreeRegressor(random_state=1)\n",
    "tree_reg_model_cv_2 = GridSearchCV(tree_reg_model, tune_parm_space, cv=5)\n",
    "tree_reg_model_cv_2.fit(df_model_2[x_var], df_model_2[target])"
   ]
  },
  {
   "cell_type": "code",
   "execution_count": 14,
   "id": "566146d2",
   "metadata": {},
   "outputs": [],
   "source": [
    "def plot_qq_plot(model, df, x_vars, y_var):\n",
    "    pred = model.predict(df[x_vars])\n",
    "    residual = df[y_var] - pred\n",
    "\n",
    "    mean_of_residual = np.mean(residual.values) \n",
    "    std_of_residual = np.std(residual.values)\n",
    "    std_residual = (residual.values - mean_of_residual) / std_of_residual\n",
    "    sm.qqplot(std_residual, line ='45');\n",
    "    return"
   ]
  },
  {
   "cell_type": "code",
   "execution_count": 15,
   "id": "f38022d4",
   "metadata": {},
   "outputs": [
    {
     "data": {
      "image/png": "[encoded data removed]",
      "text/plain": [
       "<Figure size 432x288 with 1 Axes>"
      ]
     },
     "metadata": {
      "needs_background": "light"
     },
     "output_type": "display_data"
    }
   ],
   "source": [
    "plot_qq_plot(tree_reg_model_cv_1, df_model_1, x_var, target)"
   ]
  },
  {
   "cell_type": "code",
   "execution_count": 16,
   "id": "c45957fa",
   "metadata": {},
   "outputs": [
    {
     "data": {
      "image/png": "[encoded data removed]",
      "text/plain": [
       "<Figure size 432x288 with 1 Axes>"
      ]
     },
     "metadata": {
      "needs_background": "light"
     },
     "output_type": "display_data"
    }
   ],
   "source": [
    "plot_qq_plot(tree_reg_model_cv_2, df_model_2, x_var, target)"
   ]
  },
  {
   "cell_type": "code",
   "execution_count": 17,
   "id": "093f03de",
   "metadata": {},
   "outputs": [
    {
     "name": "stdout",
     "output_type": "stream",
     "text": [
      "{'max_depth': 7, 'min_samples_leaf': 2, 'min_samples_split': 2}\n",
      "{'max_depth': 7, 'min_samples_leaf': 2, 'min_samples_split': 2}\n"
     ]
    }
   ],
   "source": [
    "print(tree_reg_model_cv_1.best_params_)\n",
    "print(tree_reg_model_cv_2.best_params_)"
   ]
  },
  {
   "cell_type": "code",
   "execution_count": 18,
   "id": "dc3ff5d0",
   "metadata": {},
   "outputs": [
    {
     "name": "stdout",
     "output_type": "stream",
     "text": [
      "Model 1 R square is 83.88 and RMSE is 6153.54\n",
      "Model 2 R square is 86.34 and RMSE is 5947.53\n"
     ]
    }
   ],
   "source": [
    "score_1 = tree_reg_model_cv_1.score(df_model_1[x_var], df_model_1[target])\n",
    "score_2 = tree_reg_model_cv_2.score(df_model_2[x_var], df_model_2[target])\n",
    "\n",
    "rmse_1 = mean_squared_error(df_model_1[target], tree_reg_model_cv_1.predict(df_model_1[x_var]), squared=False)\n",
    "rmse_2 = mean_squared_error(df_model_2[target], tree_reg_model_cv_2.predict(df_model_2[x_var]), squared=False)\n",
    "\n",
    "print(f\"Model 1 R square is {np.round(score_1 * 100, 2)} and RMSE is {np.round(rmse_1, 2)}\")\n",
    "print(f\"Model 2 R square is {np.round(score_2 * 100, 2)} and RMSE is {np.round(rmse_2, 2)}\")"
   ]
  },
  {
   "cell_type": "markdown",
   "id": "564ea2ae",
   "metadata": {},
   "source": [
    "# Answers:\n",
    "    1. With Model 1, we get R square is 83.88 and RMSE is 6153.54\n",
    "    2. With Model 2, we get R square is 86.34 and RMSE is 5947.53\n",
    "    3. Model parameter in both cases :\n",
    "        - {'max_depth': 7, 'min_samples_leaf': 2, 'min_samples_split': 2}\n",
    "    4. We see marginal improvement in performance of model, after imputing for missing values in x variables, \n",
    "       using knn imputer"
   ]
  },
  {
   "cell_type": "code",
   "execution_count": null,
   "id": "de029b6a",
   "metadata": {},
   "outputs": [],
   "source": []
  }
 ],
 "metadata": {
  "kernelspec": {
   "display_name": "Python 3 (ipykernel)",
   "language": "python",
   "name": "python3"
  },
  "language_info": {
   "codemirror_mode": {
    "name": "ipython",
    "version": 3
   },
   "file_extension": ".py",
   "mimetype": "text/x-python",
   "name": "python",
   "nbconvert_exporter": "python",
   "pygments_lexer": "ipython3",
   "version": "3.8.10"
  }
 },
 "nbformat": 4,
 "nbformat_minor": 5
}
