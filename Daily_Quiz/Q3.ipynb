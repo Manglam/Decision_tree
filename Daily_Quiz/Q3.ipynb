{
 "cells": [
  {
   "cell_type": "markdown",
   "id": "7462a11f",
   "metadata": {},
   "source": [
    "# Q3\n",
    "Tree Based Models - Q03 - 04/July\n",
    "===================================\n",
    "What is the entropy of the following set: \n",
    "R = {a,a,a,b,b,b,b,b}"
   ]
  },
  {
   "cell_type": "markdown",
   "id": "dcbb13a5",
   "metadata": {},
   "source": [
    "Using the formula for entropy:\n",
    "\n",
    "$H(X) = \\sum \\limits _{i=1} ^{n} P(x_{i})* log_{b}P(x_{i}) $"
   ]
  },
  {
   "cell_type": "code",
   "execution_count": 1,
   "id": "cdc9262e",
   "metadata": {},
   "outputs": [
    {
     "name": "stdout",
     "output_type": "stream",
     "text": [
      "0.954\n"
     ]
    }
   ],
   "source": [
    "import numpy as np\n",
    "num_a = 3\n",
    "num_b = 5\n",
    "total = num_a + num_b\n",
    "prob_a = num_a / total\n",
    "prob_b = num_b / total\n",
    "\n",
    "entropy = - np.sum(prob_a * np.log2(prob_a) + prob_b * np.log2(prob_b))\n",
    "print(np.round(entropy, 3))"
   ]
  }
 ],
 "metadata": {
  "kernelspec": {
   "display_name": "Python 3 (ipykernel)",
   "language": "python",
   "name": "python3"
  },
  "language_info": {
   "codemirror_mode": {
    "name": "ipython",
    "version": 3
   },
   "file_extension": ".py",
   "mimetype": "text/x-python",
   "name": "python",
   "nbconvert_exporter": "python",
   "pygments_lexer": "ipython3",
   "version": "3.8.10"
  }
 },
 "nbformat": 4,
 "nbformat_minor": 5
}
