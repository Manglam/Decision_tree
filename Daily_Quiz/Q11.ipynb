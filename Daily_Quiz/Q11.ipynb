{
 "cells": [
  {
   "cell_type": "markdown",
   "id": "22f50a83",
   "metadata": {},
   "source": [
    "# Q11\n",
    "Tree Based Models - Q11 - 13/July\n",
    "\n",
    "Medical record for 270 patients have been provided in the file 04_heart_disease.xlsx\n",
    "https://drive.google.com/drive/folders/1Jl8iDu7nGmrqCECbrLqmVafgwE5PYfiU\n",
    "\n",
    "    1) Find out the variable importance using a Decision Tree classifier to predict heart disease. \n",
    "    2)\n",
    "        a) Train a decision tree model to predict heart disease using only the top 5 important variables. Use entire data for training. \n",
    "        b) What is the accuracy of the model with a 5 fold cross validation."
   ]
  },
  {
   "cell_type": "code",
   "execution_count": 1,
   "id": "54f1003c",
   "metadata": {},
   "outputs": [],
   "source": [
    "import pandas as pd\n",
    "import numpy as np\n",
    "from sklearn.tree import DecisionTreeClassifier\n",
    "\n",
    "from sklearn.model_selection import train_test_split\n",
    "from sklearn.model_selection import GridSearchCV\n",
    "from sklearn.tree import plot_tree\n",
    "import matplotlib.pyplot as plt\n",
    "\n",
    "import warnings\n",
    "warnings.filterwarnings(\"ignore\")"
   ]
  },
  {
   "cell_type": "code",
   "execution_count": 2,
   "id": "8dc376e1",
   "metadata": {},
   "outputs": [
    {
     "data": {
      "text/html": [
       "<div>\n",
       "<style scoped>\n",
       "    .dataframe tbody tr th:only-of-type {\n",
       "        vertical-align: middle;\n",
       "    }\n",
       "\n",
       "    .dataframe tbody tr th {\n",
       "        vertical-align: top;\n",
       "    }\n",
       "\n",
       "    .dataframe thead th {\n",
       "        text-align: right;\n",
       "    }\n",
       "</style>\n",
       "<table border=\"1\" class=\"dataframe\">\n",
       "  <thead>\n",
       "    <tr style=\"text-align: right;\">\n",
       "      <th></th>\n",
       "      <th>age</th>\n",
       "      <th>sex</th>\n",
       "      <th>chest_pain_type</th>\n",
       "      <th>BP</th>\n",
       "      <th>cholestrol</th>\n",
       "      <th>bloodsugarlevel</th>\n",
       "      <th>ECG_result</th>\n",
       "      <th>Max_heart_rate</th>\n",
       "      <th>Angina</th>\n",
       "      <th>oldpeak</th>\n",
       "      <th>slopepeak</th>\n",
       "      <th>major_vessels</th>\n",
       "      <th>thal</th>\n",
       "      <th>disease</th>\n",
       "    </tr>\n",
       "  </thead>\n",
       "  <tbody>\n",
       "    <tr>\n",
       "      <th>0</th>\n",
       "      <td>70</td>\n",
       "      <td>1</td>\n",
       "      <td>4</td>\n",
       "      <td>130</td>\n",
       "      <td>322</td>\n",
       "      <td>0</td>\n",
       "      <td>2</td>\n",
       "      <td>109</td>\n",
       "      <td>0</td>\n",
       "      <td>2.4</td>\n",
       "      <td>2</td>\n",
       "      <td>3</td>\n",
       "      <td>3</td>\n",
       "      <td>1</td>\n",
       "    </tr>\n",
       "    <tr>\n",
       "      <th>1</th>\n",
       "      <td>67</td>\n",
       "      <td>0</td>\n",
       "      <td>3</td>\n",
       "      <td>115</td>\n",
       "      <td>564</td>\n",
       "      <td>0</td>\n",
       "      <td>2</td>\n",
       "      <td>160</td>\n",
       "      <td>0</td>\n",
       "      <td>1.6</td>\n",
       "      <td>2</td>\n",
       "      <td>0</td>\n",
       "      <td>7</td>\n",
       "      <td>0</td>\n",
       "    </tr>\n",
       "  </tbody>\n",
       "</table>\n",
       "</div>"
      ],
      "text/plain": [
       "   age  sex  chest_pain_type   BP  cholestrol  bloodsugarlevel  ECG_result  \\\n",
       "0   70    1                4  130         322                0           2   \n",
       "1   67    0                3  115         564                0           2   \n",
       "\n",
       "   Max_heart_rate  Angina  oldpeak   slopepeak  major_vessels  thal  disease  \n",
       "0             109       0       2.4          2              3     3        1  \n",
       "1             160       0       1.6          2              0     7        0  "
      ]
     },
     "execution_count": 2,
     "metadata": {},
     "output_type": "execute_result"
    }
   ],
   "source": [
    "df = pd.read_excel(\"04_heart_disease.xlsx\", sheet_name=\"data\")\n",
    "df.head(2)"
   ]
  },
  {
   "cell_type": "code",
   "execution_count": 3,
   "id": "e34808c8",
   "metadata": {},
   "outputs": [
    {
     "data": {
      "text/plain": [
       "Index(['age', 'sex', 'chest_pain_type', 'BP', 'cholestrol', 'bloodsugarlevel',\n",
       "       'ECG_result', 'Max_heart_rate', 'Angina', 'oldpeak ', 'slopepeak',\n",
       "       'major_vessels', 'thal', 'disease'],\n",
       "      dtype='object')"
      ]
     },
     "execution_count": 3,
     "metadata": {},
     "output_type": "execute_result"
    }
   ],
   "source": [
    "df.columns"
   ]
  },
  {
   "cell_type": "markdown",
   "id": "19bf8cbb",
   "metadata": {},
   "source": [
    "# 1. \n",
    "Find out the variable importance using a Decision Tree classifier to predict heart disease."
   ]
  },
  {
   "cell_type": "code",
   "execution_count": 4,
   "id": "41e442a0",
   "metadata": {},
   "outputs": [
    {
     "data": {
      "text/plain": [
       "DecisionTreeClassifier()"
      ]
     },
     "execution_count": 4,
     "metadata": {},
     "output_type": "execute_result"
    }
   ],
   "source": [
    "# fit a decision tree classifier, using entire data, to get the top 5 most import features\n",
    "x_cols = ['age', 'sex', 'chest_pain_type', 'BP', 'cholestrol', 'bloodsugarlevel',\n",
    "       'ECG_result', 'Max_heart_rate', 'Angina', 'oldpeak ', 'slopepeak',\n",
    "       'major_vessels', 'thal']\n",
    "y_var = 'disease'\n",
    "df[x_cols].head(2)\n",
    "dt_model = DecisionTreeClassifier(criterion='gini')\n",
    "dt_model.fit(df[x_cols], df[y_var])"
   ]
  },
  {
   "cell_type": "code",
   "execution_count": 5,
   "id": "9eb1456f",
   "metadata": {},
   "outputs": [
    {
     "data": {
      "text/plain": [
       "thal               0.269628\n",
       "major_vessels      0.149115\n",
       "cholestrol         0.084385\n",
       "chest_pain_type    0.081865\n",
       "age                0.073170\n",
       "BP                 0.067827\n",
       "oldpeak            0.065650\n",
       "Max_heart_rate     0.051350\n",
       "sex                0.046375\n",
       "Angina             0.045635\n",
       "slopepeak          0.039250\n",
       "ECG_result         0.025750\n",
       "bloodsugarlevel    0.000000\n",
       "dtype: float64"
      ]
     },
     "execution_count": 5,
     "metadata": {},
     "output_type": "execute_result"
    }
   ],
   "source": [
    "feature_importance = pd.Series(dt_model.feature_importances_)\n",
    "feature_importance.index = x_cols\n",
    "feature_importance.sort_values(ascending=False)"
   ]
  },
  {
   "cell_type": "code",
   "execution_count": 6,
   "id": "b3966221",
   "metadata": {},
   "outputs": [
    {
     "data": {
      "text/plain": [
       "['thal', 'major_vessels', 'cholestrol', 'chest_pain_type', 'age']"
      ]
     },
     "execution_count": 6,
     "metadata": {},
     "output_type": "execute_result"
    }
   ],
   "source": [
    "top_5_features = feature_importance.sort_values(ascending=False).index[0:5].to_list()\n",
    "top_5_features"
   ]
  },
  {
   "cell_type": "markdown",
   "id": "f7452117",
   "metadata": {},
   "source": [
    "# 2a\n",
    "Train a decision tree model to predict heart disease using only the top 5 important variables. Use entire data for training. "
   ]
  },
  {
   "cell_type": "code",
   "execution_count": 7,
   "id": "2573b7df",
   "metadata": {},
   "outputs": [
    {
     "data": {
      "text/plain": [
       "100.0"
      ]
     },
     "execution_count": 7,
     "metadata": {},
     "output_type": "execute_result"
    }
   ],
   "source": [
    "dt_model = DecisionTreeClassifier(criterion='gini')\n",
    "dt_model.fit(df[top_5_features], df[y_var])\n",
    "dt_model.score(df[top_5_features], df[y_var]) * 100 "
   ]
  },
  {
   "cell_type": "markdown",
   "id": "8ef317d3",
   "metadata": {},
   "source": [
    "Without cross-validation, we see 100% accuracy on training data. Clearly the model is over-fitting."
   ]
  },
  {
   "cell_type": "markdown",
   "id": "596cd791",
   "metadata": {},
   "source": [
    "# 2b\n",
    "What is the accuracy of the model with a 5 fold cross validation?"
   ]
  },
  {
   "cell_type": "code",
   "execution_count": 8,
   "id": "6c951098",
   "metadata": {},
   "outputs": [
    {
     "name": "stdout",
     "output_type": "stream",
     "text": [
      "Best Train Score is 82.96\n"
     ]
    }
   ],
   "source": [
    "tune_parm_space = {'min_samples_split':list(range(1,40)),\n",
    "                   'max_depth':list(range(1,40))\n",
    "                  }\n",
    "\n",
    "clf = GridSearchCV(DecisionTreeClassifier(), tune_parm_space, cv=5)\n",
    "clf.fit(df[top_5_features], df[y_var])\n",
    "print(f\"Best Train Score is {np.round(clf.best_score_ * 100, 2)}\")"
   ]
  },
  {
   "cell_type": "markdown",
   "id": "f9f1ec14",
   "metadata": {},
   "source": [
    "After cross-validation, the train accuracy drops to approximately 83%. \n",
    "So we can say that cross-validation, is very important part of model training with decision tree, because without which the model might over-fit data."
   ]
  }
 ],
 "metadata": {
  "kernelspec": {
   "display_name": "Python 3 (ipykernel)",
   "language": "python",
   "name": "python3"
  },
  "language_info": {
   "codemirror_mode": {
    "name": "ipython",
    "version": 3
   },
   "file_extension": ".py",
   "mimetype": "text/x-python",
   "name": "python",
   "nbconvert_exporter": "python",
   "pygments_lexer": "ipython3",
   "version": "3.8.10"
  }
 },
 "nbformat": 4,
 "nbformat_minor": 5
}
