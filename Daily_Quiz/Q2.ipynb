{
 "cells": [
  {
   "cell_type": "markdown",
   "id": "359b3893",
   "metadata": {},
   "source": [
    "# Q2\n",
    "Tree Based Models - Q02 - 02/July\n",
    "\n",
    "The training complexity of a decision tree is :<br>\n",
    "    \n",
    "    - O(k*NlogN) where N  = number of training examples, k = number of features. \n",
    "\n",
    "If training a tree with 20K data points takes 20 minutes, how much time will it take to train with 100k data points ?"
   ]
  },
  {
   "cell_type": "markdown",
   "id": "2bab23ca",
   "metadata": {},
   "source": [
    "Since the number of features is same, hence it if we take the ratio of the N * Log(N) for tow training observations, and multiply this ratio with 20 minutues(run time for 20K observations), we should get the required run time for 100K data points."
   ]
  },
  {
   "cell_type": "code",
   "execution_count": 1,
   "id": "d5ab28c8",
   "metadata": {},
   "outputs": [
    {
     "data": {
      "text/plain": [
       "116.25"
      ]
     },
     "execution_count": 1,
     "metadata": {},
     "output_type": "execute_result"
    }
   ],
   "source": [
    "import numpy as np\n",
    "n1 =  20000\n",
    "n2 = 100000\n",
    "run_time = 20 \n",
    "np.round((n2 * np.log(n2)) / (n1 * np.log(n1)) * run_time, 2)"
   ]
  },
  {
   "cell_type": "code",
   "execution_count": null,
   "id": "dc2be872",
   "metadata": {},
   "outputs": [],
   "source": []
  }
 ],
 "metadata": {
  "kernelspec": {
   "display_name": "Python 3 (ipykernel)",
   "language": "python",
   "name": "python3"
  },
  "language_info": {
   "codemirror_mode": {
    "name": "ipython",
    "version": 3
   },
   "file_extension": ".py",
   "mimetype": "text/x-python",
   "name": "python",
   "nbconvert_exporter": "python",
   "pygments_lexer": "ipython3",
   "version": "3.8.10"
  }
 },
 "nbformat": 4,
 "nbformat_minor": 5
}
