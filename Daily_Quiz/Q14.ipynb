{
 "cells": [
  {
   "cell_type": "markdown",
   "id": "dafb508b",
   "metadata": {},
   "source": [
    "# Q14\n",
    "Tree Based Models - Q14 - 20/July\n",
    "\n",
    "The infamous house price prediction problem. :\n",
    "\n",
    "07_House_Price_Data.xlsx contains house price data along with few relevant variables. \n",
    "https://drive.google.com/drive/folders/1Jl8iDu7nGmrqCECbrLqmVafgwE5PYfiU\n",
    "\n",
    "    Train a decision tree classifier to predict the house price based on other variables present in the dataset. \n",
    "    Use a 5 fold CV for scoring.  \n",
    "    Which variables do you think are categorical? \n",
    "    How good is the prediction?"
   ]
  },
  {
   "cell_type": "code",
   "execution_count": 2,
   "id": "4904d28f",
   "metadata": {},
   "outputs": [],
   "source": [
    "import pandas as pd\n",
    "import numpy as np\n",
    "\n",
    "from sklearn.tree import DecisionTreeRegressor\n",
    "from sklearn.model_selection import GridSearchCV, train_test_split\n",
    "from sklearn.metrics import mean_squared_error\n",
    "\n",
    "import warnings\n",
    "warnings.filterwarnings(\"ignore\")"
   ]
  },
  {
   "cell_type": "code",
   "execution_count": 3,
   "id": "b201635b",
   "metadata": {},
   "outputs": [
    {
     "data": {
      "text/html": [
       "<div>\n",
       "<style scoped>\n",
       "    .dataframe tbody tr th:only-of-type {\n",
       "        vertical-align: middle;\n",
       "    }\n",
       "\n",
       "    .dataframe tbody tr th {\n",
       "        vertical-align: top;\n",
       "    }\n",
       "\n",
       "    .dataframe thead th {\n",
       "        text-align: right;\n",
       "    }\n",
       "</style>\n",
       "<table border=\"1\" class=\"dataframe\">\n",
       "  <thead>\n",
       "    <tr style=\"text-align: right;\">\n",
       "      <th></th>\n",
       "      <th>Home No</th>\n",
       "      <th>Nbhd</th>\n",
       "      <th>Offers</th>\n",
       "      <th>SqFt</th>\n",
       "      <th>Brick</th>\n",
       "      <th>Bedrooms</th>\n",
       "      <th>Bathrooms</th>\n",
       "      <th>Price</th>\n",
       "    </tr>\n",
       "  </thead>\n",
       "  <tbody>\n",
       "    <tr>\n",
       "      <th>0</th>\n",
       "      <td>1</td>\n",
       "      <td>0</td>\n",
       "      <td>2</td>\n",
       "      <td>1790</td>\n",
       "      <td>0</td>\n",
       "      <td>2</td>\n",
       "      <td>2</td>\n",
       "      <td>114300</td>\n",
       "    </tr>\n",
       "    <tr>\n",
       "      <th>1</th>\n",
       "      <td>2</td>\n",
       "      <td>0</td>\n",
       "      <td>3</td>\n",
       "      <td>2030</td>\n",
       "      <td>0</td>\n",
       "      <td>4</td>\n",
       "      <td>2</td>\n",
       "      <td>114200</td>\n",
       "    </tr>\n",
       "  </tbody>\n",
       "</table>\n",
       "</div>"
      ],
      "text/plain": [
       "   Home No  Nbhd  Offers  SqFt  Brick  Bedrooms  Bathrooms   Price\n",
       "0        1     0       2  1790      0         2          2  114300\n",
       "1        2     0       3  2030      0         4          2  114200"
      ]
     },
     "execution_count": 3,
     "metadata": {},
     "output_type": "execute_result"
    }
   ],
   "source": [
    "df = pd.read_excel(\"07_House_Price_Data.xlsx\")\n",
    "df.head(2)"
   ]
  },
  {
   "cell_type": "code",
   "execution_count": 7,
   "id": "be870097",
   "metadata": {},
   "outputs": [
    {
     "data": {
      "text/html": [
       "<div>\n",
       "<style scoped>\n",
       "    .dataframe tbody tr th:only-of-type {\n",
       "        vertical-align: middle;\n",
       "    }\n",
       "\n",
       "    .dataframe tbody tr th {\n",
       "        vertical-align: top;\n",
       "    }\n",
       "\n",
       "    .dataframe thead th {\n",
       "        text-align: right;\n",
       "    }\n",
       "</style>\n",
       "<table border=\"1\" class=\"dataframe\">\n",
       "  <thead>\n",
       "    <tr style=\"text-align: right;\">\n",
       "      <th></th>\n",
       "      <th>Home No</th>\n",
       "      <th>Offers</th>\n",
       "      <th>SqFt</th>\n",
       "      <th>Bedrooms</th>\n",
       "      <th>Bathrooms</th>\n",
       "      <th>Price</th>\n",
       "      <th>Nbhd_0</th>\n",
       "      <th>Nbhd_1</th>\n",
       "      <th>Brick_0</th>\n",
       "      <th>Brick_1</th>\n",
       "    </tr>\n",
       "  </thead>\n",
       "  <tbody>\n",
       "    <tr>\n",
       "      <th>0</th>\n",
       "      <td>1</td>\n",
       "      <td>2</td>\n",
       "      <td>1790</td>\n",
       "      <td>2</td>\n",
       "      <td>2</td>\n",
       "      <td>114300</td>\n",
       "      <td>1</td>\n",
       "      <td>0</td>\n",
       "      <td>1</td>\n",
       "      <td>0</td>\n",
       "    </tr>\n",
       "    <tr>\n",
       "      <th>1</th>\n",
       "      <td>2</td>\n",
       "      <td>3</td>\n",
       "      <td>2030</td>\n",
       "      <td>4</td>\n",
       "      <td>2</td>\n",
       "      <td>114200</td>\n",
       "      <td>1</td>\n",
       "      <td>0</td>\n",
       "      <td>1</td>\n",
       "      <td>0</td>\n",
       "    </tr>\n",
       "  </tbody>\n",
       "</table>\n",
       "</div>"
      ],
      "text/plain": [
       "   Home No  Offers  SqFt  Bedrooms  Bathrooms   Price  Nbhd_0  Nbhd_1  \\\n",
       "0        1       2  1790         2          2  114300       1       0   \n",
       "1        2       3  2030         4          2  114200       1       0   \n",
       "\n",
       "   Brick_0  Brick_1  \n",
       "0        1        0  \n",
       "1        1        0  "
      ]
     },
     "execution_count": 7,
     "metadata": {},
     "output_type": "execute_result"
    }
   ],
   "source": [
    "# Treating Nbhd and Brick as categorical variables\n",
    "cat_vars = ['Nbhd', 'Brick']\n",
    "num_vars = ['Offers', 'SqFt', 'Bedrooms', 'Bathrooms']\n",
    "df = pd.get_dummies(df, columns=cat_vars, prefix_sep=\"_\")\n",
    "df.head(2)"
   ]
  },
  {
   "cell_type": "code",
   "execution_count": 9,
   "id": "b63c546b",
   "metadata": {},
   "outputs": [],
   "source": [
    "dummy_vars = ['Nbhd_0', 'Nbhd_1', 'Brick_0', 'Brick_1']\n",
    "x_vars = dummy_vars + num_vars\n",
    "y_var = 'Price'"
   ]
  },
  {
   "cell_type": "code",
   "execution_count": 10,
   "id": "90d018eb",
   "metadata": {},
   "outputs": [
    {
     "data": {
      "text/plain": [
       "GridSearchCV(cv=5, estimator=DecisionTreeRegressor(random_state=1),\n",
       "             param_grid={'max_depth': range(1, 20),\n",
       "                         'min_samples_leaf': range(1, 20),\n",
       "                         'min_samples_split': range(1, 20)})"
      ]
     },
     "execution_count": 10,
     "metadata": {},
     "output_type": "execute_result"
    }
   ],
   "source": [
    "# Without splitting data into training and test\n",
    "# Estimate the performance of model using cross-validation\n",
    "tune_parm_space = {'min_samples_split':range(1, 20),\n",
    "                   'max_depth':range(1, 20),\n",
    "                   'min_samples_leaf':range(1, 20)\n",
    "                  }\n",
    "\n",
    "tree_reg_model = DecisionTreeRegressor(random_state=1)\n",
    "tree_reg_model_cv_1 = GridSearchCV(tree_reg_model, tune_parm_space, cv=5)\n",
    "tree_reg_model_cv_1.fit(df[x_vars], df[y_var])"
   ]
  },
  {
   "cell_type": "code",
   "execution_count": 11,
   "id": "5f69bd8f",
   "metadata": {},
   "outputs": [
    {
     "data": {
      "text/plain": [
       "{'max_depth': 6, 'min_samples_leaf': 6, 'min_samples_split': 2}"
      ]
     },
     "execution_count": 11,
     "metadata": {},
     "output_type": "execute_result"
    }
   ],
   "source": [
    "tree_reg_model_cv_1.best_params_"
   ]
  },
  {
   "cell_type": "code",
   "execution_count": 12,
   "id": "9265009e",
   "metadata": {},
   "outputs": [
    {
     "name": "stdout",
     "output_type": "stream",
     "text": [
      "Using Grid Search cv and doing 5 fold cross-validation, decision tree performs as below:\n",
      "Model R square is 69.02\n",
      "Model RMSE is     10249.04\n"
     ]
    }
   ],
   "source": [
    "model_sq = tree_reg_model_cv_1.best_score_\n",
    "rmse = mean_squared_error(df[y_var], tree_reg_model_cv_1.predict(df[x_vars]), squared=False)\n",
    "\n",
    "print(f\"Using Grid Search cv and doing 5 fold cross-validation, decision tree performs as below:\")\n",
    "print(f\"Model R square is {np.round(model_sq * 100, 2)}\")\n",
    "print(f\"Model RMSE is     {np.round(rmse, 2)}\")"
   ]
  },
  {
   "cell_type": "code",
   "execution_count": 34,
   "id": "38bcfca4",
   "metadata": {},
   "outputs": [
    {
     "data": {
      "image/png": "[encoded data removed]",
      "text/plain": [
       "<Figure size 432x288 with 1 Axes>"
      ]
     },
     "metadata": {
      "needs_background": "light"
     },
     "output_type": "display_data"
    }
   ],
   "source": [
    "pred = tree_reg_model_cv_1.predict(df[x_vars])\n",
    "residual = df[y_var] - pred\n",
    "#df[y_var].describe()\n",
    "\n",
    "import matplotlib.pyplot as plt\n",
    "\n",
    "fig = plt.figure()\n",
    "ax1 = fig.add_subplot(111)\n",
    "\n",
    "ax1.scatter(residual, df[y_var], c='b');"
   ]
  },
  {
   "cell_type": "code",
   "execution_count": 32,
   "id": "75a54c34",
   "metadata": {},
   "outputs": [
    {
     "data": {
      "image/png": "[encoded data removed]",
      "text/plain": [
       "<Figure size 432x288 with 1 Axes>"
      ]
     },
     "metadata": {
      "needs_background": "light"
     },
     "output_type": "display_data"
    }
   ],
   "source": [
    "mean_of_residual = np.mean(residual.values) \n",
    "std_of_residual = np.std(residual.values)\n",
    "std_residual = (residual.values - mean_of_residual) / std_of_residual\n",
    "import statsmodels.api as sm\n",
    "sm.qqplot(std_residual, line ='45');"
   ]
  },
  {
   "cell_type": "markdown",
   "id": "957f319c",
   "metadata": {},
   "source": [
    "# Answers:\n",
    "    1. Train a decision tree classifier to predict the house price based on other variables present in the dataset.Use a \n",
    "       5 fold CV for scoring. \n",
    "       Implemented in the notebook\n",
    "    2. Which variables do you think are categorical? \n",
    "       The categorical variables are `Nbhd` and `Brick`\n",
    "    3. How good is the prediction? \n",
    "       The R-square of the model is 69%, and model RMSE is 10249, which seems ok considering the scale of target variable. The residual plot and qq-plot, seems to be ok. Overall model is performing decent.\n",
    "       "
   ]
  },
  {
   "cell_type": "code",
   "execution_count": null,
   "id": "1d41e1dc",
   "metadata": {},
   "outputs": [],
   "source": []
  }
 ],
 "metadata": {
  "kernelspec": {
   "display_name": "Python 3 (ipykernel)",
   "language": "python",
   "name": "python3"
  },
  "language_info": {
   "codemirror_mode": {
    "name": "ipython",
    "version": 3
   },
   "file_extension": ".py",
   "mimetype": "text/x-python",
   "name": "python",
   "nbconvert_exporter": "python",
   "pygments_lexer": "ipython3",
   "version": "3.8.10"
  }
 },
 "nbformat": 4,
 "nbformat_minor": 5
}
