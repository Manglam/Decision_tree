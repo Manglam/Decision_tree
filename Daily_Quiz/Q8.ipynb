{
 "cells": [
  {
   "cell_type": "markdown",
   "id": "8591c5ad",
   "metadata": {},
   "source": [
    "# Q8\n",
    "Tree Based Models - Q08- 09/July\n",
    "\n",
    "Consider the dataset from Q07 (credit_data). \n",
    "https://drive.google.com/drive/folders/1Jl8iDu7nGmrqCECbrLqmVafgwE5PYfiU\n",
    "\n",
    "The decision trees overfit the training data. To avoid overfitting we can do a few things.\n",
    "\n",
    "Train decision tree using sklearn DecisionTreeClassifier() with the following condition and check how train and test accuracy vary:\n",
    "\n",
    "    - Case 1) max_depth  = 5, 6, and 7\n",
    "    - Case 2) min_samples_split = 10, 15 & 20\n",
    "    - case 3) max_features = “sqrt”, “log2”"
   ]
  },
  {
   "cell_type": "code",
   "execution_count": 1,
   "id": "ac3cf700",
   "metadata": {},
   "outputs": [],
   "source": [
    "import numpy as np\n",
    "import pandas as pd\n",
    "from sklearn.tree import DecisionTreeClassifier\n",
    "from sklearn.model_selection import train_test_split\n",
    "\n",
    "pd.set_option('display.max_columns', None)"
   ]
  },
  {
   "cell_type": "code",
   "execution_count": 2,
   "id": "a57fb65d",
   "metadata": {},
   "outputs": [
    {
     "data": {
      "text/html": [
       "<div>\n",
       "<style scoped>\n",
       "    .dataframe tbody tr th:only-of-type {\n",
       "        vertical-align: middle;\n",
       "    }\n",
       "\n",
       "    .dataframe tbody tr th {\n",
       "        vertical-align: top;\n",
       "    }\n",
       "\n",
       "    .dataframe thead th {\n",
       "        text-align: right;\n",
       "    }\n",
       "</style>\n",
       "<table border=\"1\" class=\"dataframe\">\n",
       "  <thead>\n",
       "    <tr style=\"text-align: right;\">\n",
       "      <th></th>\n",
       "      <th>A1</th>\n",
       "      <th>A2</th>\n",
       "      <th>A3</th>\n",
       "      <th>A4</th>\n",
       "      <th>A5</th>\n",
       "      <th>A6</th>\n",
       "      <th>A7</th>\n",
       "      <th>A8</th>\n",
       "      <th>A9</th>\n",
       "      <th>A10</th>\n",
       "      <th>A11</th>\n",
       "      <th>A12</th>\n",
       "      <th>A13</th>\n",
       "      <th>A14</th>\n",
       "      <th>A15</th>\n",
       "      <th>T</th>\n",
       "    </tr>\n",
       "  </thead>\n",
       "  <tbody>\n",
       "    <tr>\n",
       "      <th>0</th>\n",
       "      <td>b</td>\n",
       "      <td>30.83</td>\n",
       "      <td>0.00</td>\n",
       "      <td>u</td>\n",
       "      <td>g</td>\n",
       "      <td>w</td>\n",
       "      <td>v</td>\n",
       "      <td>1.25</td>\n",
       "      <td>t</td>\n",
       "      <td>t</td>\n",
       "      <td>1</td>\n",
       "      <td>f</td>\n",
       "      <td>g</td>\n",
       "      <td>202</td>\n",
       "      <td>0</td>\n",
       "      <td>+</td>\n",
       "    </tr>\n",
       "    <tr>\n",
       "      <th>1</th>\n",
       "      <td>a</td>\n",
       "      <td>58.67</td>\n",
       "      <td>4.46</td>\n",
       "      <td>u</td>\n",
       "      <td>g</td>\n",
       "      <td>q</td>\n",
       "      <td>h</td>\n",
       "      <td>3.04</td>\n",
       "      <td>t</td>\n",
       "      <td>t</td>\n",
       "      <td>6</td>\n",
       "      <td>f</td>\n",
       "      <td>g</td>\n",
       "      <td>43</td>\n",
       "      <td>560</td>\n",
       "      <td>+</td>\n",
       "    </tr>\n",
       "  </tbody>\n",
       "</table>\n",
       "</div>"
      ],
      "text/plain": [
       "  A1     A2    A3 A4 A5 A6 A7    A8 A9 A10  A11 A12 A13  A14  A15  T\n",
       "0  b  30.83  0.00  u  g  w  v  1.25  t   t    1   f   g  202    0  +\n",
       "1  a  58.67  4.46  u  g  q  h  3.04  t   t    6   f   g   43  560  +"
      ]
     },
     "execution_count": 2,
     "metadata": {},
     "output_type": "execute_result"
    }
   ],
   "source": [
    "df = pd.read_csv(\"01_credit_data.csv\")\n",
    "df.head(2)"
   ]
  },
  {
   "cell_type": "code",
   "execution_count": 3,
   "id": "83dac804",
   "metadata": {},
   "outputs": [],
   "source": [
    "cat_var_list = ['A1', 'A4', 'A5', 'A6', 'A7', 'A9', 'A10', 'A12', 'A13']\n",
    "num_vrb_list = ['A2', 'A3', 'A8', 'A11', 'A14', 'A15']"
   ]
  },
  {
   "cell_type": "code",
   "execution_count": 4,
   "id": "5c6be8c9",
   "metadata": {},
   "outputs": [],
   "source": [
    "#df[num_vrb_list] = df[num_vrb_list].astype(float)\n",
    "for col in  num_vrb_list:\n",
    "    df[col] = pd.to_numeric(df[col], errors='coerce')\n",
    "df = df.dropna(axis=0)"
   ]
  },
  {
   "cell_type": "code",
   "execution_count": 5,
   "id": "2389d3e1",
   "metadata": {},
   "outputs": [],
   "source": [
    "df_encoded = pd.get_dummies(df, columns = cat_var_list, prefix_sep='_', drop_first=True)\n",
    "df_encoded['target'] = np.where(df_encoded['T'] == '+', 1, 0)\n",
    "#df_encoded.head()"
   ]
  },
  {
   "cell_type": "code",
   "execution_count": 6,
   "id": "3ec220d1",
   "metadata": {},
   "outputs": [
    {
     "data": {
      "text/html": [
       "<div>\n",
       "<style scoped>\n",
       "    .dataframe tbody tr th:only-of-type {\n",
       "        vertical-align: middle;\n",
       "    }\n",
       "\n",
       "    .dataframe tbody tr th {\n",
       "        vertical-align: top;\n",
       "    }\n",
       "\n",
       "    .dataframe thead th {\n",
       "        text-align: right;\n",
       "    }\n",
       "</style>\n",
       "<table border=\"1\" class=\"dataframe\">\n",
       "  <thead>\n",
       "    <tr style=\"text-align: right;\">\n",
       "      <th>target</th>\n",
       "      <th>0</th>\n",
       "      <th>1</th>\n",
       "    </tr>\n",
       "    <tr>\n",
       "      <th>T</th>\n",
       "      <th></th>\n",
       "      <th></th>\n",
       "    </tr>\n",
       "  </thead>\n",
       "  <tbody>\n",
       "    <tr>\n",
       "      <th>+</th>\n",
       "      <td>0</td>\n",
       "      <td>299</td>\n",
       "    </tr>\n",
       "    <tr>\n",
       "      <th>-</th>\n",
       "      <td>367</td>\n",
       "      <td>0</td>\n",
       "    </tr>\n",
       "  </tbody>\n",
       "</table>\n",
       "</div>"
      ],
      "text/plain": [
       "target    0    1\n",
       "T               \n",
       "+         0  299\n",
       "-       367    0"
      ]
     },
     "execution_count": 6,
     "metadata": {},
     "output_type": "execute_result"
    }
   ],
   "source": [
    "# varify encoding\n",
    "pd.crosstab(df_encoded['T'], df_encoded['target'])"
   ]
  },
  {
   "cell_type": "code",
   "execution_count": 7,
   "id": "14e55a7f",
   "metadata": {},
   "outputs": [],
   "source": [
    "df_encoded.drop('T', axis=1, inplace=True)"
   ]
  },
  {
   "cell_type": "code",
   "execution_count": 8,
   "id": "a48fc52c",
   "metadata": {},
   "outputs": [
    {
     "name": "stdout",
     "output_type": "stream",
     "text": [
      "(499, 41)\n",
      "(167, 41)\n"
     ]
    }
   ],
   "source": [
    "df_train, df_test = train_test_split(df_encoded, test_size=0.25, random_state=25)\n",
    "print(df_train.shape)\n",
    "print(df_test.shape)"
   ]
  },
  {
   "cell_type": "code",
   "execution_count": 9,
   "id": "5a432de7",
   "metadata": {},
   "outputs": [],
   "source": [
    "# create a dictionary, to create cases, as mentioned in quiz\n",
    "#- Case 1) max_depth  = 5, 6, and 7\n",
    "#- Case 2) min_samples_split = 10, 15 & 20\n",
    "#- case 3) max_features = “sqrt”, “log2”\n",
    "dict_comb = {'case_1' : {'max_depth':[5, 6, 7]},\n",
    "             'case_2' : {'min_samples_split': [10, 15, 20]},\n",
    "             'case_3' : {'max_features': ['sqrt', 'log2']}\n",
    "            }"
   ]
  },
  {
   "cell_type": "code",
   "execution_count": 10,
   "id": "a8350ced",
   "metadata": {},
   "outputs": [],
   "source": [
    "x_cols = ['A2', 'A3', 'A8', 'A11', 'A14', 'A15', 'A1_a', 'A1_b', 'A4_u', 'A4_y',\n",
    "          'A5_gg', 'A5_p', 'A6_aa', 'A6_c', 'A6_cc', 'A6_d', 'A6_e', 'A6_ff',\n",
    "          'A6_i', 'A6_j', 'A6_k', 'A6_m', 'A6_q', 'A6_r', 'A6_w', 'A6_x', 'A7_bb',\n",
    "          'A7_dd', 'A7_ff', 'A7_h', 'A7_j', 'A7_n', 'A7_o', 'A7_v', 'A7_z',\n",
    "          'A9_t', 'A10_t', 'A12_t', 'A13_p', 'A13_s'\n",
    "         ]\n",
    "X = df_train[x_cols]\n",
    "y = df_train['target']"
   ]
  },
  {
   "cell_type": "code",
   "execution_count": 11,
   "id": "c30ad2c9",
   "metadata": {},
   "outputs": [
    {
     "data": {
      "text/html": [
       "<div>\n",
       "<style scoped>\n",
       "    .dataframe tbody tr th:only-of-type {\n",
       "        vertical-align: middle;\n",
       "    }\n",
       "\n",
       "    .dataframe tbody tr th {\n",
       "        vertical-align: top;\n",
       "    }\n",
       "\n",
       "    .dataframe thead th {\n",
       "        text-align: right;\n",
       "    }\n",
       "</style>\n",
       "<table border=\"1\" class=\"dataframe\">\n",
       "  <thead>\n",
       "    <tr style=\"text-align: right;\">\n",
       "      <th></th>\n",
       "      <th>case</th>\n",
       "      <th>tunining_parameter</th>\n",
       "      <th>value</th>\n",
       "      <th>training_accuracy</th>\n",
       "      <th>test_accuracy</th>\n",
       "    </tr>\n",
       "  </thead>\n",
       "  <tbody>\n",
       "    <tr>\n",
       "      <th>0</th>\n",
       "      <td>case_1</td>\n",
       "      <td>max_depth</td>\n",
       "      <td>5.0</td>\n",
       "      <td>90.98</td>\n",
       "      <td>89.22</td>\n",
       "    </tr>\n",
       "    <tr>\n",
       "      <th>1</th>\n",
       "      <td>case_1</td>\n",
       "      <td>max_depth</td>\n",
       "      <td>6.0</td>\n",
       "      <td>92.79</td>\n",
       "      <td>88.02</td>\n",
       "    </tr>\n",
       "    <tr>\n",
       "      <th>2</th>\n",
       "      <td>case_1</td>\n",
       "      <td>max_depth</td>\n",
       "      <td>7.0</td>\n",
       "      <td>93.79</td>\n",
       "      <td>87.43</td>\n",
       "    </tr>\n",
       "    <tr>\n",
       "      <th>3</th>\n",
       "      <td>case_2</td>\n",
       "      <td>min_samples_split</td>\n",
       "      <td>10.0</td>\n",
       "      <td>95.79</td>\n",
       "      <td>86.23</td>\n",
       "    </tr>\n",
       "    <tr>\n",
       "      <th>4</th>\n",
       "      <td>case_2</td>\n",
       "      <td>min_samples_split</td>\n",
       "      <td>15.0</td>\n",
       "      <td>93.99</td>\n",
       "      <td>85.63</td>\n",
       "    </tr>\n",
       "    <tr>\n",
       "      <th>5</th>\n",
       "      <td>case_2</td>\n",
       "      <td>min_samples_split</td>\n",
       "      <td>20.0</td>\n",
       "      <td>92.79</td>\n",
       "      <td>86.23</td>\n",
       "    </tr>\n",
       "    <tr>\n",
       "      <th>6</th>\n",
       "      <td>case_3</td>\n",
       "      <td>max_features</td>\n",
       "      <td>sqrt</td>\n",
       "      <td>100.00</td>\n",
       "      <td>76.05</td>\n",
       "    </tr>\n",
       "    <tr>\n",
       "      <th>7</th>\n",
       "      <td>case_3</td>\n",
       "      <td>max_features</td>\n",
       "      <td>log2</td>\n",
       "      <td>100.00</td>\n",
       "      <td>80.24</td>\n",
       "    </tr>\n",
       "  </tbody>\n",
       "</table>\n",
       "</div>"
      ],
      "text/plain": [
       "     case tunining_parameter value  training_accuracy  test_accuracy\n",
       "0  case_1          max_depth   5.0              90.98          89.22\n",
       "1  case_1          max_depth   6.0              92.79          88.02\n",
       "2  case_1          max_depth   7.0              93.79          87.43\n",
       "3  case_2  min_samples_split  10.0              95.79          86.23\n",
       "4  case_2  min_samples_split  15.0              93.99          85.63\n",
       "5  case_2  min_samples_split  20.0              92.79          86.23\n",
       "6  case_3       max_features  sqrt             100.00          76.05\n",
       "7  case_3       max_features  log2             100.00          80.24"
      ]
     },
     "execution_count": 11,
     "metadata": {},
     "output_type": "execute_result"
    }
   ],
   "source": [
    "# create a data frame, to store results\n",
    "df_accuracy = pd.DataFrame(data={'case': [], \n",
    "                                 'tunining_parameter': [], \n",
    "                                 'value':[],\n",
    "                                 'training_accuracy':[],\n",
    "                                 'test_accuracy':[]\n",
    "                                }\n",
    "                          )\n",
    "\n",
    "for case in dict_comb.keys():\n",
    "    for tuning_parameter in dict_comb[case].keys():\n",
    "        for value_parameter in dict_comb[case][tuning_parameter]:\n",
    "            if tuning_parameter == \"max_depth\":\n",
    "                model_decision_tree = DecisionTreeClassifier(random_state=0, criterion='gini', max_depth = value_parameter)\n",
    "            elif tuning_parameter == \"min_samples_split\":\n",
    "                model_decision_tree = DecisionTreeClassifier(random_state=0, criterion='gini', \n",
    "                                                             min_samples_split = value_parameter)\n",
    "            elif tuning_parameter == \"max_features\":\n",
    "                model_decision_tree = DecisionTreeClassifier(random_state=0, criterion='gini', max_features = value_parameter)\n",
    "            else:\n",
    "                print(f'We have not this parameter for testing {tuning_parameter}')\n",
    "            model_decision_tree.fit(X, y)\n",
    "            train_accuracy = np.round(model_decision_tree.score(df_train[x_cols], df_train['target']) * 100, 2)\n",
    "            test_accuracy = np.round(model_decision_tree.score(df_test[x_cols], df_test['target']) * 100, 2)\n",
    "            df_accuracy.loc[len(df_accuracy.index)] = [case, tuning_parameter, value_parameter, train_accuracy, test_accuracy]\n",
    "df_accuracy"
   ]
  }
 ],
 "metadata": {
  "kernelspec": {
   "display_name": "Python 3 (ipykernel)",
   "language": "python",
   "name": "python3"
  },
  "language_info": {
   "codemirror_mode": {
    "name": "ipython",
    "version": 3
   },
   "file_extension": ".py",
   "mimetype": "text/x-python",
   "name": "python",
   "nbconvert_exporter": "python",
   "pygments_lexer": "ipython3",
   "version": "3.8.10"
  }
 },
 "nbformat": 4,
 "nbformat_minor": 5
}
