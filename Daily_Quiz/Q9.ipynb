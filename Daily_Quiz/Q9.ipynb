{
 "cells": [
  {
   "cell_type": "markdown",
   "id": "cf69600d",
   "metadata": {},
   "source": [
    "# Q9\n",
    "\n",
    "Tree Based Models - Q09- 11/July\n",
    "\n",
    "An optometrist prescribes type of contact lenses according to 4 features (age, prescription, astigmatism and tear production rate). The data is available in 02_lens_prescription.csv file here: https://drive.google.com/drive/folders/1Jl8iDu7nGmrqCECbrLqmVafgwE5PYfiU\n",
    "\n",
    "Calculate the Gini impurity index for each of the features. Note that age is an ordinal variable.\n",
    "Which feature indicates that contact lens should not be used?"
   ]
  },
  {
   "cell_type": "code",
   "execution_count": 1,
   "id": "fb5649a2",
   "metadata": {},
   "outputs": [],
   "source": [
    "import numpy as np\n",
    "import pandas as pd"
   ]
  },
  {
   "cell_type": "code",
   "execution_count": 2,
   "id": "6f52c6c8",
   "metadata": {},
   "outputs": [
    {
     "data": {
      "text/html": [
       "<div>\n",
       "<style scoped>\n",
       "    .dataframe tbody tr th:only-of-type {\n",
       "        vertical-align: middle;\n",
       "    }\n",
       "\n",
       "    .dataframe tbody tr th {\n",
       "        vertical-align: top;\n",
       "    }\n",
       "\n",
       "    .dataframe thead th {\n",
       "        text-align: right;\n",
       "    }\n",
       "</style>\n",
       "<table border=\"1\" class=\"dataframe\">\n",
       "  <thead>\n",
       "    <tr style=\"text-align: right;\">\n",
       "      <th></th>\n",
       "      <th>S No</th>\n",
       "      <th>Age</th>\n",
       "      <th>Prescription</th>\n",
       "      <th>Astigmatism</th>\n",
       "      <th>Tear production rate</th>\n",
       "      <th>Contact_lens</th>\n",
       "    </tr>\n",
       "  </thead>\n",
       "  <tbody>\n",
       "    <tr>\n",
       "      <th>0</th>\n",
       "      <td>1</td>\n",
       "      <td>1</td>\n",
       "      <td>myope</td>\n",
       "      <td>no</td>\n",
       "      <td>reduced</td>\n",
       "      <td>no lens</td>\n",
       "    </tr>\n",
       "    <tr>\n",
       "      <th>1</th>\n",
       "      <td>2</td>\n",
       "      <td>1</td>\n",
       "      <td>myope</td>\n",
       "      <td>no</td>\n",
       "      <td>normal</td>\n",
       "      <td>soft</td>\n",
       "    </tr>\n",
       "  </tbody>\n",
       "</table>\n",
       "</div>"
      ],
      "text/plain": [
       "   S No  Age Prescription Astigmatism Tear production rate Contact_lens\n",
       "0     1    1        myope          no              reduced      no lens\n",
       "1     2    1        myope          no               normal         soft"
      ]
     },
     "execution_count": 2,
     "metadata": {},
     "output_type": "execute_result"
    }
   ],
   "source": [
    "df = pd.read_csv(\"02_lens_prescription.csv\")\n",
    "df.head(2)"
   ]
  },
  {
   "cell_type": "code",
   "execution_count": 3,
   "id": "3d950b88",
   "metadata": {},
   "outputs": [
    {
     "data": {
      "text/plain": [
       "no lens    15\n",
       "soft        5\n",
       "hard        4\n",
       "Name: Contact_lens, dtype: int64"
      ]
     },
     "execution_count": 3,
     "metadata": {},
     "output_type": "execute_result"
    }
   ],
   "source": [
    "df.Contact_lens.value_counts()"
   ]
  },
  {
   "cell_type": "code",
   "execution_count": 4,
   "id": "58177748",
   "metadata": {},
   "outputs": [
    {
     "data": {
      "text/plain": [
       "1    8\n",
       "2    8\n",
       "3    8\n",
       "Name: Age, dtype: int64"
      ]
     },
     "execution_count": 4,
     "metadata": {},
     "output_type": "execute_result"
    }
   ],
   "source": [
    "df['Age'].value_counts()"
   ]
  },
  {
   "cell_type": "code",
   "execution_count": 5,
   "id": "72487eea",
   "metadata": {},
   "outputs": [
    {
     "data": {
      "text/plain": [
       "(24, 6)"
      ]
     },
     "execution_count": 5,
     "metadata": {},
     "output_type": "execute_result"
    }
   ],
   "source": [
    "df.shape"
   ]
  },
  {
   "cell_type": "code",
   "execution_count": 6,
   "id": "6be7e7de",
   "metadata": {},
   "outputs": [],
   "source": [
    "def calculate_gini_impurity(ind_var):\n",
    "    \n",
    "    prob = ind_var.value_counts() / (ind_var.shape[0])\n",
    "    prob_sq_sum = np.sum(prob * prob)\n",
    "    gini_impurity = 1 - prob_sq_sum\n",
    "    \n",
    "    return gini_impurity\n",
    "    \n",
    "def calculate_gini_impurity_reduction(dep_var, ind_var, split_info=None):\n",
    "    \n",
    "    # before split, find gini impurity\n",
    "    gini_impurity_before_split = calculate_gini_impurity(ind_var)\n",
    "    \n",
    "    if split_info is not None:\n",
    "        dep_var = pd.Series(np.where(dep_var <= split_info, 1, 0))\n",
    "    \n",
    "    unique_levels_dep = dep_var.unique().tolist()\n",
    "    gini_impurity_list = []\n",
    "    for level in unique_levels_dep:\n",
    "        # Get independent variable, after split\n",
    "        ind_var_1 = ind_var[dep_var == level]\n",
    "        gini_impurity = calculate_gini_impurity(ind_var_1)\n",
    "        # weight gini impurity by number of observations\n",
    "        gini_impurity = gini_impurity * (ind_var_1.shape[0] / ind_var.shape[0])\n",
    "        gini_impurity_list.append(gini_impurity)\n",
    "    \n",
    "    gini_impurity_after_split = sum(gini_impurity_list)\n",
    "    gini_reduction = gini_impurity_before_split - gini_impurity_after_split\n",
    "        \n",
    "    return gini_reduction    "
   ]
  },
  {
   "cell_type": "markdown",
   "id": "29ed18e9",
   "metadata": {},
   "source": [
    "# Approach 1\n",
    "Without converting categorical variable to dummy variable, hence calculating gini reduction at categorical variable level"
   ]
  },
  {
   "cell_type": "code",
   "execution_count": 7,
   "id": "0181394f",
   "metadata": {},
   "outputs": [
    {
     "data": {
      "text/html": [
       "<div>\n",
       "<style scoped>\n",
       "    .dataframe tbody tr th:only-of-type {\n",
       "        vertical-align: middle;\n",
       "    }\n",
       "\n",
       "    .dataframe tbody tr th {\n",
       "        vertical-align: top;\n",
       "    }\n",
       "\n",
       "    .dataframe thead th {\n",
       "        text-align: right;\n",
       "    }\n",
       "</style>\n",
       "<table border=\"1\" class=\"dataframe\">\n",
       "  <thead>\n",
       "    <tr style=\"text-align: right;\">\n",
       "      <th></th>\n",
       "      <th>vrb</th>\n",
       "      <th>split_level</th>\n",
       "      <th>gini_reduction</th>\n",
       "    </tr>\n",
       "  </thead>\n",
       "  <tbody>\n",
       "    <tr>\n",
       "      <th>0</th>\n",
       "      <td>Prescription</td>\n",
       "      <td>None</td>\n",
       "      <td>0.010417</td>\n",
       "    </tr>\n",
       "    <tr>\n",
       "      <th>1</th>\n",
       "      <td>Astigmatism</td>\n",
       "      <td>None</td>\n",
       "      <td>0.072917</td>\n",
       "    </tr>\n",
       "    <tr>\n",
       "      <th>2</th>\n",
       "      <td>Tear production rate</td>\n",
       "      <td>None</td>\n",
       "      <td>0.211806</td>\n",
       "    </tr>\n",
       "    <tr>\n",
       "      <th>3</th>\n",
       "      <td>Age</td>\n",
       "      <td>1</td>\n",
       "      <td>0.012153</td>\n",
       "    </tr>\n",
       "    <tr>\n",
       "      <th>4</th>\n",
       "      <td>Age</td>\n",
       "      <td>2</td>\n",
       "      <td>0.012153</td>\n",
       "    </tr>\n",
       "  </tbody>\n",
       "</table>\n",
       "</div>"
      ],
      "text/plain": [
       "                    vrb split_level  gini_reduction\n",
       "0          Prescription        None        0.010417\n",
       "1           Astigmatism        None        0.072917\n",
       "2  Tear production rate        None        0.211806\n",
       "3                   Age           1        0.012153\n",
       "4                   Age           2        0.012153"
      ]
     },
     "execution_count": 7,
     "metadata": {},
     "output_type": "execute_result"
    }
   ],
   "source": [
    "# for every variable, calculate gini reduction\n",
    "# since age is ordinal, do it at level 1 and 2\n",
    "df_gini_reduction = pd.DataFrame(data={'vrb': [], 'split_level': [], 'gini_reduction':[]})\n",
    "for vrb in ['Prescription', 'Astigmatism', 'Tear production rate', 'Age']:\n",
    "    if vrb == 'Age':\n",
    "        for split_info in [1, 2]:\n",
    "            gini_reduction = calculate_gini_impurity_reduction(df['Age'], df['Contact_lens'], split_info)\n",
    "            df_gini_reduction.loc[len(df_gini_reduction.index)] = [vrb, split_info, gini_reduction]\n",
    "    else:\n",
    "        gini_reduction = calculate_gini_impurity_reduction(df[vrb], df['Contact_lens'])\n",
    "        df_gini_reduction.loc[len(df_gini_reduction.index)] = [vrb, None, gini_reduction]\n",
    "df_gini_reduction"
   ]
  },
  {
   "cell_type": "markdown",
   "id": "1ce80cb6",
   "metadata": {},
   "source": [
    "# Approach 2\n",
    "After converting categorical variable to dummy variable"
   ]
  },
  {
   "cell_type": "code",
   "execution_count": 8,
   "id": "0ce9c695",
   "metadata": {},
   "outputs": [
    {
     "data": {
      "text/html": [
       "<div>\n",
       "<style scoped>\n",
       "    .dataframe tbody tr th:only-of-type {\n",
       "        vertical-align: middle;\n",
       "    }\n",
       "\n",
       "    .dataframe tbody tr th {\n",
       "        vertical-align: top;\n",
       "    }\n",
       "\n",
       "    .dataframe thead th {\n",
       "        text-align: right;\n",
       "    }\n",
       "</style>\n",
       "<table border=\"1\" class=\"dataframe\">\n",
       "  <thead>\n",
       "    <tr style=\"text-align: right;\">\n",
       "      <th></th>\n",
       "      <th>S No</th>\n",
       "      <th>Age</th>\n",
       "      <th>Contact_lens</th>\n",
       "      <th>Prescription_hypermetrope</th>\n",
       "      <th>Prescription_myope</th>\n",
       "      <th>Astigmatism_no</th>\n",
       "      <th>Astigmatism_yes</th>\n",
       "      <th>Tear production rate_normal</th>\n",
       "      <th>Tear production rate_reduced</th>\n",
       "    </tr>\n",
       "  </thead>\n",
       "  <tbody>\n",
       "    <tr>\n",
       "      <th>0</th>\n",
       "      <td>1</td>\n",
       "      <td>1</td>\n",
       "      <td>no lens</td>\n",
       "      <td>0</td>\n",
       "      <td>1</td>\n",
       "      <td>1</td>\n",
       "      <td>0</td>\n",
       "      <td>0</td>\n",
       "      <td>1</td>\n",
       "    </tr>\n",
       "    <tr>\n",
       "      <th>1</th>\n",
       "      <td>2</td>\n",
       "      <td>1</td>\n",
       "      <td>soft</td>\n",
       "      <td>0</td>\n",
       "      <td>1</td>\n",
       "      <td>1</td>\n",
       "      <td>0</td>\n",
       "      <td>1</td>\n",
       "      <td>0</td>\n",
       "    </tr>\n",
       "    <tr>\n",
       "      <th>2</th>\n",
       "      <td>3</td>\n",
       "      <td>1</td>\n",
       "      <td>no lens</td>\n",
       "      <td>0</td>\n",
       "      <td>1</td>\n",
       "      <td>0</td>\n",
       "      <td>1</td>\n",
       "      <td>0</td>\n",
       "      <td>1</td>\n",
       "    </tr>\n",
       "    <tr>\n",
       "      <th>3</th>\n",
       "      <td>4</td>\n",
       "      <td>1</td>\n",
       "      <td>hard</td>\n",
       "      <td>0</td>\n",
       "      <td>1</td>\n",
       "      <td>0</td>\n",
       "      <td>1</td>\n",
       "      <td>1</td>\n",
       "      <td>0</td>\n",
       "    </tr>\n",
       "    <tr>\n",
       "      <th>4</th>\n",
       "      <td>5</td>\n",
       "      <td>1</td>\n",
       "      <td>no lens</td>\n",
       "      <td>1</td>\n",
       "      <td>0</td>\n",
       "      <td>1</td>\n",
       "      <td>0</td>\n",
       "      <td>0</td>\n",
       "      <td>1</td>\n",
       "    </tr>\n",
       "  </tbody>\n",
       "</table>\n",
       "</div>"
      ],
      "text/plain": [
       "   S No  Age Contact_lens  Prescription_hypermetrope  Prescription_myope  \\\n",
       "0     1    1      no lens                          0                   1   \n",
       "1     2    1         soft                          0                   1   \n",
       "2     3    1      no lens                          0                   1   \n",
       "3     4    1         hard                          0                   1   \n",
       "4     5    1      no lens                          1                   0   \n",
       "\n",
       "   Astigmatism_no  Astigmatism_yes  Tear production rate_normal  \\\n",
       "0               1                0                            0   \n",
       "1               1                0                            1   \n",
       "2               0                1                            0   \n",
       "3               0                1                            1   \n",
       "4               1                0                            0   \n",
       "\n",
       "   Tear production rate_reduced  \n",
       "0                             1  \n",
       "1                             0  \n",
       "2                             1  \n",
       "3                             0  \n",
       "4                             1  "
      ]
     },
     "execution_count": 8,
     "metadata": {},
     "output_type": "execute_result"
    }
   ],
   "source": [
    "cat_var_list = ['Prescription', 'Astigmatism', 'Tear production rate']\n",
    "df_encoded = pd.get_dummies(df, columns = cat_var_list, prefix_sep='_')\n",
    "df_encoded.head()"
   ]
  },
  {
   "cell_type": "code",
   "execution_count": 9,
   "id": "5a1e89de",
   "metadata": {},
   "outputs": [
    {
     "data": {
      "text/html": [
       "<div>\n",
       "<style scoped>\n",
       "    .dataframe tbody tr th:only-of-type {\n",
       "        vertical-align: middle;\n",
       "    }\n",
       "\n",
       "    .dataframe tbody tr th {\n",
       "        vertical-align: top;\n",
       "    }\n",
       "\n",
       "    .dataframe thead th {\n",
       "        text-align: right;\n",
       "    }\n",
       "</style>\n",
       "<table border=\"1\" class=\"dataframe\">\n",
       "  <thead>\n",
       "    <tr style=\"text-align: right;\">\n",
       "      <th></th>\n",
       "      <th>vrb</th>\n",
       "      <th>split_level</th>\n",
       "      <th>gini_reduction</th>\n",
       "    </tr>\n",
       "  </thead>\n",
       "  <tbody>\n",
       "    <tr>\n",
       "      <th>0</th>\n",
       "      <td>Prescription_hypermetrope</td>\n",
       "      <td>None</td>\n",
       "      <td>0.010417</td>\n",
       "    </tr>\n",
       "    <tr>\n",
       "      <th>1</th>\n",
       "      <td>Prescription_myope</td>\n",
       "      <td>None</td>\n",
       "      <td>0.010417</td>\n",
       "    </tr>\n",
       "    <tr>\n",
       "      <th>2</th>\n",
       "      <td>Astigmatism_no</td>\n",
       "      <td>None</td>\n",
       "      <td>0.072917</td>\n",
       "    </tr>\n",
       "    <tr>\n",
       "      <th>3</th>\n",
       "      <td>Astigmatism_yes</td>\n",
       "      <td>None</td>\n",
       "      <td>0.072917</td>\n",
       "    </tr>\n",
       "    <tr>\n",
       "      <th>4</th>\n",
       "      <td>Tear production rate_normal</td>\n",
       "      <td>None</td>\n",
       "      <td>0.211806</td>\n",
       "    </tr>\n",
       "    <tr>\n",
       "      <th>5</th>\n",
       "      <td>Tear production rate_reduced</td>\n",
       "      <td>None</td>\n",
       "      <td>0.211806</td>\n",
       "    </tr>\n",
       "    <tr>\n",
       "      <th>6</th>\n",
       "      <td>Age</td>\n",
       "      <td>1</td>\n",
       "      <td>0.012153</td>\n",
       "    </tr>\n",
       "    <tr>\n",
       "      <th>7</th>\n",
       "      <td>Age</td>\n",
       "      <td>2</td>\n",
       "      <td>0.012153</td>\n",
       "    </tr>\n",
       "  </tbody>\n",
       "</table>\n",
       "</div>"
      ],
      "text/plain": [
       "                            vrb split_level  gini_reduction\n",
       "0     Prescription_hypermetrope        None        0.010417\n",
       "1            Prescription_myope        None        0.010417\n",
       "2                Astigmatism_no        None        0.072917\n",
       "3               Astigmatism_yes        None        0.072917\n",
       "4   Tear production rate_normal        None        0.211806\n",
       "5  Tear production rate_reduced        None        0.211806\n",
       "6                           Age           1        0.012153\n",
       "7                           Age           2        0.012153"
      ]
     },
     "execution_count": 9,
     "metadata": {},
     "output_type": "execute_result"
    }
   ],
   "source": [
    "df_gini_reduction = pd.DataFrame(data={'vrb': [], 'split_level': [], 'gini_reduction':[]})\n",
    "vrb_list = ['Prescription_hypermetrope', 'Prescription_myope', 'Astigmatism_no', 'Astigmatism_yes', \n",
    "            'Tear production rate_normal', 'Tear production rate_reduced', 'Age']\n",
    "for vrb in vrb_list:\n",
    "    if vrb == 'Age':\n",
    "        for split_info in [1, 2]:\n",
    "            gini_reduction = calculate_gini_impurity_reduction(df_encoded['Age'], df_encoded['Contact_lens'], split_info)\n",
    "            df_gini_reduction.loc[len(df_gini_reduction.index)] = [vrb, split_info, gini_reduction]\n",
    "    else:\n",
    "        gini_reduction = calculate_gini_impurity_reduction(df_encoded[vrb], df_encoded['Contact_lens'])\n",
    "        df_gini_reduction.loc[len(df_gini_reduction.index)] = [vrb, None, gini_reduction]\n",
    "df_gini_reduction"
   ]
  },
  {
   "cell_type": "code",
   "execution_count": 10,
   "id": "2ba4be7a",
   "metadata": {},
   "outputs": [],
   "source": [
    "# With Cross tabulate, we can find for which varibale, we can get data split with only 'no lens'"
   ]
  },
  {
   "cell_type": "code",
   "execution_count": 11,
   "id": "66b2bac2",
   "metadata": {},
   "outputs": [
    {
     "data": {
      "text/html": [
       "<div>\n",
       "<style scoped>\n",
       "    .dataframe tbody tr th:only-of-type {\n",
       "        vertical-align: middle;\n",
       "    }\n",
       "\n",
       "    .dataframe tbody tr th {\n",
       "        vertical-align: top;\n",
       "    }\n",
       "\n",
       "    .dataframe thead th {\n",
       "        text-align: right;\n",
       "    }\n",
       "</style>\n",
       "<table border=\"1\" class=\"dataframe\">\n",
       "  <thead>\n",
       "    <tr style=\"text-align: right;\">\n",
       "      <th>Contact_lens</th>\n",
       "      <th>hard</th>\n",
       "      <th>no lens</th>\n",
       "      <th>soft</th>\n",
       "    </tr>\n",
       "    <tr>\n",
       "      <th>Tear production rate</th>\n",
       "      <th></th>\n",
       "      <th></th>\n",
       "      <th></th>\n",
       "    </tr>\n",
       "  </thead>\n",
       "  <tbody>\n",
       "    <tr>\n",
       "      <th>normal</th>\n",
       "      <td>4</td>\n",
       "      <td>3</td>\n",
       "      <td>5</td>\n",
       "    </tr>\n",
       "    <tr>\n",
       "      <th>reduced</th>\n",
       "      <td>0</td>\n",
       "      <td>12</td>\n",
       "      <td>0</td>\n",
       "    </tr>\n",
       "  </tbody>\n",
       "</table>\n",
       "</div>"
      ],
      "text/plain": [
       "Contact_lens          hard  no lens  soft\n",
       "Tear production rate                     \n",
       "normal                   4        3     5\n",
       "reduced                  0       12     0"
      ]
     },
     "execution_count": 11,
     "metadata": {},
     "output_type": "execute_result"
    }
   ],
   "source": [
    "pd.crosstab(df['Tear production rate'], df['Contact_lens'])"
   ]
  },
  {
   "cell_type": "markdown",
   "id": "12f24bd3",
   "metadata": {},
   "source": [
    "With `Tear production rate`, we see that when its equal to reduced, data does has all entries with \"no lens\""
   ]
  },
  {
   "cell_type": "code",
   "execution_count": null,
   "id": "4629aa68",
   "metadata": {},
   "outputs": [],
   "source": []
  }
 ],
 "metadata": {
  "kernelspec": {
   "display_name": "Python 3 (ipykernel)",
   "language": "python",
   "name": "python3"
  },
  "language_info": {
   "codemirror_mode": {
    "name": "ipython",
    "version": 3
   },
   "file_extension": ".py",
   "mimetype": "text/x-python",
   "name": "python",
   "nbconvert_exporter": "python",
   "pygments_lexer": "ipython3",
   "version": "3.8.10"
  }
 },
 "nbformat": 4,
 "nbformat_minor": 5
}
