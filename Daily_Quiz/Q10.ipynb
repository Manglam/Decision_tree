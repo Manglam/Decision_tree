{
 "cells": [
  {
   "cell_type": "markdown",
   "id": "e16a52dd",
   "metadata": {},
   "source": [
    "# Q10\n",
    "Tree Based Models - Q10 - 12/July\n",
    "===================================\n",
    "An insurance agent recorded information about her current and potential customers. The data is available in 03_health_insurance.csv on Google drive.\n",
    "https://drive.google.com/drive/folders/1Jl8iDu7nGmrqCECbrLqmVafgwE5PYfiU\n",
    "\n",
    "Train a decision tree classifier using 80% of the data . Use 5 fold cross validation on the training data to get the best tree depth and min number of sample to split a node. \n",
    "Test your data on the remaining data.\n",
    "\n",
    "    1) How well does the model generalize? \n",
    "    2) Can the agent use this to target potential customers?"
   ]
  },
  {
   "cell_type": "code",
   "execution_count": 1,
   "id": "b2773126",
   "metadata": {},
   "outputs": [],
   "source": [
    "import numpy as np\n",
    "import pandas as pd\n",
    "\n",
    "from sklearn.tree import DecisionTreeClassifier\n",
    "from sklearn.model_selection import train_test_split\n",
    "from sklearn.model_selection import GridSearchCV\n",
    "from sklearn.tree import plot_tree\n",
    "import matplotlib.pyplot as plt\n",
    "\n",
    "import warnings\n",
    "warnings.filterwarnings(\"ignore\")"
   ]
  },
  {
   "cell_type": "code",
   "execution_count": 2,
   "id": "a5af43ef",
   "metadata": {},
   "outputs": [
    {
     "name": "stdout",
     "output_type": "stream",
     "text": [
      "(910, 10)\n"
     ]
    },
    {
     "data": {
      "text/html": [
       "<div>\n",
       "<style scoped>\n",
       "    .dataframe tbody tr th:only-of-type {\n",
       "        vertical-align: middle;\n",
       "    }\n",
       "\n",
       "    .dataframe tbody tr th {\n",
       "        vertical-align: top;\n",
       "    }\n",
       "\n",
       "    .dataframe thead th {\n",
       "        text-align: right;\n",
       "    }\n",
       "</style>\n",
       "<table border=\"1\" class=\"dataframe\">\n",
       "  <thead>\n",
       "    <tr style=\"text-align: right;\">\n",
       "      <th></th>\n",
       "      <th>custid</th>\n",
       "      <th>sex</th>\n",
       "      <th>is.employed</th>\n",
       "      <th>income</th>\n",
       "      <th>marital.stat</th>\n",
       "      <th>housing.type</th>\n",
       "      <th>recent.move</th>\n",
       "      <th>num.vehicles</th>\n",
       "      <th>age</th>\n",
       "      <th>health.ins</th>\n",
       "    </tr>\n",
       "  </thead>\n",
       "  <tbody>\n",
       "    <tr>\n",
       "      <th>0</th>\n",
       "      <td>2068</td>\n",
       "      <td>F</td>\n",
       "      <td>NaN</td>\n",
       "      <td>11300</td>\n",
       "      <td>Married</td>\n",
       "      <td>Homeowner free and clear</td>\n",
       "      <td>False</td>\n",
       "      <td>2.0</td>\n",
       "      <td>49</td>\n",
       "      <td>True</td>\n",
       "    </tr>\n",
       "    <tr>\n",
       "      <th>1</th>\n",
       "      <td>2848</td>\n",
       "      <td>M</td>\n",
       "      <td>True</td>\n",
       "      <td>4500</td>\n",
       "      <td>Never Married</td>\n",
       "      <td>Rented</td>\n",
       "      <td>True</td>\n",
       "      <td>3.0</td>\n",
       "      <td>22</td>\n",
       "      <td>False</td>\n",
       "    </tr>\n",
       "  </tbody>\n",
       "</table>\n",
       "</div>"
      ],
      "text/plain": [
       "   custid sex is.employed  income   marital.stat              housing.type  \\\n",
       "0    2068   F         NaN   11300        Married  Homeowner free and clear   \n",
       "1    2848   M        True    4500  Never Married                    Rented   \n",
       "\n",
       "  recent.move  num.vehicles  age  health.ins  \n",
       "0       False           2.0   49        True  \n",
       "1        True           3.0   22       False  "
      ]
     },
     "execution_count": 2,
     "metadata": {},
     "output_type": "execute_result"
    }
   ],
   "source": [
    "df = pd.read_csv(\"03_health_insurance.csv\")\n",
    "print(df.shape)\n",
    "df.head(2)"
   ]
  },
  {
   "cell_type": "code",
   "execution_count": 3,
   "id": "eb7dbe6e",
   "metadata": {},
   "outputs": [
    {
     "name": "stdout",
     "output_type": "stream",
     "text": [
      "(647, 10)\n"
     ]
    }
   ],
   "source": [
    "df.dropna(axis=0, how='any', inplace=True)\n",
    "print(df.shape)"
   ]
  },
  {
   "cell_type": "code",
   "execution_count": 4,
   "id": "57f45bc4",
   "metadata": {},
   "outputs": [],
   "source": [
    "cat_var_list = ['sex', 'is.employed', 'marital.stat', 'housing.type', 'recent.move']\n",
    "num_var_list = ['income', 'num.vehicles', 'age']"
   ]
  },
  {
   "cell_type": "code",
   "execution_count": 5,
   "id": "134e4757",
   "metadata": {},
   "outputs": [],
   "source": [
    "df = pd.get_dummies(df, columns=cat_var_list,  drop_first=True, prefix_sep='_')\n",
    "df['target'] = np.where(df['health.ins'] == True, 1, 0)"
   ]
  },
  {
   "cell_type": "code",
   "execution_count": 6,
   "id": "a71bf66b",
   "metadata": {},
   "outputs": [
    {
     "data": {
      "text/html": [
       "<div>\n",
       "<style scoped>\n",
       "    .dataframe tbody tr th:only-of-type {\n",
       "        vertical-align: middle;\n",
       "    }\n",
       "\n",
       "    .dataframe tbody tr th {\n",
       "        vertical-align: top;\n",
       "    }\n",
       "\n",
       "    .dataframe thead th {\n",
       "        text-align: right;\n",
       "    }\n",
       "</style>\n",
       "<table border=\"1\" class=\"dataframe\">\n",
       "  <thead>\n",
       "    <tr style=\"text-align: right;\">\n",
       "      <th>target</th>\n",
       "      <th>0</th>\n",
       "      <th>1</th>\n",
       "    </tr>\n",
       "    <tr>\n",
       "      <th>health.ins</th>\n",
       "      <th></th>\n",
       "      <th></th>\n",
       "    </tr>\n",
       "  </thead>\n",
       "  <tbody>\n",
       "    <tr>\n",
       "      <th>False</th>\n",
       "      <td>105</td>\n",
       "      <td>0</td>\n",
       "    </tr>\n",
       "    <tr>\n",
       "      <th>True</th>\n",
       "      <td>0</td>\n",
       "      <td>542</td>\n",
       "    </tr>\n",
       "  </tbody>\n",
       "</table>\n",
       "</div>"
      ],
      "text/plain": [
       "target        0    1\n",
       "health.ins          \n",
       "False       105    0\n",
       "True          0  542"
      ]
     },
     "execution_count": 6,
     "metadata": {},
     "output_type": "execute_result"
    }
   ],
   "source": [
    "# varify encoding\n",
    "pd.crosstab(df['health.ins'], df['target'])"
   ]
  },
  {
   "cell_type": "code",
   "execution_count": 7,
   "id": "aa6c9cc6",
   "metadata": {},
   "outputs": [
    {
     "data": {
      "text/plain": [
       "Index(['custid', 'income', 'num.vehicles', 'age', 'health.ins', 'sex_M',\n",
       "       'is.employed_True', 'marital.stat_Married',\n",
       "       'marital.stat_Never Married', 'marital.stat_Widowed',\n",
       "       'housing.type_Homeowner with mortgage/loan',\n",
       "       'housing.type_Occupied with no rent', 'housing.type_Rented',\n",
       "       'recent.move_True', 'target'],\n",
       "      dtype='object')"
      ]
     },
     "execution_count": 7,
     "metadata": {},
     "output_type": "execute_result"
    }
   ],
   "source": [
    "df.columns"
   ]
  },
  {
   "cell_type": "code",
   "execution_count": 8,
   "id": "bfcb8ff1",
   "metadata": {},
   "outputs": [],
   "source": [
    "#? pd.get_dummies"
   ]
  },
  {
   "cell_type": "code",
   "execution_count": 9,
   "id": "839ff6f5",
   "metadata": {},
   "outputs": [],
   "source": [
    "x_vars = ['income', 'num.vehicles', 'age', 'sex_M',\n",
    "         'is.employed_True', 'marital.stat_Married',\n",
    "         'marital.stat_Never Married', 'marital.stat_Widowed',\n",
    "         'housing.type_Homeowner with mortgage/loan',\n",
    "         'housing.type_Occupied with no rent', 'housing.type_Rented',\n",
    "         'recent.move_True']\n",
    "y_var = 'target'\n",
    "X_train, X_test, Y_train, Y_test = train_test_split(df[x_vars], df[y_var], \n",
    "                                                    test_size=0.20, random_state=25)"
   ]
  },
  {
   "cell_type": "code",
   "execution_count": 10,
   "id": "f5feed47",
   "metadata": {},
   "outputs": [
    {
     "data": {
      "text/plain": [
       "GridSearchCV(cv=5, estimator=DecisionTreeClassifier(),\n",
       "             param_grid={'max_depth': [1, 2, 3, 4, 5, 6, 7, 8, 9, 10, 11, 12,\n",
       "                                       13, 14, 15, 16, 17, 18, 19, 20, 21, 22,\n",
       "                                       23, 24, 25, 26, 27, 28, 29, 30, ...],\n",
       "                         'min_samples_split': [1, 2, 3, 4, 5, 6, 7, 8, 9, 10,\n",
       "                                               11, 12, 13, 14, 15, 16, 17, 18,\n",
       "                                               19, 20, 21, 22, 23, 24, 25, 26,\n",
       "                                               27, 28, 29, 30, ...]})"
      ]
     },
     "execution_count": 10,
     "metadata": {},
     "output_type": "execute_result"
    }
   ],
   "source": [
    "tune_parm_space = {'min_samples_split':list(range(1,40)),\n",
    "                   'max_depth':list(range(1,40))\n",
    "                  }\n",
    "\n",
    "clf = GridSearchCV(DecisionTreeClassifier(), tune_parm_space, cv=5)\n",
    "clf.fit(X_train, Y_train)"
   ]
  },
  {
   "cell_type": "code",
   "execution_count": 11,
   "id": "e0848fd3",
   "metadata": {},
   "outputs": [],
   "source": [
    "# print accuracy, without model\n",
    "without_model_accuracy = np.sum(Y_test == 1) / Y_test.shape[0]"
   ]
  },
  {
   "cell_type": "code",
   "execution_count": 12,
   "id": "43e87a01",
   "metadata": {},
   "outputs": [
    {
     "name": "stdout",
     "output_type": "stream",
     "text": [
      "Best Train Score is 84.53\n",
      "Best Train Score is 80.77\n",
      "Without model, accuracy is 80.77\n",
      "Best Params: {'max_depth': 1, 'min_samples_split': 2}\n"
     ]
    }
   ],
   "source": [
    "print(f\"Best Train Score is {np.round(clf.best_score_ * 100, 2)}\")\n",
    "print(f\"Best Train Score is {np.round(clf.score(X_test,Y_test) * 100, 2)}\")\n",
    "print(f\"Without model, accuracy is {np.round(without_model_accuracy * 100, 2)}\")\n",
    "print(\"Best Params:\", clf.best_params_)"
   ]
  },
  {
   "cell_type": "markdown",
   "id": "1f0f952e",
   "metadata": {},
   "source": [
    "# Answer\n",
    "    1. The train accuracy is 84% and test accuracy is 81%. But we see that even without any model, the accuracy is same as accuracy on test set. \n",
    "    2. There is not much gain on test set accuracy, over without model accuracy(if one does predict every thing as 1). Hence the agent should not use this model."
   ]
  },
  {
   "cell_type": "code",
   "execution_count": 13,
   "id": "db3feea3",
   "metadata": {},
   "outputs": [
    {
     "data": {
      "image/png": "[encoded data removed]",
      "text/plain": [
       "<Figure size 450x450 with 1 Axes>"
      ]
     },
     "metadata": {
      "needs_background": "light"
     },
     "output_type": "display_data"
    }
   ],
   "source": [
    "plt.figure(figsize=(3,3), dpi=150)\n",
    "plot_tree(clf.best_estimator_, feature_names=x_vars, filled=True);"
   ]
  },
  {
   "cell_type": "code",
   "execution_count": null,
   "id": "88cb241c",
   "metadata": {},
   "outputs": [],
   "source": []
  }
 ],
 "metadata": {
  "kernelspec": {
   "display_name": "Python 3 (ipykernel)",
   "language": "python",
   "name": "python3"
  },
  "language_info": {
   "codemirror_mode": {
    "name": "ipython",
    "version": 3
   },
   "file_extension": ".py",
   "mimetype": "text/x-python",
   "name": "python",
   "nbconvert_exporter": "python",
   "pygments_lexer": "ipython3",
   "version": "3.8.10"
  }
 },
 "nbformat": 4,
 "nbformat_minor": 5
}
