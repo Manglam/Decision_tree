{
 "cells": [
  {
   "cell_type": "markdown",
   "id": "b0a8bbdc",
   "metadata": {},
   "source": [
    "Tree Based Models - Q16- 25/July\n",
    "===================================\n",
    "\n",
    "We want to predict the price of mobile phone (range) based on the characteristics of the phone like memory, battery power, camera specification etc. The data for about 2000 phones is provided in 09_mobile_price.csv in the Google drive folder:\n",
    "https://drive.google.com/drive/folders/1Jl8iDu7nGmrqCECbrLqmVafgwE5PYfiU\n",
    "\n",
    "1) Train a decision tree  to predict the price category. \n",
    "     \n",
    "    a) What's the best score we get ? Use 10 fold CV. \n",
    "    b) What are the best tree parameters\n",
    "    c) Which variable come out to be important?\n",
    "\n",
    "2) Now train a Random Forest classifier. How does the score compare with decision tree?\n",
    "\n",
    "Note that this is multi-class classification."
   ]
  },
  {
   "cell_type": "markdown",
   "id": "494bbf49",
   "metadata": {},
   "source": [
    "# Answers\n",
    "1)\n",
    "    \n",
    "    a) What's the best score we get ? Use 10 fold CV. \n",
    "        - Tree score on train set is 94.69\n",
    "        - Tree score on test set is  84.75\n",
    "    b) What are the best tree parameters?\n",
    "        - 'ccp_alpha': 0.0,\n",
    "        - 'max_depth': 7,\n",
    "        - 'min_samples_leaf': 2,\n",
    "        - 'min_samples_split': 5\n",
    "        - rest all defult as per Decision Tree classsifier\n",
    "    c) Which variable come out to be important?\n",
    "       Following variables come important.\n",
    "    \n",
    "|feature_name     | importance |\n",
    "|-----------------| -----------|\n",
    "|ram\t          | 0.636802   |\n",
    "|battery_power\t  | 0.164511   |\n",
    "|px_height\t      | 0.085881   |\n",
    "|px_width\t      | 0.082579   |\n",
    "|mobile_wt\t      | 0.008470   |\n",
    "|frontcamera\t  | 0.005183   |\n",
    "|screen_height\t  | 0.005104   |\n",
    "|memory\t          | 0.003965   |\n",
    "|primarycamera_mp | 0.003514   |\n",
    "|screen_width\t  | 0.001658   |\n",
    "|mobile_thickness | 0.001191   |\n",
    "|talk_time\t      | 0.000588   |\n",
    "|n_cores\t      | 0.000556   |\n",
    "    \n",
    "    \n",
    "2) Now train a Random Forest classifier. How does the score compare with decision tree?\n",
    "\n",
    "|Model        | Train Score | Test Score|\n",
    "|-----------  | ----------- |---------- |\n",
    "|Decision Tree|94.69        |84.75      |\n",
    "|Random Forest|93.88        |87.0       |\n",
    "\n",
    "Both Decision tree and random forest are over-fitting, but random forest is performing better in test set."
   ]
  },
  {
   "cell_type": "code",
   "execution_count": 1,
   "id": "cc2055a5",
   "metadata": {},
   "outputs": [],
   "source": [
    "import pandas as pd\n",
    "import numpy as np\n",
    "\n",
    "from sklearn.tree import DecisionTreeClassifier\n",
    "from sklearn.model_selection import GridSearchCV, train_test_split\n",
    "from sklearn.ensemble import RandomForestClassifier\n",
    "\n",
    "import warnings\n",
    "warnings.filterwarnings(\"ignore\")"
   ]
  },
  {
   "cell_type": "code",
   "execution_count": 2,
   "id": "e6aa2aec",
   "metadata": {},
   "outputs": [
    {
     "data": {
      "text/html": [
       "<div>\n",
       "<style scoped>\n",
       "    .dataframe tbody tr th:only-of-type {\n",
       "        vertical-align: middle;\n",
       "    }\n",
       "\n",
       "    .dataframe tbody tr th {\n",
       "        vertical-align: top;\n",
       "    }\n",
       "\n",
       "    .dataframe thead th {\n",
       "        text-align: right;\n",
       "    }\n",
       "</style>\n",
       "<table border=\"1\" class=\"dataframe\">\n",
       "  <thead>\n",
       "    <tr style=\"text-align: right;\">\n",
       "      <th></th>\n",
       "      <th>battery_power</th>\n",
       "      <th>blue</th>\n",
       "      <th>clock_speed</th>\n",
       "      <th>dual_sim</th>\n",
       "      <th>frontcamera</th>\n",
       "      <th>Has4G</th>\n",
       "      <th>memory</th>\n",
       "      <th>mobile_thickness</th>\n",
       "      <th>mobile_wt</th>\n",
       "      <th>n_cores</th>\n",
       "      <th>...</th>\n",
       "      <th>px_height</th>\n",
       "      <th>px_width</th>\n",
       "      <th>ram</th>\n",
       "      <th>screen_height</th>\n",
       "      <th>screen_width</th>\n",
       "      <th>talk_time</th>\n",
       "      <th>Has3G</th>\n",
       "      <th>touch_screen</th>\n",
       "      <th>wifi</th>\n",
       "      <th>price_range</th>\n",
       "    </tr>\n",
       "  </thead>\n",
       "  <tbody>\n",
       "    <tr>\n",
       "      <th>0</th>\n",
       "      <td>842</td>\n",
       "      <td>0</td>\n",
       "      <td>2.2</td>\n",
       "      <td>0</td>\n",
       "      <td>1</td>\n",
       "      <td>0</td>\n",
       "      <td>7</td>\n",
       "      <td>0.6</td>\n",
       "      <td>188</td>\n",
       "      <td>2</td>\n",
       "      <td>...</td>\n",
       "      <td>20</td>\n",
       "      <td>756</td>\n",
       "      <td>2549</td>\n",
       "      <td>9</td>\n",
       "      <td>7</td>\n",
       "      <td>19</td>\n",
       "      <td>0</td>\n",
       "      <td>0</td>\n",
       "      <td>1</td>\n",
       "      <td>1</td>\n",
       "    </tr>\n",
       "    <tr>\n",
       "      <th>1</th>\n",
       "      <td>1021</td>\n",
       "      <td>1</td>\n",
       "      <td>0.5</td>\n",
       "      <td>1</td>\n",
       "      <td>0</td>\n",
       "      <td>1</td>\n",
       "      <td>53</td>\n",
       "      <td>0.7</td>\n",
       "      <td>136</td>\n",
       "      <td>3</td>\n",
       "      <td>...</td>\n",
       "      <td>905</td>\n",
       "      <td>1988</td>\n",
       "      <td>2631</td>\n",
       "      <td>17</td>\n",
       "      <td>3</td>\n",
       "      <td>7</td>\n",
       "      <td>1</td>\n",
       "      <td>1</td>\n",
       "      <td>0</td>\n",
       "      <td>2</td>\n",
       "    </tr>\n",
       "  </tbody>\n",
       "</table>\n",
       "<p>2 rows × 21 columns</p>\n",
       "</div>"
      ],
      "text/plain": [
       "   battery_power  blue  clock_speed  dual_sim  frontcamera  Has4G  memory  \\\n",
       "0            842     0          2.2         0            1      0       7   \n",
       "1           1021     1          0.5         1            0      1      53   \n",
       "\n",
       "   mobile_thickness  mobile_wt  n_cores  ...  px_height  px_width   ram  \\\n",
       "0               0.6        188        2  ...         20       756  2549   \n",
       "1               0.7        136        3  ...        905      1988  2631   \n",
       "\n",
       "   screen_height  screen_width  talk_time  Has3G  touch_screen  wifi  \\\n",
       "0              9             7         19      0             0     1   \n",
       "1             17             3          7      1             1     0   \n",
       "\n",
       "   price_range  \n",
       "0            1  \n",
       "1            2  \n",
       "\n",
       "[2 rows x 21 columns]"
      ]
     },
     "execution_count": 2,
     "metadata": {},
     "output_type": "execute_result"
    }
   ],
   "source": [
    "df = pd.read_csv(\"09_mobile_price.csv\")\n",
    "df.head(2)"
   ]
  },
  {
   "cell_type": "code",
   "execution_count": 20,
   "id": "4eece3d0",
   "metadata": {},
   "outputs": [],
   "source": [
    "#df.columns"
   ]
  },
  {
   "cell_type": "code",
   "execution_count": 4,
   "id": "35500547",
   "metadata": {},
   "outputs": [],
   "source": [
    "#df.describe().transpose()"
   ]
  },
  {
   "cell_type": "code",
   "execution_count": 5,
   "id": "d6ede105",
   "metadata": {},
   "outputs": [],
   "source": [
    "x_vars = ['battery_power', 'blue', 'clock_speed', 'dual_sim', 'frontcamera',\n",
    "          'Has4G', 'memory', 'mobile_thickness', 'mobile_wt', 'n_cores',\n",
    "          'primarycamera_mp', 'px_height', 'px_width', 'ram', 'screen_height',\n",
    "          'screen_width', 'talk_time', 'Has3G', 'touch_screen', 'wifi'\n",
    "         ]\n",
    "y_var = 'price_range'"
   ]
  },
  {
   "cell_type": "code",
   "execution_count": 6,
   "id": "8a8c942e",
   "metadata": {},
   "outputs": [],
   "source": [
    "x_train, x_test, y_train, y_test = train_test_split(df[x_vars], df[y_var], test_size=0.2, random_state=0, stratify=df[y_var])"
   ]
  },
  {
   "cell_type": "markdown",
   "id": "63e33484",
   "metadata": {},
   "source": [
    "# Decision Tree"
   ]
  },
  {
   "cell_type": "code",
   "execution_count": 7,
   "id": "ee12aeb2",
   "metadata": {},
   "outputs": [
    {
     "data": {
      "text/plain": [
       "GridSearchCV(cv=10, estimator=DecisionTreeClassifier(random_state=1),\n",
       "             param_grid={'ccp_alpha': [0.0, 0.1, 0.2, 0.3, 0.4, 0.5, 0.6],\n",
       "                         'max_depth': range(1, 8),\n",
       "                         'min_samples_leaf': [1, 2, 5, 10, 15],\n",
       "                         'min_samples_split': [1, 5, 10, 15]})"
      ]
     },
     "execution_count": 7,
     "metadata": {},
     "output_type": "execute_result"
    }
   ],
   "source": [
    "tune_parm_space = {'min_samples_split':[1, 5, 10, 15],\n",
    "                   'max_depth':range(1, 8),\n",
    "                   'min_samples_leaf':[1, 2, 5, 10, 15],\n",
    "                   'ccp_alpha':[0.0, 0.1, 0.2, 0.3, 0.4, 0.5, 0.6]\n",
    "                  }\n",
    "\n",
    "tree_model = DecisionTreeClassifier(random_state=1)\n",
    "tree_model = GridSearchCV(tree_model, tune_parm_space, cv=10)\n",
    "tree_model.fit(x_train, y_train)"
   ]
  },
  {
   "cell_type": "code",
   "execution_count": 8,
   "id": "9d526d11",
   "metadata": {},
   "outputs": [],
   "source": [
    "#DecisionTreeClassifier().get_params()"
   ]
  },
  {
   "cell_type": "code",
   "execution_count": 9,
   "id": "abb3782c",
   "metadata": {},
   "outputs": [
    {
     "name": "stdout",
     "output_type": "stream",
     "text": [
      "Tree score on train set is 94.69\n",
      "Tree score on test set is  84.75\n"
     ]
    }
   ],
   "source": [
    "score_train = tree_model.score(x_train, y_train)\n",
    "score_test = tree_model.score(x_test, y_test)\n",
    "\n",
    "print(f\"Tree score on train set is {np.round(score_train * 100, 2)}\")\n",
    "print(f\"Tree score on test set is  {np.round(score_test * 100, 2)}\")"
   ]
  },
  {
   "cell_type": "code",
   "execution_count": 10,
   "id": "b29058e1",
   "metadata": {},
   "outputs": [
    {
     "data": {
      "text/plain": [
       "{'ccp_alpha': 0.0,\n",
       " 'max_depth': 7,\n",
       " 'min_samples_leaf': 2,\n",
       " 'min_samples_split': 5}"
      ]
     },
     "execution_count": 10,
     "metadata": {},
     "output_type": "execute_result"
    }
   ],
   "source": [
    "tree_model.best_params_"
   ]
  },
  {
   "cell_type": "code",
   "execution_count": 11,
   "id": "42b78325",
   "metadata": {},
   "outputs": [
    {
     "data": {
      "text/html": [
       "<div>\n",
       "<style scoped>\n",
       "    .dataframe tbody tr th:only-of-type {\n",
       "        vertical-align: middle;\n",
       "    }\n",
       "\n",
       "    .dataframe tbody tr th {\n",
       "        vertical-align: top;\n",
       "    }\n",
       "\n",
       "    .dataframe thead th {\n",
       "        text-align: right;\n",
       "    }\n",
       "</style>\n",
       "<table border=\"1\" class=\"dataframe\">\n",
       "  <thead>\n",
       "    <tr style=\"text-align: right;\">\n",
       "      <th></th>\n",
       "      <th>feature_name</th>\n",
       "      <th>importance</th>\n",
       "    </tr>\n",
       "  </thead>\n",
       "  <tbody>\n",
       "    <tr>\n",
       "      <th>13</th>\n",
       "      <td>ram</td>\n",
       "      <td>0.636802</td>\n",
       "    </tr>\n",
       "    <tr>\n",
       "      <th>0</th>\n",
       "      <td>battery_power</td>\n",
       "      <td>0.164511</td>\n",
       "    </tr>\n",
       "    <tr>\n",
       "      <th>11</th>\n",
       "      <td>px_height</td>\n",
       "      <td>0.085881</td>\n",
       "    </tr>\n",
       "    <tr>\n",
       "      <th>12</th>\n",
       "      <td>px_width</td>\n",
       "      <td>0.082579</td>\n",
       "    </tr>\n",
       "    <tr>\n",
       "      <th>8</th>\n",
       "      <td>mobile_wt</td>\n",
       "      <td>0.008470</td>\n",
       "    </tr>\n",
       "    <tr>\n",
       "      <th>4</th>\n",
       "      <td>frontcamera</td>\n",
       "      <td>0.005183</td>\n",
       "    </tr>\n",
       "    <tr>\n",
       "      <th>14</th>\n",
       "      <td>screen_height</td>\n",
       "      <td>0.005104</td>\n",
       "    </tr>\n",
       "    <tr>\n",
       "      <th>6</th>\n",
       "      <td>memory</td>\n",
       "      <td>0.003965</td>\n",
       "    </tr>\n",
       "    <tr>\n",
       "      <th>10</th>\n",
       "      <td>primarycamera_mp</td>\n",
       "      <td>0.003514</td>\n",
       "    </tr>\n",
       "    <tr>\n",
       "      <th>15</th>\n",
       "      <td>screen_width</td>\n",
       "      <td>0.001658</td>\n",
       "    </tr>\n",
       "    <tr>\n",
       "      <th>7</th>\n",
       "      <td>mobile_thickness</td>\n",
       "      <td>0.001191</td>\n",
       "    </tr>\n",
       "    <tr>\n",
       "      <th>16</th>\n",
       "      <td>talk_time</td>\n",
       "      <td>0.000588</td>\n",
       "    </tr>\n",
       "    <tr>\n",
       "      <th>9</th>\n",
       "      <td>n_cores</td>\n",
       "      <td>0.000556</td>\n",
       "    </tr>\n",
       "  </tbody>\n",
       "</table>\n",
       "</div>"
      ],
      "text/plain": [
       "        feature_name  importance\n",
       "13               ram    0.636802\n",
       "0      battery_power    0.164511\n",
       "11         px_height    0.085881\n",
       "12          px_width    0.082579\n",
       "8          mobile_wt    0.008470\n",
       "4        frontcamera    0.005183\n",
       "14     screen_height    0.005104\n",
       "6             memory    0.003965\n",
       "10  primarycamera_mp    0.003514\n",
       "15      screen_width    0.001658\n",
       "7   mobile_thickness    0.001191\n",
       "16         talk_time    0.000588\n",
       "9            n_cores    0.000556"
      ]
     },
     "execution_count": 11,
     "metadata": {},
     "output_type": "execute_result"
    }
   ],
   "source": [
    "feature_importance = tree_model.best_estimator_.feature_importances_\n",
    "df_feature_imprt = pd.DataFrame({'feature_name' : x_vars, 'importance':feature_importance})\n",
    "df_feature_imprt.sort_values(by='importance', ascending=False)[df_feature_imprt['importance'] > 0]"
   ]
  },
  {
   "cell_type": "markdown",
   "id": "936f79c6",
   "metadata": {},
   "source": [
    "# Random Forest"
   ]
  },
  {
   "cell_type": "code",
   "execution_count": 12,
   "id": "cc51ce2a",
   "metadata": {},
   "outputs": [],
   "source": [
    "#RandomForestClassifier().get_params()"
   ]
  },
  {
   "cell_type": "code",
   "execution_count": 13,
   "id": "dcc5efe0",
   "metadata": {},
   "outputs": [
    {
     "data": {
      "text/plain": [
       "GridSearchCV(cv=10, estimator=RandomForestClassifier(random_state=1),\n",
       "             param_grid={'ccp_alpha': [0.0, 0.1, 0.2, 0.3, 0.4, 0.5, 0.6],\n",
       "                         'max_depth': range(1, 7),\n",
       "                         'min_samples_leaf': [1, 2, 5, 10, 15],\n",
       "                         'min_samples_split': [1, 5, 10, 15]})"
      ]
     },
     "execution_count": 13,
     "metadata": {},
     "output_type": "execute_result"
    }
   ],
   "source": [
    "tune_parm_space = {'min_samples_split':[1, 5, 10, 15],\n",
    "                   'max_depth':range(1, 7),\n",
    "                   'min_samples_leaf':[1, 2, 5, 10, 15],\n",
    "                   'ccp_alpha':[0.0, 0.1, 0.2, 0.3, 0.4, 0.5, 0.6]\n",
    "                  }\n",
    "\n",
    "rf_model = RandomForestClassifier(random_state=1)\n",
    "rf_model = GridSearchCV(rf_model, tune_parm_space, cv=10)\n",
    "rf_model.fit(x_train, y_train)"
   ]
  },
  {
   "cell_type": "code",
   "execution_count": 14,
   "id": "bdc1a615",
   "metadata": {},
   "outputs": [
    {
     "data": {
      "text/plain": [
       "{'ccp_alpha': 0.0,\n",
       " 'max_depth': 6,\n",
       " 'min_samples_leaf': 5,\n",
       " 'min_samples_split': 15}"
      ]
     },
     "execution_count": 14,
     "metadata": {},
     "output_type": "execute_result"
    }
   ],
   "source": [
    "rf_model.best_params_"
   ]
  },
  {
   "cell_type": "code",
   "execution_count": 16,
   "id": "835b5dea",
   "metadata": {},
   "outputs": [
    {
     "name": "stdout",
     "output_type": "stream",
     "text": [
      "Random Forest score on train set is 93.88\n",
      "Random Forest score on test set is  87.0\n"
     ]
    }
   ],
   "source": [
    "score_train = rf_model.score(x_train, y_train)\n",
    "score_test = rf_model.score(x_test, y_test)\n",
    "\n",
    "print(f\"Random Forest score on train set is {np.round(score_train * 100, 2)}\")\n",
    "print(f\"Random Forest score on test set is  {np.round(score_test * 100, 2)}\")"
   ]
  },
  {
   "cell_type": "markdown",
   "id": "72d1468a",
   "metadata": {},
   "source": []
  },
  {
   "cell_type": "code",
   "execution_count": null,
   "id": "12145990",
   "metadata": {},
   "outputs": [],
   "source": []
  }
 ],
 "metadata": {
  "kernelspec": {
   "display_name": "Python 3 (ipykernel)",
   "language": "python",
   "name": "python3"
  },
  "language_info": {
   "codemirror_mode": {
    "name": "ipython",
    "version": 3
   },
   "file_extension": ".py",
   "mimetype": "text/x-python",
   "name": "python",
   "nbconvert_exporter": "python",
   "pygments_lexer": "ipython3",
   "version": "3.8.10"
  }
 },
 "nbformat": 4,
 "nbformat_minor": 5
}
