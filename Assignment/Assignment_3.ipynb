{
 "cells": [
  {
   "cell_type": "markdown",
   "id": "2b39b61d",
   "metadata": {},
   "source": [
    "# Assignment 3\n",
    "Churn is a major problem in Telecom industry. Being able to understand who is likely to churn based on some indicators can help firms focus on those individuals and stop them from going over to competitors. \n",
    "A dataset of customer with their usage patter in available in Assignment03_ Telco-Customer-Churn.csv file. \n",
    "\n",
    "https://drive.google.com/drive/folders/1Jl8iDu7nGmrqCECbrLqmVafgwE5PYfiU\n",
    "\n",
    "Build a decision tree classifier to predict which customers are likely to churn.Use 10-Fold cross validation to report your results.\n",
    "    \n",
    "    1) Tree with no pruning\n",
    "    2) Tree with pre-pruning\n",
    "    3) Tree with post-pruning\n",
    "With the best model above - make the following changes:\n",
    "    \n",
    "    4) Up-sample the majority class and fit the model with best result\n",
    "    5) Weight the class and fit the model with best result"
   ]
  },
  {
   "cell_type": "code",
   "execution_count": 1,
   "id": "31b4a532",
   "metadata": {},
   "outputs": [],
   "source": [
    "import numpy as np\n",
    "import pandas as pd\n",
    "pd.set_option('display.max_columns', None)\n",
    "\n",
    "from sklearn.tree import DecisionTreeClassifier\n",
    "from sklearn.model_selection import GridSearchCV, train_test_split\n",
    "from sklearn.metrics import accuracy_score, roc_auc_score\n",
    "from sklearn.utils import resample\n",
    "\n",
    "import warnings\n",
    "warnings.filterwarnings(\"ignore\")"
   ]
  },
  {
   "cell_type": "code",
   "execution_count": 2,
   "id": "8adc2c31",
   "metadata": {},
   "outputs": [
    {
     "data": {
      "text/html": [
       "<div>\n",
       "<style scoped>\n",
       "    .dataframe tbody tr th:only-of-type {\n",
       "        vertical-align: middle;\n",
       "    }\n",
       "\n",
       "    .dataframe tbody tr th {\n",
       "        vertical-align: top;\n",
       "    }\n",
       "\n",
       "    .dataframe thead th {\n",
       "        text-align: right;\n",
       "    }\n",
       "</style>\n",
       "<table border=\"1\" class=\"dataframe\">\n",
       "  <thead>\n",
       "    <tr style=\"text-align: right;\">\n",
       "      <th></th>\n",
       "      <th>customerID</th>\n",
       "      <th>gender</th>\n",
       "      <th>SeniorCitizen</th>\n",
       "      <th>Partner</th>\n",
       "      <th>Dependents</th>\n",
       "      <th>tenure(month)</th>\n",
       "      <th>PhoneService</th>\n",
       "      <th>MultipleLines</th>\n",
       "      <th>InternetService</th>\n",
       "      <th>OnlineSecurity</th>\n",
       "      <th>OnlineBackup</th>\n",
       "      <th>DeviceProtection</th>\n",
       "      <th>TechSupport</th>\n",
       "      <th>StreamingTV</th>\n",
       "      <th>StreamingMovies</th>\n",
       "      <th>Contract</th>\n",
       "      <th>PaperlessBilling</th>\n",
       "      <th>PaymentMethod</th>\n",
       "      <th>MonthlyCharges</th>\n",
       "      <th>TotalCharges</th>\n",
       "      <th>Churn</th>\n",
       "    </tr>\n",
       "  </thead>\n",
       "  <tbody>\n",
       "    <tr>\n",
       "      <th>0</th>\n",
       "      <td>7590-VHVEG</td>\n",
       "      <td>Female</td>\n",
       "      <td>0</td>\n",
       "      <td>Yes</td>\n",
       "      <td>No</td>\n",
       "      <td>1</td>\n",
       "      <td>No</td>\n",
       "      <td>No phone service</td>\n",
       "      <td>DSL</td>\n",
       "      <td>No</td>\n",
       "      <td>Yes</td>\n",
       "      <td>No</td>\n",
       "      <td>No</td>\n",
       "      <td>No</td>\n",
       "      <td>No</td>\n",
       "      <td>Month-to-month</td>\n",
       "      <td>Yes</td>\n",
       "      <td>Electronic check</td>\n",
       "      <td>29.85</td>\n",
       "      <td>29.85</td>\n",
       "      <td>No</td>\n",
       "    </tr>\n",
       "    <tr>\n",
       "      <th>1</th>\n",
       "      <td>5575-GNVDE</td>\n",
       "      <td>Male</td>\n",
       "      <td>0</td>\n",
       "      <td>No</td>\n",
       "      <td>No</td>\n",
       "      <td>34</td>\n",
       "      <td>Yes</td>\n",
       "      <td>No</td>\n",
       "      <td>DSL</td>\n",
       "      <td>Yes</td>\n",
       "      <td>No</td>\n",
       "      <td>Yes</td>\n",
       "      <td>No</td>\n",
       "      <td>No</td>\n",
       "      <td>No</td>\n",
       "      <td>One year</td>\n",
       "      <td>No</td>\n",
       "      <td>Mailed check</td>\n",
       "      <td>56.95</td>\n",
       "      <td>1889.5</td>\n",
       "      <td>No</td>\n",
       "    </tr>\n",
       "  </tbody>\n",
       "</table>\n",
       "</div>"
      ],
      "text/plain": [
       "   customerID  gender  SeniorCitizen Partner Dependents  tenure(month)  \\\n",
       "0  7590-VHVEG  Female              0     Yes         No              1   \n",
       "1  5575-GNVDE    Male              0      No         No             34   \n",
       "\n",
       "  PhoneService     MultipleLines InternetService OnlineSecurity OnlineBackup  \\\n",
       "0           No  No phone service             DSL             No          Yes   \n",
       "1          Yes                No             DSL            Yes           No   \n",
       "\n",
       "  DeviceProtection TechSupport StreamingTV StreamingMovies        Contract  \\\n",
       "0               No          No          No              No  Month-to-month   \n",
       "1              Yes          No          No              No        One year   \n",
       "\n",
       "  PaperlessBilling     PaymentMethod  MonthlyCharges TotalCharges Churn  \n",
       "0              Yes  Electronic check           29.85        29.85    No  \n",
       "1               No      Mailed check           56.95       1889.5    No  "
      ]
     },
     "execution_count": 2,
     "metadata": {},
     "output_type": "execute_result"
    }
   ],
   "source": [
    "df = pd.read_csv('Assignment03_Telco-Customer-Churn.csv')\n",
    "df.head(2)"
   ]
  },
  {
   "cell_type": "code",
   "execution_count": 3,
   "id": "fcc8ea1d",
   "metadata": {},
   "outputs": [],
   "source": [
    "cat_var_list = ['gender', 'Partner', 'Dependents', 'PhoneService', 'MultipleLines', 'InternetService', 'OnlineSecurity',\n",
    "                'OnlineBackup', 'DeviceProtection', 'TechSupport', 'StreamingTV', 'StreamingMovies','Contract', \n",
    "                'PaperlessBilling', 'PaymentMethod'\n",
    "               ]\n",
    "num_var_list = ['tenure(month)', 'MonthlyCharges', 'TotalCharges']\n",
    "df_dummy = pd.get_dummies(df, columns=cat_var_list, prefix_sep=\"_\")\n",
    "for vrb in num_var_list:\n",
    "    df_dummy[vrb] = pd.to_numeric(df_dummy[vrb], errors=\"coerce\")\n",
    "\n",
    "df_dummy['target'] = np.where(df['Churn'] == \"Yes\", 1, 0)\n",
    "df_dummy.drop(columns=['Churn', 'customerID'], inplace=True)\n",
    "df_dummy.dropna(inplace=True)"
   ]
  },
  {
   "cell_type": "code",
   "execution_count": 4,
   "id": "49b22994",
   "metadata": {},
   "outputs": [],
   "source": [
    "#df_dummy.info()"
   ]
  },
  {
   "cell_type": "code",
   "execution_count": 5,
   "id": "1057fc07",
   "metadata": {},
   "outputs": [],
   "source": [
    "x_cols = list(df_dummy.columns)\n",
    "x_cols.remove('target')\n",
    "#x_cols"
   ]
  },
  {
   "cell_type": "code",
   "execution_count": 6,
   "id": "af7a938d",
   "metadata": {},
   "outputs": [],
   "source": [
    "x_train, x_test, y_train, y_test = train_test_split(df_dummy[x_cols], df_dummy['target'], test_size=0.2, random_state=0, \n",
    "                                                    stratify=df_dummy['target'])"
   ]
  },
  {
   "cell_type": "markdown",
   "id": "a35c6822",
   "metadata": {},
   "source": [
    "# 1) Tree with no pruning"
   ]
  },
  {
   "cell_type": "code",
   "execution_count": 7,
   "id": "06eddd12",
   "metadata": {},
   "outputs": [
    {
     "name": "stdout",
     "output_type": "stream",
     "text": [
      "Train score with no pruning: 99.77%\n",
      "Test  score with no pruning: 71.93%\n",
      "Train roc value with no pruning: 1.0%\n",
      "Test  roc vlaue with no pruning: 0.64%\n"
     ]
    }
   ],
   "source": [
    "tree_classifier_no_pruning = DecisionTreeClassifier(random_state=0)\n",
    "tree_classifier_no_pruning.fit(x_train, y_train)\n",
    "\n",
    "y_pred_train = tree_classifier_no_pruning.predict(x_train)\n",
    "y_pred_test = tree_classifier_no_pruning.predict(x_test) \n",
    "train_accuracy = np.round(accuracy_score(y_pred_train, y_train) * 100, 2)\n",
    "test_accuracy = np.round(accuracy_score(y_pred_test, y_test) * 100, 2)\n",
    "\n",
    "# roc-auc score\n",
    "y_prob_train = tree_classifier_no_pruning.predict_proba(x_train)[:, 1]\n",
    "y_prob_test = tree_classifier_no_pruning.predict_proba(x_test)[:, 1]\n",
    "roc_train = np.round(roc_auc_score(y_train, y_prob_train), 2)\n",
    "roc_test  = np.round(roc_auc_score(y_test, y_prob_test), 2)\n",
    "\n",
    "print(f'Train score with no pruning: {train_accuracy}%')\n",
    "print(f'Test  score with no pruning: {test_accuracy}%')\n",
    "print(f'Train roc value with no pruning: {roc_train}%')\n",
    "print(f'Test  roc vlaue with no pruning: {roc_test}%')"
   ]
  },
  {
   "cell_type": "markdown",
   "id": "0397f9cf",
   "metadata": {},
   "source": [
    "# 2) Tree with pre-pruning"
   ]
  },
  {
   "cell_type": "code",
   "execution_count": 8,
   "id": "b2a8a2b9",
   "metadata": {},
   "outputs": [
    {
     "name": "stdout",
     "output_type": "stream",
     "text": [
      "DecisionTreeClassifier(max_depth=6, min_samples_leaf=20, random_state=0)\n",
      "\n",
      "Train score with pre-pruning: 80.76%\n",
      "Test  score with pre-pruning: 78.61%\n",
      "Train with pre-pruning, roc value: 0.86%\n",
      "Test  with pre-pruning, roc vlaue: 0.83%\n"
     ]
    }
   ],
   "source": [
    "# Grid paramter\n",
    "params = {'max_depth': [2, 4, 6, 8, 10, 12],\n",
    "          'min_samples_split': [2, 3, 4, 5, 10, 15, 20, 30],\n",
    "          'min_samples_leaf': [1, 2, 5, 10, 20, 30]\n",
    "         }\n",
    "\n",
    "tree_classifier_pre_pruning = DecisionTreeClassifier(random_state=0)\n",
    "tree_classifier_pre_pruning = GridSearchCV(estimator=tree_classifier_pre_pruning, param_grid=params, cv=10)\n",
    "tree_classifier_pre_pruning.fit(x_train,y_train)\n",
    "print(tree_classifier_pre_pruning.best_estimator_)\n",
    "print(\"\")\n",
    "\n",
    "y_pred_train = tree_classifier_pre_pruning.predict(x_train)\n",
    "y_pred_test = tree_classifier_pre_pruning.predict(x_test) \n",
    "train_accuracy = np.round(accuracy_score(y_pred_train, y_train) * 100, 2)\n",
    "test_accuracy = np.round(accuracy_score(y_pred_test, y_test) * 100, 2)\n",
    "\n",
    "# roc-auc score\n",
    "y_prob_train = tree_classifier_pre_pruning.predict_proba(x_train)[:, 1]\n",
    "y_prob_test = tree_classifier_pre_pruning.predict_proba(x_test)[:, 1]\n",
    "roc_train = np.round(roc_auc_score(y_train, y_prob_train), 2)\n",
    "roc_test  = np.round(roc_auc_score(y_test, y_prob_test), 2)\n",
    "\n",
    "print(f'Train score with pre-pruning: {train_accuracy}%')\n",
    "print(f'Test  score with pre-pruning: {test_accuracy}%')\n",
    "print(f'Train with pre-pruning, roc value: {roc_train}%')\n",
    "print(f'Test  with pre-pruning, roc vlaue: {roc_test}%')"
   ]
  },
  {
   "cell_type": "markdown",
   "id": "a018cb6b",
   "metadata": {},
   "source": [
    "# 3) Tree with post-pruning"
   ]
  },
  {
   "cell_type": "code",
   "execution_count": 9,
   "id": "7c8ffd31",
   "metadata": {},
   "outputs": [
    {
     "name": "stdout",
     "output_type": "stream",
     "text": [
      "DecisionTreeClassifier(ccp_alpha=0.01, random_state=0)\n",
      "\n",
      "Train score with post-pruning: 78.99%\n",
      "Test  score with post-pruning: 79.46%\n",
      "Train with post-pruning, roc value: 0.8%\n",
      "Test  with post-pruning, roc vlaue: 0.79%\n"
     ]
    }
   ],
   "source": [
    "# Grid paramter\n",
    "params = {'ccp_alpha':[0.0, 0.01, 0.02, 0.04, 0.07, 0.10, 0.15, 0.20, 0.3, 0.4, 0.5, 0.6, 0.7, 0.8, 0.9, 0.95, 0.995]\n",
    "         }\n",
    "\n",
    "tree_classifier_post_pruning = DecisionTreeClassifier(random_state=0)\n",
    "tree_classifier_post_pruning = GridSearchCV(estimator=tree_classifier_post_pruning, param_grid=params, cv=10)\n",
    "tree_classifier_post_pruning.fit(x_train,y_train)\n",
    "print(tree_classifier_post_pruning.best_estimator_)\n",
    "print(\"\")\n",
    "\n",
    "y_pred_train = tree_classifier_post_pruning.predict(x_train)\n",
    "y_pred_test = tree_classifier_post_pruning.predict(x_test) \n",
    "train_accuracy = np.round(accuracy_score(y_pred_train, y_train) * 100, 2)\n",
    "test_accuracy = np.round(accuracy_score(y_pred_test, y_test) * 100, 2)\n",
    "\n",
    "# roc-auc score\n",
    "y_prob_train = tree_classifier_post_pruning.predict_proba(x_train)[:, 1]\n",
    "y_prob_test = tree_classifier_post_pruning.predict_proba(x_test)[:, 1]\n",
    "roc_train = np.round(roc_auc_score(y_train, y_prob_train), 2)\n",
    "roc_test  = np.round(roc_auc_score(y_test, y_prob_test), 2)\n",
    "\n",
    "print(f'Train score with post-pruning: {train_accuracy}%')\n",
    "print(f'Test  score with post-pruning: {test_accuracy}%')\n",
    "print(f'Train with post-pruning, roc value: {roc_train}%')\n",
    "print(f'Test  with post-pruning, roc vlaue: {roc_test}%')"
   ]
  },
  {
   "cell_type": "markdown",
   "id": "dfde1430",
   "metadata": {},
   "source": [
    "## Best model\n",
    "Best model, based on accuracy and roc value, we see that model with pre-pruning is best\n",
    "\n",
    "DecisionTreeClassifier(max_depth=6, min_samples_leaf=20, random_state=0)"
   ]
  },
  {
   "cell_type": "markdown",
   "id": "caa58879",
   "metadata": {},
   "source": [
    "# 4) Up-sample the majority class and fit the model with best result"
   ]
  },
  {
   "cell_type": "code",
   "execution_count": 10,
   "id": "3625e848",
   "metadata": {},
   "outputs": [
    {
     "data": {
      "text/plain": [
       "0    4130\n",
       "1    4130\n",
       "Name: target, dtype: int64"
      ]
     },
     "execution_count": 10,
     "metadata": {},
     "output_type": "execute_result"
    }
   ],
   "source": [
    "class_zero_size = y_train.value_counts()[0]\n",
    "class_one_size = y_train.value_counts()[1]\n",
    "\n",
    "df_train = x_train.copy()\n",
    "df_train['target'] = y_train\n",
    "\n",
    "df_majority = df_train[df_train.target == 0]\n",
    "df_minority = df_train[df_train.target == 1]\n",
    " \n",
    "# Upsample minority class\n",
    "df_minority_upsampled = resample(df_minority, \n",
    "                                 replace=True,                 # sample with replacement\n",
    "                                 n_samples=class_zero_size,    # to match majority class\n",
    "                                 random_state=123)             # reproducible results\n",
    " \n",
    "# Combine majority class with upsampled minority class\n",
    "df_upsampled = pd.concat([df_majority, df_minority_upsampled])\n",
    " \n",
    "# Display new class counts\n",
    "df_upsampled.target.value_counts()"
   ]
  },
  {
   "cell_type": "code",
   "execution_count": 11,
   "id": "d6cbc70a",
   "metadata": {},
   "outputs": [],
   "source": [
    "y_train_upsample = df_upsampled['target']\n",
    "x_train_upsample = df_upsampled.drop(columns=['target'])"
   ]
  },
  {
   "cell_type": "code",
   "execution_count": 12,
   "id": "5b507bcd",
   "metadata": {},
   "outputs": [
    {
     "name": "stdout",
     "output_type": "stream",
     "text": [
      "DecisionTreeClassifier(max_depth=6, min_samples_leaf=20, random_state=0)\n",
      "\n",
      "Train score with pre-pruning and upsampling: 78.79%\n",
      "Test  score with pre-pruning and upsampling: 72.92%\n",
      "Train with pre-pruning and upsampling, roc value: 0.866%\n",
      "Test  with pre-pruning and upsampling, roc vlaue: 0.825%\n"
     ]
    }
   ],
   "source": [
    "# Grid paramter\n",
    "params = {'max_depth': [6],\n",
    "          'min_samples_split': [2, 3, 4, 5, 10, 15, 20, 30],\n",
    "          'min_samples_leaf': [20]\n",
    "         }\n",
    "\n",
    "tree_classifier_pre_pruning_up_sampling = DecisionTreeClassifier(random_state=0)\n",
    "tree_classifier_pre_pruning_up_sampling = GridSearchCV(estimator=tree_classifier_pre_pruning_up_sampling, \n",
    "                                                       param_grid=params, cv=10)\n",
    "tree_classifier_pre_pruning_up_sampling.fit(x_train_upsample, y_train_upsample)\n",
    "print(tree_classifier_pre_pruning_up_sampling.best_estimator_)\n",
    "print(\"\")\n",
    "\n",
    "y_pred_train = tree_classifier_pre_pruning_up_sampling.predict(x_train_upsample)\n",
    "y_pred_test = tree_classifier_pre_pruning_up_sampling.predict(x_test) \n",
    "train_accuracy = np.round(accuracy_score(y_pred_train, y_train_upsample) * 100, 2)\n",
    "test_accuracy = np.round(accuracy_score(y_pred_test, y_test) * 100, 2)\n",
    "# roc-auc score\n",
    "y_prob_train = tree_classifier_pre_pruning_up_sampling.predict_proba(x_train_upsample)[:, 1]\n",
    "y_prob_test = tree_classifier_pre_pruning_up_sampling.predict_proba(x_test)[:, 1]\n",
    "roc_train = np.round(roc_auc_score(y_train_upsample, y_prob_train), 3)\n",
    "roc_test  = np.round(roc_auc_score(y_test, y_prob_test), 3)\n",
    "\n",
    "print(f'Train score with pre-pruning and upsampling: {train_accuracy}%')\n",
    "print(f'Test  score with pre-pruning and upsampling: {test_accuracy}%')\n",
    "print(f'Train with pre-pruning and upsampling, roc value: {roc_train}%')\n",
    "print(f'Test  with pre-pruning and upsampling, roc vlaue: {roc_test}%')"
   ]
  },
  {
   "cell_type": "markdown",
   "id": "1654f1e2",
   "metadata": {},
   "source": [
    "# 5) Weight the class and fit the model with best result"
   ]
  },
  {
   "cell_type": "code",
   "execution_count": 13,
   "id": "cb5e9663",
   "metadata": {},
   "outputs": [
    {
     "name": "stdout",
     "output_type": "stream",
     "text": [
      "DecisionTreeClassifier(class_weight='balanced', max_depth=6,\n",
      "                       min_samples_leaf=20, random_state=0)\n",
      "\n",
      "Train score with pre-pruning and upsampling: 75.68%\n",
      "Test  score with pre-pruning and upsampling: 73.7%\n",
      "Train with pre-pruning and upsampling, roc value: 0.865%\n",
      "Test  with pre-pruning and upsampling, roc vlaue: 0.834%\n"
     ]
    }
   ],
   "source": [
    "# Grid paramter\n",
    "params = {'max_depth': [6],\n",
    "          'min_samples_split': [2, 3, 4, 5, 10, 15, 20, 30],\n",
    "          'min_samples_leaf': [20]\n",
    "         }\n",
    "\n",
    "tree_classifier_pre_pruning_weight = DecisionTreeClassifier(random_state=0, class_weight=\"balanced\")\n",
    "tree_classifier_pre_pruning_weight = GridSearchCV(estimator=tree_classifier_pre_pruning_weight, \n",
    "                                                  param_grid=params, cv=10)\n",
    "tree_classifier_pre_pruning_weight.fit(x_train, y_train)\n",
    "\n",
    "#---------------------------------------------------------------------\n",
    "print(tree_classifier_pre_pruning_weight.best_estimator_)\n",
    "print(\"\")\n",
    "\n",
    "y_pred_train = tree_classifier_pre_pruning_weight.predict(x_train)\n",
    "y_pred_test = tree_classifier_pre_pruning_weight.predict(x_test) \n",
    "train_accuracy = np.round(accuracy_score(y_pred_train, y_train) * 100, 2)\n",
    "test_accuracy = np.round(accuracy_score(y_pred_test, y_test) * 100, 2)\n",
    "# roc-auc score\n",
    "y_prob_train = tree_classifier_pre_pruning_weight.predict_proba(x_train)[:, 1]\n",
    "y_prob_test = tree_classifier_pre_pruning_weight.predict_proba(x_test)[:, 1]\n",
    "roc_train = np.round(roc_auc_score(y_train, y_prob_train), 3)\n",
    "roc_test  = np.round(roc_auc_score(y_test, y_prob_test), 3)\n",
    "\n",
    "print(f'Train score with pre-pruning and upsampling: {train_accuracy}%')\n",
    "print(f'Test  score with pre-pruning and upsampling: {test_accuracy}%')\n",
    "print(f'Train with pre-pruning and upsampling, roc value: {roc_train}%')\n",
    "print(f'Test  with pre-pruning and upsampling, roc vlaue: {roc_test}%')"
   ]
  },
  {
   "cell_type": "code",
   "execution_count": null,
   "id": "8c8d10c5",
   "metadata": {},
   "outputs": [],
   "source": []
  }
 ],
 "metadata": {
  "kernelspec": {
   "display_name": "Python 3 (ipykernel)",
   "language": "python",
   "name": "python3"
  },
  "language_info": {
   "codemirror_mode": {
    "name": "ipython",
    "version": 3
   },
   "file_extension": ".py",
   "mimetype": "text/x-python",
   "name": "python",
   "nbconvert_exporter": "python",
   "pygments_lexer": "ipython3",
   "version": "3.8.10"
  }
 },
 "nbformat": 4,
 "nbformat_minor": 5
}
