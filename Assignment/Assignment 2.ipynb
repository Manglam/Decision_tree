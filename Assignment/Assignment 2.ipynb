{
 "cells": [
  {
   "cell_type": "markdown",
   "id": "48a412b4",
   "metadata": {},
   "source": [
    "# Assignment 2\n",
    "Consider the dataset Assignment02_GolfPlayers_Earnings.xlsx.\n",
    "File location: https://drive.google.com/drive/folders/1Jl8iDu7nGmrqCECbrLqmVafgwE5PYfiU\n",
    "\n",
    "The file contains game performance and annual earning of 200 top players.\n",
    "\n",
    "    A) Train a regression tree (CART) using the given data to predict the earning of players.Use a 80/20 split for \n",
    "       train/test. \n",
    "        1) What is the train and test rmse value?\n",
    "        2) Which features come out to be important?\n",
    "    B) Train a multiple regression model and compare the test rmse value? Use the exact same split as in case A\n",
    "       1) Does the data exhibit multicollinearity?\n",
    "    C) Train a cubist model using the cubist package. What is the test rmse value? Use the exact same split as in case A\n",
    "\n",
    "Which model give the best performance on test data? Why do you think that is the case?"
   ]
  },
  {
   "cell_type": "markdown",
   "id": "6bf0da37",
   "metadata": {},
   "source": [
    "# Answers\n",
    "A) Train a regression tree (CART) using the given data to predict the earning of players.Use a 80/20 split for \n",
    "   train/test. \n",
    "    \n",
    "    1) What is the train and test rmse value?\n",
    "        - Train RMSE is 388161.31\n",
    "        - Test  RMSE is 509173.13\n",
    "    2) Which features come out to be important?\n",
    "       Features importance as in below table:\n",
    "       \n",
    "|feature_name\t | importance |\n",
    "|--------------- |------------|\n",
    "|Top 10s\t     | 0.840471   |\n",
    "|Wins\t         | 0.152820   |\n",
    "|Cuts Made\t     | 0.006710   |\n",
    "\n",
    "B) Train a multiple regression model and compare the test rmse value? Use the exact same split as in case A.\n",
    "    \n",
    "    - Train RMSE is 330577.56\n",
    "    - Test  RMSE is 353834.29\n",
    "   \n",
    "    1) Does the data exhibit multicollinearity?\n",
    "       Data has strong multicollinearity. To avoid this, in this solution, following variables have been removed:\n",
    "      'Rounds', 'Putting Average', 'Pars', 'Greens in Regulation', 'Birdies', 'Bogies', 'Yards/Drive',\n",
    "      'Driving Accuracy', 'Events', 'Sand Save Pct', 'Age', 'Eagles'\n",
    "C) Train a cubist model using the cubist package. What is the test rmse value? Use the exact same split as in case A\n",
    "\n",
    "    - Train RMSE is 281885.81\n",
    "    - Test  RMSE is 317660.4\n",
    "    - Tried tuning cubist parameters, but that did not result in performance gain.\n",
    "    \n",
    "**Which model give the best performance on test data? Why do you think that is the case?**\n",
    "\n",
    "We can compare the three techniques using below table:\n",
    "\n",
    "|Modelling method\t      | Train RMSE | Test RMSE  |\n",
    "|-------------------------|------------|------------|\n",
    "|Decision Tree regression | 388161.31  | 509173.13  |\n",
    "|Linear Regression\t      | 330577.56  | 353834.29  |\n",
    "|Cubist\t                  | 281885.81  | 317660.4   |\n",
    "\n",
    "Decison tree performs worst and cubist performs best, both in terms of training and test rmse. After plotting the variables, we see that relationship of `Earnings` with `Top 10s`, is linear. With other two variables i.e. `Wins` and `Cuts Made`, its not linear. Since Cubist can handle non-linearity while creating rules to segment data, and on segmented data, it uses regression. Hence its performing best. Linear regression is able to use the linearlity in data and able to perform better than Decision tree. "
   ]
  },
  {
   "cell_type": "code",
   "execution_count": 1,
   "id": "23a90baf",
   "metadata": {},
   "outputs": [],
   "source": [
    "import pandas as pd\n",
    "import numpy as np\n",
    "import seaborn as sns\n",
    "import matplotlib.pyplot as plt\n",
    "\n",
    "from sklearn.tree import DecisionTreeRegressor\n",
    "from sklearn.model_selection import GridSearchCV, train_test_split\n",
    "from sklearn.metrics import mean_squared_error\n",
    "from statsmodels.stats.outliers_influence import variance_inflation_factor\n",
    "from sklearn.impute import KNNImputer\n",
    "import statsmodels.api as sm\n",
    "from cubist import Cubist\n",
    "\n",
    "import warnings\n",
    "warnings.filterwarnings(\"ignore\")"
   ]
  },
  {
   "cell_type": "code",
   "execution_count": 2,
   "id": "4a59270d",
   "metadata": {},
   "outputs": [],
   "source": [
    "df = pd.read_excel(\"Assignment02_GolfPlayer_Earnings.xlsx\")\n",
    "#df.head(2)"
   ]
  },
  {
   "cell_type": "code",
   "execution_count": 3,
   "id": "f8ede2be",
   "metadata": {},
   "outputs": [
    {
     "data": {
      "text/plain": [
       "Age                     12\n",
       "Yards/Drive              3\n",
       "Driving Accuracy         3\n",
       "Greens in Regulation     3\n",
       "Putting Average         31\n",
       "Sand Save Pct            3\n",
       "Eagles                   5\n",
       "Birdies                  5\n",
       "Pars                     5\n",
       "Bogies                   5\n",
       "dtype: int64"
      ]
     },
     "execution_count": 3,
     "metadata": {},
     "output_type": "execute_result"
    }
   ],
   "source": [
    "counts_na = df.isna().sum()\n",
    "counts_na[counts_na > 0]"
   ]
  },
  {
   "cell_type": "code",
   "execution_count": 4,
   "id": "d2118ae1",
   "metadata": {},
   "outputs": [
    {
     "name": "stdout",
     "output_type": "stream",
     "text": [
      "(200, 18)\n",
      "(157, 18)\n"
     ]
    }
   ],
   "source": [
    "df_1 = df.dropna()\n",
    "print(df.shape)\n",
    "print(df_1.shape)"
   ]
  },
  {
   "cell_type": "code",
   "execution_count": 5,
   "id": "95e91da6",
   "metadata": {},
   "outputs": [],
   "source": [
    "x_vars = ['Age', 'Events', 'Rounds', 'Cuts Made', 'Top 10s',\n",
    "          'Wins', 'Yards/Drive', 'Driving Accuracy',\n",
    "          'Greens in Regulation', 'Putting Average', 'Sand Save Pct', 'Eagles',\n",
    "          'Birdies', 'Pars', 'Bogies'\n",
    "         ]\n",
    "y_var = 'Earnings'\n",
    "df_x = df[x_vars]\n",
    "y = df[y_var]"
   ]
  },
  {
   "cell_type": "code",
   "execution_count": 6,
   "id": "ee503078",
   "metadata": {},
   "outputs": [
    {
     "data": {
      "text/plain": [
       "Series([], dtype: int64)"
      ]
     },
     "execution_count": 6,
     "metadata": {},
     "output_type": "execute_result"
    }
   ],
   "source": [
    "imputer = KNNImputer(n_neighbors=5)\n",
    "df_x = pd.DataFrame(imputer.fit_transform(df_x), columns = x_vars)\n",
    "counts_na = df_x.isna().sum()\n",
    "counts_na[counts_na > 0] #check if we have na values in data set"
   ]
  },
  {
   "cell_type": "code",
   "execution_count": 7,
   "id": "3e3e20ca",
   "metadata": {},
   "outputs": [],
   "source": [
    "x_train, x_test, y_train, y_test = train_test_split(df_x, y, test_size=0.2, random_state=1)"
   ]
  },
  {
   "cell_type": "code",
   "execution_count": 8,
   "id": "962c9734",
   "metadata": {},
   "outputs": [],
   "source": [
    "tune_parm_space = {'min_samples_split':range(1, 20),\n",
    "                   'max_depth':range(1, 20),\n",
    "                   'min_samples_leaf':range(1, 20)\n",
    "                  }\n",
    "tree_model = GridSearchCV(DecisionTreeRegressor(random_state= 1), tune_parm_space, cv=5)\n",
    "tree_model.fit(x_train, y_train);"
   ]
  },
  {
   "cell_type": "code",
   "execution_count": 9,
   "id": "5d50eaa6",
   "metadata": {},
   "outputs": [
    {
     "name": "stdout",
     "output_type": "stream",
     "text": [
      "0.79\n",
      "{'max_depth': 4, 'min_samples_leaf': 4, 'min_samples_split': 11}\n"
     ]
    }
   ],
   "source": [
    "print(np.round(tree_model.best_score_, 2))\n",
    "print(tree_model.best_params_)"
   ]
  },
  {
   "cell_type": "code",
   "execution_count": 10,
   "id": "b1900d93",
   "metadata": {},
   "outputs": [
    {
     "name": "stdout",
     "output_type": "stream",
     "text": [
      "Train RMSE is 388161.31\n",
      "Test  RMSE is 509173.13\n"
     ]
    }
   ],
   "source": [
    "train_rmse = mean_squared_error(y_train, tree_model.predict(x_train), squared=False)\n",
    "test_rmse = mean_squared_error(y_test, tree_model.predict(x_test), squared=False)\n",
    "print(f\"Train RMSE is {np.round(train_rmse, 2)}\")\n",
    "print(f\"Test  RMSE is {np.round(test_rmse, 2)}\")"
   ]
  },
  {
   "cell_type": "code",
   "execution_count": 11,
   "id": "8b53347f",
   "metadata": {},
   "outputs": [
    {
     "data": {
      "text/html": [
       "<div>\n",
       "<style scoped>\n",
       "    .dataframe tbody tr th:only-of-type {\n",
       "        vertical-align: middle;\n",
       "    }\n",
       "\n",
       "    .dataframe tbody tr th {\n",
       "        vertical-align: top;\n",
       "    }\n",
       "\n",
       "    .dataframe thead th {\n",
       "        text-align: right;\n",
       "    }\n",
       "</style>\n",
       "<table border=\"1\" class=\"dataframe\">\n",
       "  <thead>\n",
       "    <tr style=\"text-align: right;\">\n",
       "      <th></th>\n",
       "      <th>feature_name</th>\n",
       "      <th>importance</th>\n",
       "    </tr>\n",
       "  </thead>\n",
       "  <tbody>\n",
       "    <tr>\n",
       "      <th>4</th>\n",
       "      <td>Top 10s</td>\n",
       "      <td>0.840471</td>\n",
       "    </tr>\n",
       "    <tr>\n",
       "      <th>5</th>\n",
       "      <td>Wins</td>\n",
       "      <td>0.152820</td>\n",
       "    </tr>\n",
       "    <tr>\n",
       "      <th>3</th>\n",
       "      <td>Cuts Made</td>\n",
       "      <td>0.006710</td>\n",
       "    </tr>\n",
       "  </tbody>\n",
       "</table>\n",
       "</div>"
      ],
      "text/plain": [
       "  feature_name  importance\n",
       "4      Top 10s    0.840471\n",
       "5         Wins    0.152820\n",
       "3    Cuts Made    0.006710"
      ]
     },
     "execution_count": 11,
     "metadata": {},
     "output_type": "execute_result"
    }
   ],
   "source": [
    "feature_importance = tree_model.best_estimator_.feature_importances_\n",
    "df_feature_imprt = pd.DataFrame({'feature_name' : x_vars, 'importance':feature_importance})\n",
    "df_feature_imprt.sort_values(by='importance', ascending=False)[df_feature_imprt['importance'] > 0]"
   ]
  },
  {
   "cell_type": "markdown",
   "id": "4e03076b",
   "metadata": {},
   "source": [
    "# B\n",
    "Train a multiple regression model and compare the test rmse value? Use the exact same split as in case A\n",
    "    \n",
    "    - 1) Does the data exhibit multicollinearity?"
   ]
  },
  {
   "cell_type": "code",
   "execution_count": 12,
   "id": "4b9c7f9b",
   "metadata": {},
   "outputs": [
    {
     "data": {
      "text/plain": [
       "Top 10s      3.745986\n",
       "Cuts Made    2.983453\n",
       "Wins         1.621861\n",
       "dtype: float64"
      ]
     },
     "execution_count": 12,
     "metadata": {},
     "output_type": "execute_result"
    }
   ],
   "source": [
    "# # Check for multicollinearity\n",
    "# Remove Rounds, since it has highest vif value of 10,384.35\n",
    "# Remove Putting Average, since it has highest vif value of 6916.65\n",
    "# Remove Pars, since it has highest vif value of 825.76\n",
    "# Remove Greens in Regulation, since it has highest vif value of 458.73\n",
    "# Remove Birdies, since it has highest vif value of 277.17\n",
    "# Remove Bogies, since it has highest vif value of 260.59\n",
    "# Remove Yards/Drive, since it has highest vif value of 124.06\n",
    "# Remove Driving Accuracy, since it has highest vif value of 74.35\n",
    "# Remove Events, since it has highest vif value of 33.73\n",
    "# Remove Sand Save Pct, since it has highest vif value of 33.73\n",
    "# Remove Age, instead of Cuts Made(since its coming important in decision tree), since it has highest vif value of 6.680\n",
    "# Remove Eagles, instead of Cuts Made(since its coming important in decision tree), since it has highest vif value of 5.00\n",
    "drop_vars = ['Rounds', 'Putting Average', 'Pars', 'Greens in Regulation', 'Birdies', 'Bogies', 'Yards/Drive',\n",
    "             'Driving Accuracy', 'Events', 'Sand Save Pct', 'Age', 'Eagles'\n",
    "            ]\n",
    "x_var = x_vars \n",
    "x_var = [x for x in x_var if x not in drop_vars] # Drop variables present in drop_vars\n",
    "X = x_train[x_var]\n",
    "vif = pd.Series([variance_inflation_factor(X.values, i) for i in range(X.shape[1])], index=X.columns)\n",
    "vif.sort_values(ascending=False)[0:5]"
   ]
  },
  {
   "cell_type": "code",
   "execution_count": 13,
   "id": "de62a23f",
   "metadata": {},
   "outputs": [],
   "source": [
    "def fit_lin_reg_with_intercept(X, Y):\n",
    "    X = sm.add_constant(X) # adding a constan\n",
    "    reg_model = sm.OLS(Y,X).fit()\n",
    "    return reg_model"
   ]
  },
  {
   "cell_type": "code",
   "execution_count": 14,
   "id": "269ec511",
   "metadata": {},
   "outputs": [],
   "source": [
    "reg_model = fit_lin_reg_with_intercept(X=x_train[x_var], Y=y_train)\n",
    "#print(reg_model.summary()) # model r-sq is 0.921 and all variables significant"
   ]
  },
  {
   "cell_type": "code",
   "execution_count": 15,
   "id": "f1200bd6",
   "metadata": {},
   "outputs": [
    {
     "data": {
      "image/png": "[encoded data removed]",
      "text/plain": [
       "<Figure size 432x288 with 1 Axes>"
      ]
     },
     "metadata": {
      "needs_background": "light"
     },
     "output_type": "display_data"
    }
   ],
   "source": [
    "residuals = reg_model.resid \n",
    "sm.qqplot(residuals, fit=True, line=\"q\")\n",
    "plt.show() # at high values, model seem to be predicting high and at lower values, model seems to be predicting lower"
   ]
  },
  {
   "cell_type": "code",
   "execution_count": 16,
   "id": "4e8c4d4c",
   "metadata": {},
   "outputs": [
    {
     "name": "stdout",
     "output_type": "stream",
     "text": [
      "Train RMSE is 330577.56\n",
      "Test  RMSE is 353834.29\n"
     ]
    }
   ],
   "source": [
    "train_rmse = mean_squared_error(y_train, reg_model.predict(sm.add_constant(x_train[x_var])), squared=False)\n",
    "test_rmse = mean_squared_error(y_test, reg_model.predict(sm.add_constant(x_test[x_var])), squared=False)\n",
    "print(f\"Train RMSE is {np.round(train_rmse, 2)}\")\n",
    "print(f\"Test  RMSE is {np.round(test_rmse, 2)}\")"
   ]
  },
  {
   "cell_type": "markdown",
   "id": "2fbb3976",
   "metadata": {},
   "source": [
    "# C. "
   ]
  },
  {
   "cell_type": "code",
   "execution_count": 17,
   "id": "85705a00",
   "metadata": {},
   "outputs": [],
   "source": [
    "# Cubist Model Tree\n",
    "cubist_model = Cubist(random_state=0) # <- model parameters here\n",
    "cubist_model.fit(x_train, y_train);"
   ]
  },
  {
   "cell_type": "code",
   "execution_count": 18,
   "id": "d9b4b3c3",
   "metadata": {},
   "outputs": [
    {
     "data": {
      "image/png": "[encoded data removed]",
      "text/plain": [
       "<Figure size 432x288 with 1 Axes>"
      ]
     },
     "metadata": {
      "needs_background": "light"
     },
     "output_type": "display_data"
    }
   ],
   "source": [
    "# Plot feature importance\n",
    "plt.figure(figsize=(6, 4))\n",
    "importance = cubist_model.feature_importances_\n",
    "index = ~ importance['Conditions'].isnull().iloc[:, 0]\n",
    "importance_non_null = importance[index].iloc[:, 0:3]\n",
    "importance_non_null\n",
    "plt.bar(importance_non_null.Variable, importance_non_null.Conditions);"
   ]
  },
  {
   "cell_type": "code",
   "execution_count": 19,
   "id": "9184df17",
   "metadata": {},
   "outputs": [
    {
     "name": "stdout",
     "output_type": "stream",
     "text": [
      "Train RMSE is 281885.81\n",
      "Test  RMSE is 317660.4\n"
     ]
    }
   ],
   "source": [
    "train_rmse = mean_squared_error(y_train, cubist_model.predict(x_train), squared=False)\n",
    "test_rmse = mean_squared_error(y_test, cubist_model.predict(x_test), squared=False)\n",
    "print(f\"Train RMSE is {np.round(train_rmse, 2)}\")\n",
    "print(f\"Test  RMSE is {np.round(test_rmse, 2)}\")"
   ]
  },
  {
   "cell_type": "code",
   "execution_count": 20,
   "id": "8940fa9c",
   "metadata": {},
   "outputs": [],
   "source": [
    "#Cubist().get_params()\n",
    "#DecisionTreeRegressor().get_params()"
   ]
  },
  {
   "cell_type": "code",
   "execution_count": 21,
   "id": "96bc071f",
   "metadata": {},
   "outputs": [],
   "source": [
    "tune_parm_space = [{'n_committees':[1, 2, 3, 4, 5]},\n",
    "                   \n",
    "                   {'n_committees':[1, 2, 3, 4, 5],\n",
    "                    'neighbors':   [1, 2, 3, 4, 5],\n",
    "                   'composite':    [True]\n",
    "                   }\n",
    "                  ]\n",
    "cubist_model = GridSearchCV(Cubist(random_state=0), tune_parm_space, cv=5)\n",
    "cubist_model.fit(x_train, y_train);"
   ]
  },
  {
   "cell_type": "code",
   "execution_count": 22,
   "id": "b1c116bb",
   "metadata": {},
   "outputs": [
    {
     "data": {
      "text/plain": [
       "{'n_committees': 4}"
      ]
     },
     "execution_count": 22,
     "metadata": {},
     "output_type": "execute_result"
    }
   ],
   "source": [
    "cubist_model.best_params_"
   ]
  },
  {
   "cell_type": "code",
   "execution_count": 23,
   "id": "e441042b",
   "metadata": {},
   "outputs": [
    {
     "name": "stdout",
     "output_type": "stream",
     "text": [
      "Train RMSE is 282687.02\n",
      "Test  RMSE is 319384.75\n"
     ]
    }
   ],
   "source": [
    "train_rmse = mean_squared_error(y_train, cubist_model.predict(x_train), squared=False)\n",
    "test_rmse = mean_squared_error(y_test, cubist_model.predict(x_test), squared=False)\n",
    "print(f\"Train RMSE is {np.round(train_rmse, 2)}\")\n",
    "print(f\"Test  RMSE is {np.round(test_rmse, 2)}\")"
   ]
  },
  {
   "cell_type": "code",
   "execution_count": 24,
   "id": "bab4b175",
   "metadata": {},
   "outputs": [
    {
     "data": {
      "text/plain": [
       "8"
      ]
     },
     "execution_count": 24,
     "metadata": {},
     "output_type": "execute_result"
    }
   ],
   "source": [
    "len(y_var)\n"
   ]
  },
  {
   "cell_type": "code",
   "execution_count": 25,
   "id": "a35d91b2",
   "metadata": {},
   "outputs": [
    {
     "data": {
      "image/png": "[encoded data removed]",
      "text/plain": [
       "<Figure size 1080x288 with 3 Axes>"
      ]
     },
     "metadata": {
      "needs_background": "light"
     },
     "output_type": "display_data"
    }
   ],
   "source": [
    "#initialize figure\n",
    "vrb_plot = ['Top 10s', 'Cuts Made', 'Wins']\n",
    "fig, axes = plt.subplots(len([y_var]), len(vrb_plot), figsize=(15, 4), sharex=False, sharey=True)\n",
    "# Plot digits on each subplot\n",
    "for i, ax in enumerate(axes.ravel()):\n",
    "    x_var = vrb_plot[i]\n",
    "    sns.scatterplot(ax=ax, x=df_x[x_var], y=y)\n",
    "\n",
    "#plt.xticks([]) # to remove x tick marks\n",
    "#plt.yticks([]) # to remove y tick marks\n",
    "plt.show()"
   ]
  },
  {
   "cell_type": "code",
   "execution_count": null,
   "id": "b7d0e52f",
   "metadata": {},
   "outputs": [],
   "source": []
  }
 ],
 "metadata": {
  "kernelspec": {
   "display_name": "Python 3 (ipykernel)",
   "language": "python",
   "name": "python3"
  },
  "language_info": {
   "codemirror_mode": {
    "name": "ipython",
    "version": 3
   },
   "file_extension": ".py",
   "mimetype": "text/x-python",
   "name": "python",
   "nbconvert_exporter": "python",
   "pygments_lexer": "ipython3",
   "version": "3.8.10"
  }
 },
 "nbformat": 4,
 "nbformat_minor": 5
}
