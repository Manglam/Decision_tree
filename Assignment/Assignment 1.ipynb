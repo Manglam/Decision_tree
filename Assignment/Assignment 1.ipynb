{
 "cells": [
  {
   "cell_type": "markdown",
   "id": "2473dd2a",
   "metadata": {},
   "source": [
    "# Assignment 1\n",
    "Consider the dataset Assignment01_Lasagna_Triers.xlsx\n",
    "File location: https://drive.google.com/drive/folders/1Jl8iDu7nGmrqCECbrLqmVafgwE5PYfiU\n",
    "\n",
    "The file contains details of people in an area who have either tried Lasagna or not in an Italian restaurant chain. \n",
    "Train a decision tree classifier using the given data to predict whether someone has tried Lasagna or not.\n",
    "Use a 80/20 split for train/test. \n",
    "    \n",
    "    1) What is the train and test accuracy score?\n",
    "    2) Which features come out to be important?\n",
    "    3) Does grouping 'age' and 'income' into 5 categories each, improve the  prediction score?"
   ]
  },
  {
   "cell_type": "code",
   "execution_count": 1,
   "id": "c6d54ee2",
   "metadata": {},
   "outputs": [],
   "source": [
    "import pandas as pd\n",
    "import numpy as np\n",
    "\n",
    "from sklearn.model_selection import train_test_split, cross_val_score, GridSearchCV\n",
    "from sklearn.tree import DecisionTreeClassifier, plot_tree, export_text\n",
    "import matplotlib.pyplot as plt\n",
    "\n",
    "import warnings\n",
    "warnings.filterwarnings(\"ignore\")"
   ]
  },
  {
   "cell_type": "code",
   "execution_count": 2,
   "id": "074b6cb1",
   "metadata": {},
   "outputs": [
    {
     "name": "stdout",
     "output_type": "stream",
     "text": [
      "(856, 13)\n"
     ]
    },
    {
     "data": {
      "text/html": [
       "<div>\n",
       "<style scoped>\n",
       "    .dataframe tbody tr th:only-of-type {\n",
       "        vertical-align: middle;\n",
       "    }\n",
       "\n",
       "    .dataframe tbody tr th {\n",
       "        vertical-align: top;\n",
       "    }\n",
       "\n",
       "    .dataframe thead th {\n",
       "        text-align: right;\n",
       "    }\n",
       "</style>\n",
       "<table border=\"1\" class=\"dataframe\">\n",
       "  <thead>\n",
       "    <tr style=\"text-align: right;\">\n",
       "      <th></th>\n",
       "      <th>Person</th>\n",
       "      <th>Age</th>\n",
       "      <th>Weight</th>\n",
       "      <th>Income</th>\n",
       "      <th>Pay Type</th>\n",
       "      <th>Car Value</th>\n",
       "      <th>CC Debt</th>\n",
       "      <th>Gender</th>\n",
       "      <th>Live Alone</th>\n",
       "      <th>Dwell Type</th>\n",
       "      <th>Mall Trips</th>\n",
       "      <th>Nbhd</th>\n",
       "      <th>Have Tried</th>\n",
       "    </tr>\n",
       "  </thead>\n",
       "  <tbody>\n",
       "    <tr>\n",
       "      <th>0</th>\n",
       "      <td>1</td>\n",
       "      <td>48</td>\n",
       "      <td>175</td>\n",
       "      <td>65500</td>\n",
       "      <td>Hourly</td>\n",
       "      <td>2190</td>\n",
       "      <td>3510</td>\n",
       "      <td>Male</td>\n",
       "      <td>No</td>\n",
       "      <td>Home</td>\n",
       "      <td>7</td>\n",
       "      <td>East</td>\n",
       "      <td>No</td>\n",
       "    </tr>\n",
       "    <tr>\n",
       "      <th>1</th>\n",
       "      <td>2</td>\n",
       "      <td>33</td>\n",
       "      <td>202</td>\n",
       "      <td>29100</td>\n",
       "      <td>Hourly</td>\n",
       "      <td>2110</td>\n",
       "      <td>740</td>\n",
       "      <td>Female</td>\n",
       "      <td>No</td>\n",
       "      <td>Condo</td>\n",
       "      <td>4</td>\n",
       "      <td>East</td>\n",
       "      <td>Yes</td>\n",
       "    </tr>\n",
       "    <tr>\n",
       "      <th>2</th>\n",
       "      <td>3</td>\n",
       "      <td>51</td>\n",
       "      <td>188</td>\n",
       "      <td>32200</td>\n",
       "      <td>Salaried</td>\n",
       "      <td>5140</td>\n",
       "      <td>910</td>\n",
       "      <td>Male</td>\n",
       "      <td>No</td>\n",
       "      <td>Condo</td>\n",
       "      <td>1</td>\n",
       "      <td>East</td>\n",
       "      <td>No</td>\n",
       "    </tr>\n",
       "    <tr>\n",
       "      <th>3</th>\n",
       "      <td>4</td>\n",
       "      <td>56</td>\n",
       "      <td>244</td>\n",
       "      <td>19000</td>\n",
       "      <td>Hourly</td>\n",
       "      <td>700</td>\n",
       "      <td>1620</td>\n",
       "      <td>Female</td>\n",
       "      <td>No</td>\n",
       "      <td>Home</td>\n",
       "      <td>3</td>\n",
       "      <td>West</td>\n",
       "      <td>No</td>\n",
       "    </tr>\n",
       "    <tr>\n",
       "      <th>4</th>\n",
       "      <td>5</td>\n",
       "      <td>28</td>\n",
       "      <td>218</td>\n",
       "      <td>81400</td>\n",
       "      <td>Salaried</td>\n",
       "      <td>26620</td>\n",
       "      <td>600</td>\n",
       "      <td>Male</td>\n",
       "      <td>No</td>\n",
       "      <td>Apt</td>\n",
       "      <td>3</td>\n",
       "      <td>West</td>\n",
       "      <td>Yes</td>\n",
       "    </tr>\n",
       "  </tbody>\n",
       "</table>\n",
       "</div>"
      ],
      "text/plain": [
       "   Person  Age  Weight  Income  Pay Type  Car Value  CC Debt  Gender  \\\n",
       "0       1   48     175   65500    Hourly       2190     3510    Male   \n",
       "1       2   33     202   29100    Hourly       2110      740  Female   \n",
       "2       3   51     188   32200  Salaried       5140      910    Male   \n",
       "3       4   56     244   19000    Hourly        700     1620  Female   \n",
       "4       5   28     218   81400  Salaried      26620      600    Male   \n",
       "\n",
       "  Live Alone Dwell Type  Mall Trips  Nbhd Have Tried  \n",
       "0         No       Home           7  East         No  \n",
       "1         No      Condo           4  East        Yes  \n",
       "2         No      Condo           1  East         No  \n",
       "3         No       Home           3  West         No  \n",
       "4         No        Apt           3  West        Yes  "
      ]
     },
     "execution_count": 2,
     "metadata": {},
     "output_type": "execute_result"
    }
   ],
   "source": [
    "df = pd.read_excel(\"Assignment01_Lasagna_Triers.xlsx\", sheet_name=\"Data\")\n",
    "print(df.shape)\n",
    "df.head()"
   ]
  },
  {
   "cell_type": "code",
   "execution_count": 3,
   "id": "826cf79d",
   "metadata": {},
   "outputs": [],
   "source": [
    "#df.info() # very clean data set\n",
    "#df.columns"
   ]
  },
  {
   "cell_type": "markdown",
   "id": "7efe0ed5",
   "metadata": {},
   "source": [
    "# Question 1 and 2"
   ]
  },
  {
   "cell_type": "code",
   "execution_count": 4,
   "id": "2071c2af",
   "metadata": {},
   "outputs": [
    {
     "data": {
      "text/html": [
       "<div>\n",
       "<style scoped>\n",
       "    .dataframe tbody tr th:only-of-type {\n",
       "        vertical-align: middle;\n",
       "    }\n",
       "\n",
       "    .dataframe tbody tr th {\n",
       "        vertical-align: top;\n",
       "    }\n",
       "\n",
       "    .dataframe thead th {\n",
       "        text-align: right;\n",
       "    }\n",
       "</style>\n",
       "<table border=\"1\" class=\"dataframe\">\n",
       "  <thead>\n",
       "    <tr style=\"text-align: right;\">\n",
       "      <th></th>\n",
       "      <th>Person</th>\n",
       "      <th>Age</th>\n",
       "      <th>Weight</th>\n",
       "      <th>Income</th>\n",
       "      <th>Car Value</th>\n",
       "      <th>CC Debt</th>\n",
       "      <th>Mall Trips</th>\n",
       "      <th>Have Tried</th>\n",
       "      <th>Pay Type_Hourly</th>\n",
       "      <th>Pay Type_Salaried</th>\n",
       "      <th>...</th>\n",
       "      <th>Gender_Male</th>\n",
       "      <th>Live Alone_No</th>\n",
       "      <th>Live Alone_Yes</th>\n",
       "      <th>Dwell Type_Apt</th>\n",
       "      <th>Dwell Type_Condo</th>\n",
       "      <th>Dwell Type_Home</th>\n",
       "      <th>Nbhd_East</th>\n",
       "      <th>Nbhd_South</th>\n",
       "      <th>Nbhd_West</th>\n",
       "      <th>target</th>\n",
       "    </tr>\n",
       "  </thead>\n",
       "  <tbody>\n",
       "    <tr>\n",
       "      <th>0</th>\n",
       "      <td>1</td>\n",
       "      <td>48</td>\n",
       "      <td>175</td>\n",
       "      <td>65500</td>\n",
       "      <td>2190</td>\n",
       "      <td>3510</td>\n",
       "      <td>7</td>\n",
       "      <td>No</td>\n",
       "      <td>1</td>\n",
       "      <td>0</td>\n",
       "      <td>...</td>\n",
       "      <td>1</td>\n",
       "      <td>1</td>\n",
       "      <td>0</td>\n",
       "      <td>0</td>\n",
       "      <td>0</td>\n",
       "      <td>1</td>\n",
       "      <td>1</td>\n",
       "      <td>0</td>\n",
       "      <td>0</td>\n",
       "      <td>0</td>\n",
       "    </tr>\n",
       "    <tr>\n",
       "      <th>1</th>\n",
       "      <td>2</td>\n",
       "      <td>33</td>\n",
       "      <td>202</td>\n",
       "      <td>29100</td>\n",
       "      <td>2110</td>\n",
       "      <td>740</td>\n",
       "      <td>4</td>\n",
       "      <td>Yes</td>\n",
       "      <td>1</td>\n",
       "      <td>0</td>\n",
       "      <td>...</td>\n",
       "      <td>0</td>\n",
       "      <td>1</td>\n",
       "      <td>0</td>\n",
       "      <td>0</td>\n",
       "      <td>1</td>\n",
       "      <td>0</td>\n",
       "      <td>1</td>\n",
       "      <td>0</td>\n",
       "      <td>0</td>\n",
       "      <td>1</td>\n",
       "    </tr>\n",
       "  </tbody>\n",
       "</table>\n",
       "<p>2 rows × 21 columns</p>\n",
       "</div>"
      ],
      "text/plain": [
       "   Person  Age  Weight  Income  Car Value  CC Debt  Mall Trips Have Tried  \\\n",
       "0       1   48     175   65500       2190     3510           7         No   \n",
       "1       2   33     202   29100       2110      740           4        Yes   \n",
       "\n",
       "   Pay Type_Hourly  Pay Type_Salaried  ...  Gender_Male  Live Alone_No  \\\n",
       "0                1                  0  ...            1              1   \n",
       "1                1                  0  ...            0              1   \n",
       "\n",
       "   Live Alone_Yes  Dwell Type_Apt  Dwell Type_Condo  Dwell Type_Home  \\\n",
       "0               0               0                 0                1   \n",
       "1               0               0                 1                0   \n",
       "\n",
       "   Nbhd_East  Nbhd_South  Nbhd_West  target  \n",
       "0          1           0          0       0  \n",
       "1          1           0          0       1  \n",
       "\n",
       "[2 rows x 21 columns]"
      ]
     },
     "execution_count": 4,
     "metadata": {},
     "output_type": "execute_result"
    }
   ],
   "source": [
    "cat_var_list = ['Pay Type', 'Gender', 'Live Alone', 'Dwell Type', 'Nbhd']\n",
    "num_var_list = ['Age', 'Weight', 'Income', 'Car Value', 'CC Debt', 'Mall Trips']\n",
    "df = pd.get_dummies(df, columns=cat_var_list)\n",
    "df['target'] = np.where(df['Have Tried'] == \"Yes\", 1, 0)\n",
    "df.head(2)"
   ]
  },
  {
   "cell_type": "code",
   "execution_count": 5,
   "id": "96a1a21c",
   "metadata": {},
   "outputs": [],
   "source": [
    "x_var = ['Pay Type_Hourly', 'Pay Type_Salaried', 'Gender_Female', 'Gender_Male', 'Live Alone_No', \n",
    "         'Live Alone_Yes', 'Dwell Type_Apt', 'Dwell Type_Condo', 'Dwell Type_Home', 'Nbhd_East', 'Nbhd_South', 'Nbhd_West'\n",
    "        ] + num_var_list\n",
    "y_var = 'target'"
   ]
  },
  {
   "cell_type": "code",
   "execution_count": 6,
   "id": "7eb95ea5",
   "metadata": {},
   "outputs": [
    {
     "data": {
      "text/html": [
       "<div>\n",
       "<style scoped>\n",
       "    .dataframe tbody tr th:only-of-type {\n",
       "        vertical-align: middle;\n",
       "    }\n",
       "\n",
       "    .dataframe tbody tr th {\n",
       "        vertical-align: top;\n",
       "    }\n",
       "\n",
       "    .dataframe thead th {\n",
       "        text-align: right;\n",
       "    }\n",
       "</style>\n",
       "<table border=\"1\" class=\"dataframe\">\n",
       "  <thead>\n",
       "    <tr style=\"text-align: right;\">\n",
       "      <th>target</th>\n",
       "      <th>0</th>\n",
       "      <th>1</th>\n",
       "    </tr>\n",
       "    <tr>\n",
       "      <th>Have Tried</th>\n",
       "      <th></th>\n",
       "      <th></th>\n",
       "    </tr>\n",
       "  </thead>\n",
       "  <tbody>\n",
       "    <tr>\n",
       "      <th>No</th>\n",
       "      <td>361</td>\n",
       "      <td>0</td>\n",
       "    </tr>\n",
       "    <tr>\n",
       "      <th>Yes</th>\n",
       "      <td>0</td>\n",
       "      <td>495</td>\n",
       "    </tr>\n",
       "  </tbody>\n",
       "</table>\n",
       "</div>"
      ],
      "text/plain": [
       "target        0    1\n",
       "Have Tried          \n",
       "No          361    0\n",
       "Yes           0  495"
      ]
     },
     "execution_count": 6,
     "metadata": {},
     "output_type": "execute_result"
    }
   ],
   "source": [
    "# varify encoding\n",
    "pd.crosstab(df['Have Tried'], df['target'])"
   ]
  },
  {
   "cell_type": "code",
   "execution_count": 7,
   "id": "2446f94a",
   "metadata": {},
   "outputs": [],
   "source": [
    "# perform 80:20 split for training and validation\n",
    "x_train, x_test, y_train, y_test = train_test_split(df[x_var], df[y_var], test_size=0.2, random_state=0, stratify=df[y_var])"
   ]
  },
  {
   "cell_type": "code",
   "execution_count": 8,
   "id": "9b6d1e2c",
   "metadata": {},
   "outputs": [
    {
     "name": "stdout",
     "output_type": "stream",
     "text": [
      "(684, 18)\n",
      "(684,)\n"
     ]
    }
   ],
   "source": [
    "print(x_train.shape)\n",
    "print(y_train.shape)"
   ]
  },
  {
   "cell_type": "code",
   "execution_count": 9,
   "id": "2f1d8378",
   "metadata": {},
   "outputs": [],
   "source": [
    "# Get all tunable parameters for decision tree\n",
    "#DecisionTreeClassifier().get_params()"
   ]
  },
  {
   "cell_type": "code",
   "execution_count": 10,
   "id": "2d2906e0",
   "metadata": {},
   "outputs": [
    {
     "data": {
      "text/plain": [
       "GridSearchCV(cv=5, estimator=DecisionTreeClassifier(),\n",
       "             param_grid={'criterion': ['gini', 'entropy'],\n",
       "                         'max_depth': range(1, 20),\n",
       "                         'min_samples_leaf': range(1, 20),\n",
       "                         'min_samples_split': range(1, 20)})"
      ]
     },
     "execution_count": 10,
     "metadata": {},
     "output_type": "execute_result"
    }
   ],
   "source": [
    "# perform a 5 fold cross-validation to get best parameters for model training based on accuracy\n",
    "tune_parm_space = {'min_samples_split':range(1, 20),\n",
    "                   'max_depth':range(1, 20),\n",
    "                   'criterion':['gini', 'entropy'],\n",
    "                   'min_samples_leaf':range(1, 20)\n",
    "                  }\n",
    "\n",
    "clf = GridSearchCV(DecisionTreeClassifier(), tune_parm_space, cv=5)\n",
    "clf.fit(x_train, y_train)"
   ]
  },
  {
   "cell_type": "code",
   "execution_count": 11,
   "id": "1e8ee7e6",
   "metadata": {},
   "outputs": [
    {
     "name": "stdout",
     "output_type": "stream",
     "text": [
      "DecisionTreeClassifier(criterion='entropy', max_depth=4, min_samples_leaf=17)\n",
      "{'criterion': 'entropy', 'max_depth': 4, 'min_samples_leaf': 17, 'min_samples_split': 2}\n",
      "0.8084585659081152\n"
     ]
    }
   ],
   "source": [
    "print(clf.best_estimator_)\n",
    "print(clf.best_params_)\n",
    "print(clf.best_score_)"
   ]
  },
  {
   "cell_type": "code",
   "execution_count": 12,
   "id": "7be2f1d5",
   "metadata": {},
   "outputs": [
    {
     "name": "stdout",
     "output_type": "stream",
     "text": [
      "The train accuracy is     82.02%\n",
      "The test accuracy is      77.33%\n",
      "Without model accuracy is 57.89%\n"
     ]
    }
   ],
   "source": [
    "train_accuracy = clf.best_estimator_.score(x_train, y_train)\n",
    "test_accuracy = clf.best_estimator_.score(x_test, y_test)\n",
    "without_model_accuracy = y_train.value_counts()[1] / (np.sum(y_train.value_counts())) # min accuracy with only 1 as prediction\n",
    "\n",
    "print(f\"The train accuracy is     {np.round(train_accuracy * 100, 2)}%\")\n",
    "print(f\"The test accuracy is      {np.round(test_accuracy * 100, 2)}%\")\n",
    "print(f\"Without model accuracy is {np.round(without_model_accuracy * 100, 2)}%\")"
   ]
  },
  {
   "cell_type": "code",
   "execution_count": 13,
   "id": "f9ed81d5",
   "metadata": {},
   "outputs": [
    {
     "data": {
      "text/plain": [
       "Mall Trips           0.620779\n",
       "Nbhd_West            0.157280\n",
       "Pay Type_Salaried    0.092745\n",
       "Age                  0.077253\n",
       "Nbhd_East            0.039684\n",
       "Income               0.012258\n",
       "Live Alone_Yes       0.000000\n",
       "Dwell Type_Apt       0.000000\n",
       "Dwell Type_Condo     0.000000\n",
       "Dwell Type_Home      0.000000\n",
       "Live Alone_No        0.000000\n",
       "Nbhd_South           0.000000\n",
       "Gender_Male          0.000000\n",
       "Gender_Female        0.000000\n",
       "Weight               0.000000\n",
       "Car Value            0.000000\n",
       "CC Debt              0.000000\n",
       "Pay Type_Hourly      0.000000\n",
       "dtype: float64"
      ]
     },
     "execution_count": 13,
     "metadata": {},
     "output_type": "execute_result"
    }
   ],
   "source": [
    "feature_importance = pd.Series(clf.best_estimator_.feature_importances_)\n",
    "feature_importance.index = x_var\n",
    "feature_importance.sort_values(ascending=False)"
   ]
  },
  {
   "cell_type": "markdown",
   "id": "0b11b604",
   "metadata": {},
   "source": [
    "# Question 3\n",
    "Does grouping `age` and `income` into 5 categories each, improve the  prediction score?"
   ]
  },
  {
   "cell_type": "code",
   "execution_count": 14,
   "id": "6c6f41f4",
   "metadata": {},
   "outputs": [
    {
     "data": {
      "text/html": [
       "<div>\n",
       "<style scoped>\n",
       "    .dataframe tbody tr th:only-of-type {\n",
       "        vertical-align: middle;\n",
       "    }\n",
       "\n",
       "    .dataframe tbody tr th {\n",
       "        vertical-align: top;\n",
       "    }\n",
       "\n",
       "    .dataframe thead th {\n",
       "        text-align: right;\n",
       "    }\n",
       "</style>\n",
       "<table border=\"1\" class=\"dataframe\">\n",
       "  <thead>\n",
       "    <tr style=\"text-align: right;\">\n",
       "      <th></th>\n",
       "      <th>Person</th>\n",
       "      <th>Age</th>\n",
       "      <th>Weight</th>\n",
       "      <th>Income</th>\n",
       "      <th>Car Value</th>\n",
       "      <th>CC Debt</th>\n",
       "      <th>Mall Trips</th>\n",
       "      <th>Have Tried</th>\n",
       "      <th>Pay Type_Hourly</th>\n",
       "      <th>Pay Type_Salaried</th>\n",
       "      <th>...</th>\n",
       "      <th>Age_bucket_(30.0, 34.0]</th>\n",
       "      <th>Age_bucket_(34.0, 40.0]</th>\n",
       "      <th>Age_bucket_(40.0, 48.0]</th>\n",
       "      <th>Age_bucket_(48.0, 64.0]</th>\n",
       "      <th>Income_bucket_(2599.999, 21700.0]</th>\n",
       "      <th>Income_bucket_(21700.0, 33700.0]</th>\n",
       "      <th>Income_bucket_(33700.0, 46900.0]</th>\n",
       "      <th>Income_bucket_(46900.0, 64300.0]</th>\n",
       "      <th>Income_bucket_(64300.0, 190500.0]</th>\n",
       "      <th>target</th>\n",
       "    </tr>\n",
       "  </thead>\n",
       "  <tbody>\n",
       "    <tr>\n",
       "      <th>0</th>\n",
       "      <td>1</td>\n",
       "      <td>48</td>\n",
       "      <td>175</td>\n",
       "      <td>65500</td>\n",
       "      <td>2190</td>\n",
       "      <td>3510</td>\n",
       "      <td>7</td>\n",
       "      <td>No</td>\n",
       "      <td>1</td>\n",
       "      <td>0</td>\n",
       "      <td>...</td>\n",
       "      <td>0</td>\n",
       "      <td>0</td>\n",
       "      <td>1</td>\n",
       "      <td>0</td>\n",
       "      <td>0</td>\n",
       "      <td>0</td>\n",
       "      <td>0</td>\n",
       "      <td>0</td>\n",
       "      <td>1</td>\n",
       "      <td>0</td>\n",
       "    </tr>\n",
       "    <tr>\n",
       "      <th>1</th>\n",
       "      <td>2</td>\n",
       "      <td>33</td>\n",
       "      <td>202</td>\n",
       "      <td>29100</td>\n",
       "      <td>2110</td>\n",
       "      <td>740</td>\n",
       "      <td>4</td>\n",
       "      <td>Yes</td>\n",
       "      <td>1</td>\n",
       "      <td>0</td>\n",
       "      <td>...</td>\n",
       "      <td>1</td>\n",
       "      <td>0</td>\n",
       "      <td>0</td>\n",
       "      <td>0</td>\n",
       "      <td>0</td>\n",
       "      <td>1</td>\n",
       "      <td>0</td>\n",
       "      <td>0</td>\n",
       "      <td>0</td>\n",
       "      <td>1</td>\n",
       "    </tr>\n",
       "  </tbody>\n",
       "</table>\n",
       "<p>2 rows × 31 columns</p>\n",
       "</div>"
      ],
      "text/plain": [
       "   Person  Age  Weight  Income  Car Value  CC Debt  Mall Trips Have Tried  \\\n",
       "0       1   48     175   65500       2190     3510           7         No   \n",
       "1       2   33     202   29100       2110      740           4        Yes   \n",
       "\n",
       "   Pay Type_Hourly  Pay Type_Salaried  ...  Age_bucket_(30.0, 34.0]  \\\n",
       "0                1                  0  ...                        0   \n",
       "1                1                  0  ...                        1   \n",
       "\n",
       "   Age_bucket_(34.0, 40.0]  Age_bucket_(40.0, 48.0]  Age_bucket_(48.0, 64.0]  \\\n",
       "0                        0                        1                        0   \n",
       "1                        0                        0                        0   \n",
       "\n",
       "   Income_bucket_(2599.999, 21700.0]  Income_bucket_(21700.0, 33700.0]  \\\n",
       "0                                  0                                 0   \n",
       "1                                  0                                 1   \n",
       "\n",
       "   Income_bucket_(33700.0, 46900.0]  Income_bucket_(46900.0, 64300.0]  \\\n",
       "0                                 0                                 0   \n",
       "1                                 0                                 0   \n",
       "\n",
       "   Income_bucket_(64300.0, 190500.0]  target  \n",
       "0                                  1       0  \n",
       "1                                  0       1  \n",
       "\n",
       "[2 rows x 31 columns]"
      ]
     },
     "execution_count": 14,
     "metadata": {},
     "output_type": "execute_result"
    }
   ],
   "source": [
    "df = pd.read_excel(\"Assignment01_Lasagna_Triers.xlsx\", sheet_name=\"Data\")\n",
    "\n",
    "# divide age and income into 5 equal bucket as per population, just like decile divides into 10 equal population bucket\n",
    "df['Age_bucket'] = pd.qcut(df['Age'], q=5)\n",
    "df['Income_bucket'] = pd.qcut(df['Income'], q=5)\n",
    "\n",
    "# Add dummies for categorical variables\n",
    "cat_var_list = ['Pay Type', 'Gender', 'Live Alone', 'Dwell Type', 'Nbhd', 'Age_bucket', 'Income_bucket']\n",
    "num_var_list = ['Weight', 'Car Value', 'CC Debt', 'Mall Trips']\n",
    "df = pd.get_dummies(df, columns=cat_var_list)\n",
    "df['target'] = np.where(df['Have Tried'] == \"Yes\", 1, 0)\n",
    "\n",
    "df.head(2)"
   ]
  },
  {
   "cell_type": "code",
   "execution_count": 15,
   "id": "ae02e2fe",
   "metadata": {},
   "outputs": [],
   "source": [
    "x_var = ['Pay Type_Hourly', 'Pay Type_Salaried', 'Gender_Female', 'Gender_Male', 'Live Alone_No', 'Live Alone_Yes',\n",
    "         'Dwell Type_Apt', 'Dwell Type_Condo', 'Dwell Type_Home', 'Nbhd_East', 'Nbhd_South', 'Nbhd_West', \n",
    "         'Age_bucket_(21.999, 30.0]', 'Age_bucket_(30.0, 34.0]', 'Age_bucket_(34.0, 40.0]', 'Age_bucket_(40.0, 48.0]', \n",
    "         'Age_bucket_(48.0, 64.0]', 'Income_bucket_(2599.999, 21700.0]', 'Income_bucket_(21700.0, 33700.0]', \n",
    "         'Income_bucket_(33700.0, 46900.0]', 'Income_bucket_(46900.0, 64300.0]', 'Income_bucket_(64300.0, 190500.0]'\n",
    "        ] + num_var_list\n",
    "y_var = 'target'\n",
    "#df.columns\n",
    "\n",
    "x_train, x_test, y_train, y_test = train_test_split(df[x_var], df[y_var], test_size=0.2, random_state=0, stratify=df[y_var])"
   ]
  },
  {
   "cell_type": "code",
   "execution_count": 16,
   "id": "e66350cc",
   "metadata": {},
   "outputs": [
    {
     "data": {
      "text/plain": [
       "GridSearchCV(cv=5, estimator=DecisionTreeClassifier(),\n",
       "             param_grid={'criterion': ['gini', 'entropy'],\n",
       "                         'max_depth': range(1, 20),\n",
       "                         'min_samples_leaf': range(1, 20),\n",
       "                         'min_samples_split': range(1, 20)})"
      ]
     },
     "execution_count": 16,
     "metadata": {},
     "output_type": "execute_result"
    }
   ],
   "source": [
    "# perform a 5 fold cross-validation to get best parameters for model training based on accuracy\n",
    "tune_parm_space = {'min_samples_split':range(1, 20),\n",
    "                   'max_depth':range(1, 20),\n",
    "                   'criterion':['gini', 'entropy'],\n",
    "                   'min_samples_leaf':range(1, 20)\n",
    "                  }\n",
    "\n",
    "clf = GridSearchCV(DecisionTreeClassifier(), tune_parm_space, cv=5)\n",
    "clf.fit(x_train, y_train)"
   ]
  },
  {
   "cell_type": "code",
   "execution_count": 17,
   "id": "419e2675",
   "metadata": {},
   "outputs": [
    {
     "name": "stdout",
     "output_type": "stream",
     "text": [
      "DecisionTreeClassifier(max_depth=3, min_samples_leaf=19)\n",
      "{'criterion': 'gini', 'max_depth': 3, 'min_samples_leaf': 19, 'min_samples_split': 2}\n",
      "0.8084907685702019\n"
     ]
    }
   ],
   "source": [
    "print(clf.best_estimator_)\n",
    "print(clf.best_params_)\n",
    "print(clf.best_score_)"
   ]
  },
  {
   "cell_type": "code",
   "execution_count": 18,
   "id": "b42e112c",
   "metadata": {},
   "outputs": [
    {
     "name": "stdout",
     "output_type": "stream",
     "text": [
      "The train accuracy is     80.85%\n",
      "The test accuracy is      83.14%\n",
      "Without model accuracy is 57.89%\n"
     ]
    }
   ],
   "source": [
    "train_accuracy = clf.best_estimator_.score(x_train, y_train)\n",
    "test_accuracy = clf.best_estimator_.score(x_test, y_test)\n",
    "without_model_accuracy = y_train.value_counts()[1] / (np.sum(y_train.value_counts())) # min accuracy with only 1 as prediction\n",
    "\n",
    "print(f\"The train accuracy is     {np.round(train_accuracy * 100, 2)}%\")\n",
    "print(f\"The test accuracy is      {np.round(test_accuracy * 100, 2)}%\")\n",
    "print(f\"Without model accuracy is {np.round(without_model_accuracy * 100, 2)}%\")"
   ]
  },
  {
   "cell_type": "code",
   "execution_count": 19,
   "id": "6c9c8231",
   "metadata": {},
   "outputs": [
    {
     "data": {
      "text/plain": [
       "Mall Trips                           0.687594\n",
       "Nbhd_West                            0.198767\n",
       "Pay Type_Hourly                      0.097365\n",
       "Nbhd_East                            0.016274\n",
       "Gender_Male                          0.000000\n",
       "Age_bucket_(40.0, 48.0]              0.000000\n",
       "CC Debt                              0.000000\n",
       "Car Value                            0.000000\n",
       "Weight                               0.000000\n",
       "Income_bucket_(64300.0, 190500.0]    0.000000\n",
       "Income_bucket_(46900.0, 64300.0]     0.000000\n",
       "Income_bucket_(33700.0, 46900.0]     0.000000\n",
       "Income_bucket_(21700.0, 33700.0]     0.000000\n",
       "Income_bucket_(2599.999, 21700.0]    0.000000\n",
       "Age_bucket_(48.0, 64.0]              0.000000\n",
       "Age_bucket_(34.0, 40.0]              0.000000\n",
       "Live Alone_No                        0.000000\n",
       "Pay Type_Salaried                    0.000000\n",
       "Age_bucket_(21.999, 30.0]            0.000000\n",
       "Gender_Female                        0.000000\n",
       "Nbhd_South                           0.000000\n",
       "Dwell Type_Home                      0.000000\n",
       "Dwell Type_Condo                     0.000000\n",
       "Dwell Type_Apt                       0.000000\n",
       "Live Alone_Yes                       0.000000\n",
       "Age_bucket_(30.0, 34.0]              0.000000\n",
       "dtype: float64"
      ]
     },
     "execution_count": 19,
     "metadata": {},
     "output_type": "execute_result"
    }
   ],
   "source": [
    "feature_importance = pd.Series(clf.best_estimator_.feature_importances_)\n",
    "feature_importance.index = x_var\n",
    "feature_importance.sort_values(ascending=False)"
   ]
  },
  {
   "cell_type": "markdown",
   "id": "777a0fa8",
   "metadata": {},
   "source": [
    "# Answer\n",
    "\n",
    "    1. What is the train and test accuracy score?\n",
    "        The train accuracy is 82%, and test accuracy is 77.32%. \n",
    "        Without model accuracy is 57.55%, and so we can say that model is doing a better job, and this model can be used.\n",
    "        The cross-validation accuracy for best model, using grid search cv is 80.8%. This is different than the train \n",
    "        accuracy, since its the mean of cross-validation accuracy. \n",
    "    2. The feature importance is listed in below table:\n",
    "    \n",
    "|feature_name        | importance  |\n",
    "|------------------- | ----------- |\n",
    "|Mall Trips          | 0.620779    |\n",
    "|Nbhd_West           | 0.157280    |\n",
    "|Age                 | 0.077253    |\n",
    "|Pay Type_Hourly     | 0.056812    |\n",
    "|Nbhd_East           | 0.039684    |\n",
    "|Pay Type_Salaried   | 0.035933    |\n",
    "|Income              | 0.012258    |\n",
    "         \n",
    "         All other features, have zero importance.\n",
    "\n",
    "    3. Does grouping 'age' and 'income' into 5 categories each, improve the  prediction score?\n",
    "    \n",
    "|feature_name        | importance  |\n",
    "|------------------- | ----------- |\n",
    "|Mall Trips          | 0.687594    |\n",
    "|Nbhd_West           | 0.198767    |\n",
    "|Pay Type_Salaried   | 0.097365    |\n",
    "|Nbhd_East           | 0.016274    |\n",
    "\n",
    "        - The train accuracy is     80.85%\n",
    "        - The test accuracy is      83.14%\n",
    "        - Without model accuracy is 57.89%\n",
    "        \n",
    "        - In feature imprtance, we don't see zero importance for all featutes related to age and salary; we do see there is \n",
    "          some increase in test accuracy, but train set accuracy is similar as before. This could be because of change \n",
    "          in features of model, as before grouping 'age` and `income` were important variables with importance as 7.7% \n",
    "          and 1.2% respectively. But after grouping, we dont see age and income as important variables.\n",
    "        \n",
    "    "
   ]
  },
  {
   "cell_type": "code",
   "execution_count": null,
   "id": "5d366f57",
   "metadata": {},
   "outputs": [],
   "source": []
  }
 ],
 "metadata": {
  "kernelspec": {
   "display_name": "Python 3 (ipykernel)",
   "language": "python",
   "name": "python3"
  },
  "language_info": {
   "codemirror_mode": {
    "name": "ipython",
    "version": 3
   },
   "file_extension": ".py",
   "mimetype": "text/x-python",
   "name": "python",
   "nbconvert_exporter": "python",
   "pygments_lexer": "ipython3",
   "version": "3.8.10"
  }
 },
 "nbformat": 4,
 "nbformat_minor": 5
}
